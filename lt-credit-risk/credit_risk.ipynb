{
 "cells": [
  {
   "cell_type": "markdown",
   "metadata": {},
   "source": [
    "# Lending Tree Credit Risk\n",
    "\n",
    "### Dependencies and data"
   ]
  },
  {
   "cell_type": "code",
   "execution_count": 1,
   "metadata": {},
   "outputs": [],
   "source": [
    "# Dependencies\n",
    "from pathlib import Path\n",
    "from collections import Counter\n",
    "import numpy as np\n",
    "import pandas as pd\n",
    "import matplotlib as mpl\n",
    "import matplotlib.pyplot as plt\n",
    "import seaborn as sns\n",
    "\n",
    "from sklearn.preprocessing import LabelEncoder, StandardScaler\n",
    "from sklearn.model_selection import train_test_split, GridSearchCV\n",
    "from sklearn.linear_model import LogisticRegression\n",
    "from sklearn.tree import DecisionTreeClassifier\n",
    "from sklearn.ensemble import RandomForestClassifier\n",
    "from sklearn.metrics import accuracy_score, classification_report, confusion_matrix\n",
    "\n",
    "from imblearn.under_sampling import RandomUnderSampler, ClusterCentroids\n",
    "from imblearn.over_sampling import RandomOverSampler, SMOTE\n",
    "from imblearn.combine import SMOTEENN\n",
    "from imblearn.ensemble import EasyEnsembleClassifier, BalancedRandomForestClassifier\n",
    "from imblearn.metrics import classification_report_imbalanced\n",
    "\n",
    "# print(mpl.style.available)\n",
    "mpl.style.use('Solarize_Light2')\n",
    "%matplotlib inline"
   ]
  },
  {
   "cell_type": "code",
   "execution_count": 2,
   "metadata": {},
   "outputs": [
    {
     "name": "stdout",
     "output_type": "stream",
     "text": [
      "Notes offered by Prospectus (https://www.lendingclub.com/info/prospectus.action)\n",
      "\n",
      "\"id\",\"member_id\",\"loan_amnt\",\"funded_amnt\",\"funded_amnt_inv\",\"term\",\"int_rate\",\"installment\",\"grade\"\n",
      "\"\",\"\",\"20000\",\"20000\",\"20000\",\" 60 months\",\" 17.19%\",\"499.1\",\"C\",\"C5\",\"Front desk supervisor\",\"6 yea\n",
      "\"\",\"\",\"21225\",\"21225\",\"21225\",\" 60 months\",\" 14.74%\",\"502.05\",\"C\",\"C2\",\"ceo\",\"10+ years\",\"MORTGAGE\",\n",
      "\"\",\"\",\"5000\",\"5000\",\"5000\",\" 36 months\",\" 17.97%\",\"180.69\",\"D\",\"D1\",\"\",\"n/a\",\"MORTGAGE\",\"62000\",\"Not\n"
     ]
    }
   ],
   "source": [
    "# Inspect top rows in data\n",
    "with open(Path('data/loans_1q19.csv')) as f:\n",
    "    for i in range(5):\n",
    "        print(f.readline()[:100])"
   ]
  },
  {
   "cell_type": "code",
   "execution_count": 3,
   "metadata": {},
   "outputs": [
    {
     "name": "stdout",
     "output_type": "stream",
     "text": [
      "(115677, 144)\n"
     ]
    },
    {
     "data": {
      "text/html": [
       "<div>\n",
       "<style scoped>\n",
       "    .dataframe tbody tr th:only-of-type {\n",
       "        vertical-align: middle;\n",
       "    }\n",
       "\n",
       "    .dataframe tbody tr th {\n",
       "        vertical-align: top;\n",
       "    }\n",
       "\n",
       "    .dataframe thead th {\n",
       "        text-align: right;\n",
       "    }\n",
       "</style>\n",
       "<table border=\"1\" class=\"dataframe\">\n",
       "  <thead>\n",
       "    <tr style=\"text-align: right;\">\n",
       "      <th></th>\n",
       "      <th>id</th>\n",
       "      <th>member_id</th>\n",
       "      <th>loan_amnt</th>\n",
       "      <th>funded_amnt</th>\n",
       "      <th>funded_amnt_inv</th>\n",
       "      <th>term</th>\n",
       "      <th>int_rate</th>\n",
       "      <th>installment</th>\n",
       "      <th>grade</th>\n",
       "      <th>sub_grade</th>\n",
       "      <th>...</th>\n",
       "      <th>orig_projected_additional_accrued_interest</th>\n",
       "      <th>hardship_payoff_balance_amount</th>\n",
       "      <th>hardship_last_payment_amount</th>\n",
       "      <th>debt_settlement_flag</th>\n",
       "      <th>debt_settlement_flag_date</th>\n",
       "      <th>settlement_status</th>\n",
       "      <th>settlement_date</th>\n",
       "      <th>settlement_amount</th>\n",
       "      <th>settlement_percentage</th>\n",
       "      <th>settlement_term</th>\n",
       "    </tr>\n",
       "  </thead>\n",
       "  <tbody>\n",
       "    <tr>\n",
       "      <th>0</th>\n",
       "      <td>NaN</td>\n",
       "      <td>NaN</td>\n",
       "      <td>20000.0</td>\n",
       "      <td>20000.0</td>\n",
       "      <td>20000.0</td>\n",
       "      <td>60 months</td>\n",
       "      <td>17.19%</td>\n",
       "      <td>499.10</td>\n",
       "      <td>C</td>\n",
       "      <td>C5</td>\n",
       "      <td>...</td>\n",
       "      <td>NaN</td>\n",
       "      <td>NaN</td>\n",
       "      <td>NaN</td>\n",
       "      <td>N</td>\n",
       "      <td>NaN</td>\n",
       "      <td>NaN</td>\n",
       "      <td>NaN</td>\n",
       "      <td>NaN</td>\n",
       "      <td>NaN</td>\n",
       "      <td>NaN</td>\n",
       "    </tr>\n",
       "    <tr>\n",
       "      <th>1</th>\n",
       "      <td>NaN</td>\n",
       "      <td>NaN</td>\n",
       "      <td>21225.0</td>\n",
       "      <td>21225.0</td>\n",
       "      <td>21225.0</td>\n",
       "      <td>60 months</td>\n",
       "      <td>14.74%</td>\n",
       "      <td>502.05</td>\n",
       "      <td>C</td>\n",
       "      <td>C2</td>\n",
       "      <td>...</td>\n",
       "      <td>NaN</td>\n",
       "      <td>NaN</td>\n",
       "      <td>NaN</td>\n",
       "      <td>N</td>\n",
       "      <td>NaN</td>\n",
       "      <td>NaN</td>\n",
       "      <td>NaN</td>\n",
       "      <td>NaN</td>\n",
       "      <td>NaN</td>\n",
       "      <td>NaN</td>\n",
       "    </tr>\n",
       "    <tr>\n",
       "      <th>2</th>\n",
       "      <td>NaN</td>\n",
       "      <td>NaN</td>\n",
       "      <td>5000.0</td>\n",
       "      <td>5000.0</td>\n",
       "      <td>5000.0</td>\n",
       "      <td>36 months</td>\n",
       "      <td>17.97%</td>\n",
       "      <td>180.69</td>\n",
       "      <td>D</td>\n",
       "      <td>D1</td>\n",
       "      <td>...</td>\n",
       "      <td>NaN</td>\n",
       "      <td>NaN</td>\n",
       "      <td>NaN</td>\n",
       "      <td>N</td>\n",
       "      <td>NaN</td>\n",
       "      <td>NaN</td>\n",
       "      <td>NaN</td>\n",
       "      <td>NaN</td>\n",
       "      <td>NaN</td>\n",
       "      <td>NaN</td>\n",
       "    </tr>\n",
       "  </tbody>\n",
       "</table>\n",
       "<p>3 rows × 144 columns</p>\n",
       "</div>"
      ],
      "text/plain": [
       "    id  member_id  loan_amnt  funded_amnt  funded_amnt_inv        term  \\\n",
       "0  NaN        NaN    20000.0      20000.0          20000.0   60 months   \n",
       "1  NaN        NaN    21225.0      21225.0          21225.0   60 months   \n",
       "2  NaN        NaN     5000.0       5000.0           5000.0   36 months   \n",
       "\n",
       "  int_rate  installment grade sub_grade  ...  \\\n",
       "0   17.19%       499.10     C        C5  ...   \n",
       "1   14.74%       502.05     C        C2  ...   \n",
       "2   17.97%       180.69     D        D1  ...   \n",
       "\n",
       "  orig_projected_additional_accrued_interest hardship_payoff_balance_amount  \\\n",
       "0                                        NaN                            NaN   \n",
       "1                                        NaN                            NaN   \n",
       "2                                        NaN                            NaN   \n",
       "\n",
       "  hardship_last_payment_amount  debt_settlement_flag  \\\n",
       "0                          NaN                     N   \n",
       "1                          NaN                     N   \n",
       "2                          NaN                     N   \n",
       "\n",
       "  debt_settlement_flag_date settlement_status settlement_date  \\\n",
       "0                       NaN               NaN             NaN   \n",
       "1                       NaN               NaN             NaN   \n",
       "2                       NaN               NaN             NaN   \n",
       "\n",
       "  settlement_amount  settlement_percentage  settlement_term  \n",
       "0               NaN                    NaN              NaN  \n",
       "1               NaN                    NaN              NaN  \n",
       "2               NaN                    NaN              NaN  \n",
       "\n",
       "[3 rows x 144 columns]"
      ]
     },
     "execution_count": 3,
     "metadata": {},
     "output_type": "execute_result"
    }
   ],
   "source": [
    "# Data\n",
    "df = pd.read_csv(Path('data/loans_1q19.csv'), skiprows=1, low_memory=False)\n",
    "print(df.shape)\n",
    "df.head(3)"
   ]
  },
  {
   "cell_type": "markdown",
   "metadata": {},
   "source": [
    "### Drop unusable data"
   ]
  },
  {
   "cell_type": "code",
   "execution_count": 4,
   "metadata": {},
   "outputs": [
    {
     "data": {
      "text/plain": [
       "(115674, 97)"
      ]
     },
     "execution_count": 4,
     "metadata": {},
     "output_type": "execute_result"
    }
   ],
   "source": [
    "# Drop rows and columns with more than 10% its values missing\n",
    "df.dropna(axis=1, thresh=df.shape[0]*0.9, inplace=True) # drop cols\n",
    "df.dropna(axis=0, thresh=df.shape[1]*0.9, inplace=True) # drop rows\n",
    "df.shape"
   ]
  },
  {
   "cell_type": "code",
   "execution_count": 5,
   "metadata": {},
   "outputs": [
    {
     "data": {
      "text/plain": [
       "(115674, 87)"
      ]
     },
     "execution_count": 5,
     "metadata": {},
     "output_type": "execute_result"
    }
   ],
   "source": [
    "# Drop constant columns\n",
    "const_cols = df.nunique()[df.nunique() < 2].index # cols w/ 1 unique val\n",
    "df.drop(const_cols, axis=1, inplace=True)\n",
    "df.shape"
   ]
  },
  {
   "cell_type": "code",
   "execution_count": 6,
   "metadata": {},
   "outputs": [
    {
     "data": {
      "text/plain": [
       "(96839, 87)"
      ]
     },
     "execution_count": 6,
     "metadata": {},
     "output_type": "execute_result"
    }
   ],
   "source": [
    "# Drop newly issued loans\n",
    "df = df[df['loan_status'] != 'Issued']\n",
    "df.shape"
   ]
  },
  {
   "cell_type": "markdown",
   "metadata": {},
   "source": [
    "### Convert all columns to numeric"
   ]
  },
  {
   "cell_type": "code",
   "execution_count": 7,
   "metadata": {},
   "outputs": [
    {
     "data": {
      "text/html": [
       "<div>\n",
       "<style scoped>\n",
       "    .dataframe tbody tr th:only-of-type {\n",
       "        vertical-align: middle;\n",
       "    }\n",
       "\n",
       "    .dataframe tbody tr th {\n",
       "        vertical-align: top;\n",
       "    }\n",
       "\n",
       "    .dataframe thead th {\n",
       "        text-align: right;\n",
       "    }\n",
       "</style>\n",
       "<table border=\"1\" class=\"dataframe\">\n",
       "  <thead>\n",
       "    <tr style=\"text-align: right;\">\n",
       "      <th></th>\n",
       "      <th>term</th>\n",
       "      <th>int_rate</th>\n",
       "      <th>grade</th>\n",
       "      <th>sub_grade</th>\n",
       "      <th>emp_length</th>\n",
       "      <th>home_ownership</th>\n",
       "      <th>verification_status</th>\n",
       "      <th>issue_d</th>\n",
       "      <th>loan_status</th>\n",
       "      <th>purpose</th>\n",
       "      <th>title</th>\n",
       "      <th>zip_code</th>\n",
       "      <th>addr_state</th>\n",
       "      <th>earliest_cr_line</th>\n",
       "      <th>revol_util</th>\n",
       "      <th>initial_list_status</th>\n",
       "      <th>next_pymnt_d</th>\n",
       "      <th>last_credit_pull_d</th>\n",
       "      <th>application_type</th>\n",
       "    </tr>\n",
       "  </thead>\n",
       "  <tbody>\n",
       "    <tr>\n",
       "      <th>80</th>\n",
       "      <td>60 months</td>\n",
       "      <td>13.08%</td>\n",
       "      <td>B</td>\n",
       "      <td>B5</td>\n",
       "      <td>&lt; 1 year</td>\n",
       "      <td>MORTGAGE</td>\n",
       "      <td>Verified</td>\n",
       "      <td>Mar-2019</td>\n",
       "      <td>Fully Paid</td>\n",
       "      <td>debt_consolidation</td>\n",
       "      <td>Debt consolidation</td>\n",
       "      <td>240xx</td>\n",
       "      <td>VA</td>\n",
       "      <td>Jul-2005</td>\n",
       "      <td>66.7%</td>\n",
       "      <td>w</td>\n",
       "      <td>NaN</td>\n",
       "      <td>Apr-2019</td>\n",
       "      <td>Individual</td>\n",
       "    </tr>\n",
       "    <tr>\n",
       "      <th>82</th>\n",
       "      <td>36 months</td>\n",
       "      <td>22.50%</td>\n",
       "      <td>D</td>\n",
       "      <td>D3</td>\n",
       "      <td>10+ years</td>\n",
       "      <td>RENT</td>\n",
       "      <td>Not Verified</td>\n",
       "      <td>Mar-2019</td>\n",
       "      <td>Current</td>\n",
       "      <td>debt_consolidation</td>\n",
       "      <td>Debt consolidation</td>\n",
       "      <td>957xx</td>\n",
       "      <td>CA</td>\n",
       "      <td>Aug-2002</td>\n",
       "      <td>95.6%</td>\n",
       "      <td>w</td>\n",
       "      <td>May-2019</td>\n",
       "      <td>Apr-2019</td>\n",
       "      <td>Individual</td>\n",
       "    </tr>\n",
       "    <tr>\n",
       "      <th>93</th>\n",
       "      <td>36 months</td>\n",
       "      <td>17.19%</td>\n",
       "      <td>C</td>\n",
       "      <td>C5</td>\n",
       "      <td>9 years</td>\n",
       "      <td>RENT</td>\n",
       "      <td>Source Verified</td>\n",
       "      <td>Mar-2019</td>\n",
       "      <td>Current</td>\n",
       "      <td>debt_consolidation</td>\n",
       "      <td>Debt consolidation</td>\n",
       "      <td>765xx</td>\n",
       "      <td>TX</td>\n",
       "      <td>Apr-2009</td>\n",
       "      <td>43.5%</td>\n",
       "      <td>w</td>\n",
       "      <td>May-2019</td>\n",
       "      <td>Apr-2019</td>\n",
       "      <td>Individual</td>\n",
       "    </tr>\n",
       "  </tbody>\n",
       "</table>\n",
       "</div>"
      ],
      "text/plain": [
       "          term int_rate grade sub_grade emp_length home_ownership  \\\n",
       "80   60 months   13.08%     B        B5   < 1 year       MORTGAGE   \n",
       "82   36 months   22.50%     D        D3  10+ years           RENT   \n",
       "93   36 months   17.19%     C        C5    9 years           RENT   \n",
       "\n",
       "   verification_status   issue_d loan_status             purpose  \\\n",
       "80            Verified  Mar-2019  Fully Paid  debt_consolidation   \n",
       "82        Not Verified  Mar-2019     Current  debt_consolidation   \n",
       "93     Source Verified  Mar-2019     Current  debt_consolidation   \n",
       "\n",
       "                 title zip_code addr_state earliest_cr_line revol_util  \\\n",
       "80  Debt consolidation    240xx         VA         Jul-2005      66.7%   \n",
       "82  Debt consolidation    957xx         CA         Aug-2002      95.6%   \n",
       "93  Debt consolidation    765xx         TX         Apr-2009      43.5%   \n",
       "\n",
       "   initial_list_status next_pymnt_d last_credit_pull_d application_type  \n",
       "80                   w          NaN           Apr-2019       Individual  \n",
       "82                   w     May-2019           Apr-2019       Individual  \n",
       "93                   w     May-2019           Apr-2019       Individual  "
      ]
     },
     "execution_count": 7,
     "metadata": {},
     "output_type": "execute_result"
    }
   ],
   "source": [
    "# Inspect non-numeric columns\n",
    "df_num = df.copy() # make a copy\n",
    "obj_cols = df_num.dtypes[df_num.dtypes == object].index\n",
    "df[obj_cols].head(3)"
   ]
  },
  {
   "cell_type": "code",
   "execution_count": 8,
   "metadata": {},
   "outputs": [
    {
     "data": {
      "text/html": [
       "<div>\n",
       "<style scoped>\n",
       "    .dataframe tbody tr th:only-of-type {\n",
       "        vertical-align: middle;\n",
       "    }\n",
       "\n",
       "    .dataframe tbody tr th {\n",
       "        vertical-align: top;\n",
       "    }\n",
       "\n",
       "    .dataframe thead th {\n",
       "        text-align: right;\n",
       "    }\n",
       "</style>\n",
       "<table border=\"1\" class=\"dataframe\">\n",
       "  <thead>\n",
       "    <tr style=\"text-align: right;\">\n",
       "      <th></th>\n",
       "      <th>term</th>\n",
       "      <th>int_rate</th>\n",
       "      <th>grade</th>\n",
       "      <th>sub_grade</th>\n",
       "      <th>emp_length</th>\n",
       "      <th>home_ownership</th>\n",
       "      <th>verification_status</th>\n",
       "      <th>issue_d</th>\n",
       "      <th>loan_status</th>\n",
       "      <th>purpose</th>\n",
       "      <th>title</th>\n",
       "      <th>zip_code</th>\n",
       "      <th>addr_state</th>\n",
       "      <th>earliest_cr_line</th>\n",
       "      <th>revol_util</th>\n",
       "      <th>initial_list_status</th>\n",
       "      <th>next_pymnt_d</th>\n",
       "      <th>last_credit_pull_d</th>\n",
       "      <th>application_type</th>\n",
       "    </tr>\n",
       "  </thead>\n",
       "  <tbody>\n",
       "    <tr>\n",
       "      <th>80</th>\n",
       "      <td>60.0</td>\n",
       "      <td>13.08</td>\n",
       "      <td>B</td>\n",
       "      <td>B5</td>\n",
       "      <td>1.0</td>\n",
       "      <td>MORTGAGE</td>\n",
       "      <td>Verified</td>\n",
       "      <td>Mar-2019</td>\n",
       "      <td>Fully Paid</td>\n",
       "      <td>debt_consolidation</td>\n",
       "      <td>Debt consolidation</td>\n",
       "      <td>240xx</td>\n",
       "      <td>VA</td>\n",
       "      <td>Jul-2005</td>\n",
       "      <td>66.7</td>\n",
       "      <td>w</td>\n",
       "      <td>NaN</td>\n",
       "      <td>Apr-2019</td>\n",
       "      <td>Individual</td>\n",
       "    </tr>\n",
       "    <tr>\n",
       "      <th>82</th>\n",
       "      <td>36.0</td>\n",
       "      <td>22.50</td>\n",
       "      <td>D</td>\n",
       "      <td>D3</td>\n",
       "      <td>10.0</td>\n",
       "      <td>RENT</td>\n",
       "      <td>Not Verified</td>\n",
       "      <td>Mar-2019</td>\n",
       "      <td>Current</td>\n",
       "      <td>debt_consolidation</td>\n",
       "      <td>Debt consolidation</td>\n",
       "      <td>957xx</td>\n",
       "      <td>CA</td>\n",
       "      <td>Aug-2002</td>\n",
       "      <td>95.6</td>\n",
       "      <td>w</td>\n",
       "      <td>May-2019</td>\n",
       "      <td>Apr-2019</td>\n",
       "      <td>Individual</td>\n",
       "    </tr>\n",
       "    <tr>\n",
       "      <th>93</th>\n",
       "      <td>36.0</td>\n",
       "      <td>17.19</td>\n",
       "      <td>C</td>\n",
       "      <td>C5</td>\n",
       "      <td>9.0</td>\n",
       "      <td>RENT</td>\n",
       "      <td>Source Verified</td>\n",
       "      <td>Mar-2019</td>\n",
       "      <td>Current</td>\n",
       "      <td>debt_consolidation</td>\n",
       "      <td>Debt consolidation</td>\n",
       "      <td>765xx</td>\n",
       "      <td>TX</td>\n",
       "      <td>Apr-2009</td>\n",
       "      <td>43.5</td>\n",
       "      <td>w</td>\n",
       "      <td>May-2019</td>\n",
       "      <td>Apr-2019</td>\n",
       "      <td>Individual</td>\n",
       "    </tr>\n",
       "  </tbody>\n",
       "</table>\n",
       "</div>"
      ],
      "text/plain": [
       "    term  int_rate grade sub_grade  emp_length home_ownership  \\\n",
       "80  60.0     13.08     B        B5         1.0       MORTGAGE   \n",
       "82  36.0     22.50     D        D3        10.0           RENT   \n",
       "93  36.0     17.19     C        C5         9.0           RENT   \n",
       "\n",
       "   verification_status   issue_d loan_status             purpose  \\\n",
       "80            Verified  Mar-2019  Fully Paid  debt_consolidation   \n",
       "82        Not Verified  Mar-2019     Current  debt_consolidation   \n",
       "93     Source Verified  Mar-2019     Current  debt_consolidation   \n",
       "\n",
       "                 title zip_code addr_state earliest_cr_line  revol_util  \\\n",
       "80  Debt consolidation    240xx         VA         Jul-2005        66.7   \n",
       "82  Debt consolidation    957xx         CA         Aug-2002        95.6   \n",
       "93  Debt consolidation    765xx         TX         Apr-2009        43.5   \n",
       "\n",
       "   initial_list_status next_pymnt_d last_credit_pull_d application_type  \n",
       "80                   w          NaN           Apr-2019       Individual  \n",
       "82                   w     May-2019           Apr-2019       Individual  \n",
       "93                   w     May-2019           Apr-2019       Individual  "
      ]
     },
     "execution_count": 8,
     "metadata": {},
     "output_type": "execute_result"
    }
   ],
   "source": [
    "\"\"\" String manipulation \"\"\"\n",
    "\n",
    "# Convert `term` to numeric\n",
    "df_num['term'] = df['term'].str.replace(' months', '').astype(float)\n",
    "\n",
    "# Convert `int_rate` to numeric\n",
    "df_num['int_rate'] = df['int_rate'].str.replace('%', '').astype(float)\n",
    "\n",
    "# Convert `emp_length` to numeric\n",
    "df_num['emp_length'] = df['emp_length'].str.extract('(\\d+)').astype(float)\n",
    "\n",
    "# Convert `revol_util` to numeric\n",
    "df_num['revol_util'] = df['revol_util'].str.replace('%', '').astype(float)\n",
    "\n",
    "df_num[obj_cols].head(3)"
   ]
  },
  {
   "cell_type": "code",
   "execution_count": 9,
   "metadata": {},
   "outputs": [
    {
     "data": {
      "text/html": [
       "<div>\n",
       "<style scoped>\n",
       "    .dataframe tbody tr th:only-of-type {\n",
       "        vertical-align: middle;\n",
       "    }\n",
       "\n",
       "    .dataframe tbody tr th {\n",
       "        vertical-align: top;\n",
       "    }\n",
       "\n",
       "    .dataframe thead th {\n",
       "        text-align: right;\n",
       "    }\n",
       "</style>\n",
       "<table border=\"1\" class=\"dataframe\">\n",
       "  <thead>\n",
       "    <tr style=\"text-align: right;\">\n",
       "      <th></th>\n",
       "      <th>term</th>\n",
       "      <th>int_rate</th>\n",
       "      <th>grade</th>\n",
       "      <th>sub_grade</th>\n",
       "      <th>emp_length</th>\n",
       "      <th>home_ownership</th>\n",
       "      <th>verification_status</th>\n",
       "      <th>issue_d</th>\n",
       "      <th>loan_status</th>\n",
       "      <th>purpose</th>\n",
       "      <th>title</th>\n",
       "      <th>zip_code</th>\n",
       "      <th>addr_state</th>\n",
       "      <th>earliest_cr_line</th>\n",
       "      <th>revol_util</th>\n",
       "      <th>initial_list_status</th>\n",
       "      <th>next_pymnt_d</th>\n",
       "      <th>last_credit_pull_d</th>\n",
       "      <th>application_type</th>\n",
       "    </tr>\n",
       "  </thead>\n",
       "  <tbody>\n",
       "    <tr>\n",
       "      <th>80</th>\n",
       "      <td>60.0</td>\n",
       "      <td>13.08</td>\n",
       "      <td>B</td>\n",
       "      <td>B5</td>\n",
       "      <td>1.0</td>\n",
       "      <td>MORTGAGE</td>\n",
       "      <td>Verified</td>\n",
       "      <td>Mar-2019</td>\n",
       "      <td>Fully Paid</td>\n",
       "      <td>debt_consolidation</td>\n",
       "      <td>Debt consolidation</td>\n",
       "      <td>240xx</td>\n",
       "      <td>VA</td>\n",
       "      <td>2005-07-01</td>\n",
       "      <td>66.7</td>\n",
       "      <td>w</td>\n",
       "      <td>NaN</td>\n",
       "      <td>Apr-2019</td>\n",
       "      <td>Individual</td>\n",
       "    </tr>\n",
       "    <tr>\n",
       "      <th>82</th>\n",
       "      <td>36.0</td>\n",
       "      <td>22.50</td>\n",
       "      <td>D</td>\n",
       "      <td>D3</td>\n",
       "      <td>10.0</td>\n",
       "      <td>RENT</td>\n",
       "      <td>Not Verified</td>\n",
       "      <td>Mar-2019</td>\n",
       "      <td>Current</td>\n",
       "      <td>debt_consolidation</td>\n",
       "      <td>Debt consolidation</td>\n",
       "      <td>957xx</td>\n",
       "      <td>CA</td>\n",
       "      <td>2002-08-01</td>\n",
       "      <td>95.6</td>\n",
       "      <td>w</td>\n",
       "      <td>May-2019</td>\n",
       "      <td>Apr-2019</td>\n",
       "      <td>Individual</td>\n",
       "    </tr>\n",
       "    <tr>\n",
       "      <th>93</th>\n",
       "      <td>36.0</td>\n",
       "      <td>17.19</td>\n",
       "      <td>C</td>\n",
       "      <td>C5</td>\n",
       "      <td>9.0</td>\n",
       "      <td>RENT</td>\n",
       "      <td>Source Verified</td>\n",
       "      <td>Mar-2019</td>\n",
       "      <td>Current</td>\n",
       "      <td>debt_consolidation</td>\n",
       "      <td>Debt consolidation</td>\n",
       "      <td>765xx</td>\n",
       "      <td>TX</td>\n",
       "      <td>2009-04-01</td>\n",
       "      <td>43.5</td>\n",
       "      <td>w</td>\n",
       "      <td>May-2019</td>\n",
       "      <td>Apr-2019</td>\n",
       "      <td>Individual</td>\n",
       "    </tr>\n",
       "  </tbody>\n",
       "</table>\n",
       "</div>"
      ],
      "text/plain": [
       "    term  int_rate grade sub_grade  emp_length home_ownership  \\\n",
       "80  60.0     13.08     B        B5         1.0       MORTGAGE   \n",
       "82  36.0     22.50     D        D3        10.0           RENT   \n",
       "93  36.0     17.19     C        C5         9.0           RENT   \n",
       "\n",
       "   verification_status   issue_d loan_status             purpose  \\\n",
       "80            Verified  Mar-2019  Fully Paid  debt_consolidation   \n",
       "82        Not Verified  Mar-2019     Current  debt_consolidation   \n",
       "93     Source Verified  Mar-2019     Current  debt_consolidation   \n",
       "\n",
       "                 title zip_code addr_state earliest_cr_line  revol_util  \\\n",
       "80  Debt consolidation    240xx         VA       2005-07-01        66.7   \n",
       "82  Debt consolidation    957xx         CA       2002-08-01        95.6   \n",
       "93  Debt consolidation    765xx         TX       2009-04-01        43.5   \n",
       "\n",
       "   initial_list_status next_pymnt_d last_credit_pull_d application_type  \n",
       "80                   w          NaN           Apr-2019       Individual  \n",
       "82                   w     May-2019           Apr-2019       Individual  \n",
       "93                   w     May-2019           Apr-2019       Individual  "
      ]
     },
     "execution_count": 9,
     "metadata": {},
     "output_type": "execute_result"
    }
   ],
   "source": [
    "\"\"\" Datetime manipulation \"\"\"\n",
    "\n",
    "# Create a new column for `issue_d` as numeric type\n",
    "df_num['issue_month'] = pd.to_datetime(df['issue_d']).dt.month\n",
    "\n",
    "# Create a new column for `earliest_cr_line` as numeric type\n",
    "df_num['earliest_cr_line'] = pd.to_datetime(df['earliest_cr_line']) # convert to dt\n",
    "youngest_cr = df_num['earliest_cr_line'].max() # latest date in data\n",
    "df_num['oldest_cr_age'] = (youngest_cr - df_num['earliest_cr_line']).dt.days # oldest credit age\n",
    "\n",
    "# Create a new column for 'last_credit_pull_d' as numeric type\n",
    "df_num['last_credit_pull_month'] = pd.to_datetime(df['last_credit_pull_d']).dt.month\n",
    "df_num['last_credit_pull_month'] = df_num['last_credit_pull_month'].replace(12, 0) # set Dec 2018 as month 0\n",
    "\n",
    "df_num[obj_cols].head(3)"
   ]
  },
  {
   "cell_type": "code",
   "execution_count": 10,
   "metadata": {},
   "outputs": [
    {
     "data": {
      "text/html": [
       "<div>\n",
       "<style scoped>\n",
       "    .dataframe tbody tr th:only-of-type {\n",
       "        vertical-align: middle;\n",
       "    }\n",
       "\n",
       "    .dataframe tbody tr th {\n",
       "        vertical-align: top;\n",
       "    }\n",
       "\n",
       "    .dataframe thead th {\n",
       "        text-align: right;\n",
       "    }\n",
       "</style>\n",
       "<table border=\"1\" class=\"dataframe\">\n",
       "  <thead>\n",
       "    <tr style=\"text-align: right;\">\n",
       "      <th></th>\n",
       "      <th>term</th>\n",
       "      <th>int_rate</th>\n",
       "      <th>grade</th>\n",
       "      <th>sub_grade</th>\n",
       "      <th>emp_length</th>\n",
       "      <th>home_ownership</th>\n",
       "      <th>verification_status</th>\n",
       "      <th>issue_d</th>\n",
       "      <th>loan_status</th>\n",
       "      <th>purpose</th>\n",
       "      <th>title</th>\n",
       "      <th>zip_code</th>\n",
       "      <th>addr_state</th>\n",
       "      <th>earliest_cr_line</th>\n",
       "      <th>revol_util</th>\n",
       "      <th>initial_list_status</th>\n",
       "      <th>next_pymnt_d</th>\n",
       "      <th>last_credit_pull_d</th>\n",
       "      <th>application_type</th>\n",
       "    </tr>\n",
       "  </thead>\n",
       "  <tbody>\n",
       "    <tr>\n",
       "      <th>80</th>\n",
       "      <td>60.0</td>\n",
       "      <td>13.08</td>\n",
       "      <td>2.0</td>\n",
       "      <td>B5</td>\n",
       "      <td>1.0</td>\n",
       "      <td>1.0</td>\n",
       "      <td>1.0</td>\n",
       "      <td>Mar-2019</td>\n",
       "      <td>Fully Paid</td>\n",
       "      <td>debt_consolidation</td>\n",
       "      <td>Debt consolidation</td>\n",
       "      <td>240xx</td>\n",
       "      <td>VA</td>\n",
       "      <td>2005-07-01</td>\n",
       "      <td>66.7</td>\n",
       "      <td>w</td>\n",
       "      <td>NaN</td>\n",
       "      <td>Apr-2019</td>\n",
       "      <td>Individual</td>\n",
       "    </tr>\n",
       "    <tr>\n",
       "      <th>82</th>\n",
       "      <td>36.0</td>\n",
       "      <td>22.50</td>\n",
       "      <td>4.0</td>\n",
       "      <td>D3</td>\n",
       "      <td>10.0</td>\n",
       "      <td>0.0</td>\n",
       "      <td>0.0</td>\n",
       "      <td>Mar-2019</td>\n",
       "      <td>Current</td>\n",
       "      <td>debt_consolidation</td>\n",
       "      <td>Debt consolidation</td>\n",
       "      <td>957xx</td>\n",
       "      <td>CA</td>\n",
       "      <td>2002-08-01</td>\n",
       "      <td>95.6</td>\n",
       "      <td>w</td>\n",
       "      <td>May-2019</td>\n",
       "      <td>Apr-2019</td>\n",
       "      <td>Individual</td>\n",
       "    </tr>\n",
       "    <tr>\n",
       "      <th>93</th>\n",
       "      <td>36.0</td>\n",
       "      <td>17.19</td>\n",
       "      <td>3.0</td>\n",
       "      <td>C5</td>\n",
       "      <td>9.0</td>\n",
       "      <td>0.0</td>\n",
       "      <td>NaN</td>\n",
       "      <td>Mar-2019</td>\n",
       "      <td>Current</td>\n",
       "      <td>debt_consolidation</td>\n",
       "      <td>Debt consolidation</td>\n",
       "      <td>765xx</td>\n",
       "      <td>TX</td>\n",
       "      <td>2009-04-01</td>\n",
       "      <td>43.5</td>\n",
       "      <td>w</td>\n",
       "      <td>May-2019</td>\n",
       "      <td>Apr-2019</td>\n",
       "      <td>Individual</td>\n",
       "    </tr>\n",
       "  </tbody>\n",
       "</table>\n",
       "</div>"
      ],
      "text/plain": [
       "    term  int_rate  grade sub_grade  emp_length  home_ownership  \\\n",
       "80  60.0     13.08    2.0        B5         1.0             1.0   \n",
       "82  36.0     22.50    4.0        D3        10.0             0.0   \n",
       "93  36.0     17.19    3.0        C5         9.0             0.0   \n",
       "\n",
       "    verification_status   issue_d loan_status             purpose  \\\n",
       "80                  1.0  Mar-2019  Fully Paid  debt_consolidation   \n",
       "82                  0.0  Mar-2019     Current  debt_consolidation   \n",
       "93                  NaN  Mar-2019     Current  debt_consolidation   \n",
       "\n",
       "                 title zip_code addr_state earliest_cr_line  revol_util  \\\n",
       "80  Debt consolidation    240xx         VA       2005-07-01        66.7   \n",
       "82  Debt consolidation    957xx         CA       2002-08-01        95.6   \n",
       "93  Debt consolidation    765xx         TX       2009-04-01        43.5   \n",
       "\n",
       "   initial_list_status next_pymnt_d last_credit_pull_d application_type  \n",
       "80                   w          NaN           Apr-2019       Individual  \n",
       "82                   w     May-2019           Apr-2019       Individual  \n",
       "93                   w     May-2019           Apr-2019       Individual  "
      ]
     },
     "execution_count": 10,
     "metadata": {},
     "output_type": "execute_result"
    }
   ],
   "source": [
    "\"\"\" Numeric mapping \"\"\"\n",
    "\n",
    "# Convert `grade` to numeric\n",
    "grade_mapping = {'A': 1, 'B': 2, 'C': 3, 'D': 4, 'E': 5, 'F': 6, 'G': 7} # num mapping\n",
    "df_num['grade'] = df['grade'].map(grade_mapping).astype(float)\n",
    "\n",
    "# Convert `home_ownership` to numeric\n",
    "home_mapping = dict.fromkeys(['RENT', 'ANY', 'NONE'], 0) # num mapping\n",
    "home_mapping.update(dict.fromkeys(['MORTGAGE', 'OWN'], 1)) # add 1 label\n",
    "df_num['home_ownership'] = df['home_ownership'].map(home_mapping).astype(float)\n",
    "\n",
    "# Convert `verification_state` to numeric\n",
    "df_num['verification_status'] = df['verification_status'].str.replace('Source ', '') # combine verified labels\n",
    "veri_mapping = {'Not Verified': 0, 'Verified': 1} # num mapping\n",
    "df_num['verification_status'] = df['verification_status'].map(veri_mapping).astype(float)\n",
    "\n",
    "# Create a new column for `initial_list_status` as numeric type\n",
    "init_mapping = {'f': 0, 'w': 1} # num mapping\n",
    "df_num['whole_loan'] = df['initial_list_status'].map(init_mapping).astype(float)\n",
    "\n",
    "# Create a new column for `application_type` as numeric type\n",
    "app_mapping = {'Individual': 0, 'Joint App': 1} # num mapping\n",
    "df_num['joint_app'] = df['application_type'].map(app_mapping).astype(float)\n",
    "\n",
    "# Create a new column for `loan_status` as numeric type\n",
    "stat_mapping = dict.fromkeys(['Charged Off', 'In Grace Period', # num mapping\n",
    "                              'Late (16-30 days)', 'Late (31-120 days)'], 1) # high risk\n",
    "stat_mapping.update(dict.fromkeys(['Fully Paid', 'Current'], 0)) # low risk\n",
    "df_num['high_risk'] = df['loan_status'].map(stat_mapping).astype(float)\n",
    "\n",
    "df_num[obj_cols].head(3)"
   ]
  },
  {
   "cell_type": "code",
   "execution_count": 11,
   "metadata": {},
   "outputs": [
    {
     "data": {
      "text/html": [
       "<div>\n",
       "<style scoped>\n",
       "    .dataframe tbody tr th:only-of-type {\n",
       "        vertical-align: middle;\n",
       "    }\n",
       "\n",
       "    .dataframe tbody tr th {\n",
       "        vertical-align: top;\n",
       "    }\n",
       "\n",
       "    .dataframe thead th {\n",
       "        text-align: right;\n",
       "    }\n",
       "</style>\n",
       "<table border=\"1\" class=\"dataframe\">\n",
       "  <thead>\n",
       "    <tr style=\"text-align: right;\">\n",
       "      <th></th>\n",
       "      <th>loan_amnt</th>\n",
       "      <th>funded_amnt</th>\n",
       "      <th>funded_amnt_inv</th>\n",
       "      <th>term</th>\n",
       "      <th>int_rate</th>\n",
       "      <th>installment</th>\n",
       "      <th>grade</th>\n",
       "      <th>sub_grade</th>\n",
       "      <th>emp_length</th>\n",
       "      <th>home_ownership</th>\n",
       "      <th>...</th>\n",
       "      <th>total_bc_limit</th>\n",
       "      <th>total_il_high_credit_limit</th>\n",
       "      <th>issue_month</th>\n",
       "      <th>oldest_cr_age</th>\n",
       "      <th>last_credit_pull_month</th>\n",
       "      <th>whole_loan</th>\n",
       "      <th>joint_app</th>\n",
       "      <th>high_risk</th>\n",
       "      <th>purpose_debt</th>\n",
       "      <th>purpose_major_purchase</th>\n",
       "    </tr>\n",
       "  </thead>\n",
       "  <tbody>\n",
       "    <tr>\n",
       "      <th>80</th>\n",
       "      <td>35000.0</td>\n",
       "      <td>35000.0</td>\n",
       "      <td>35000.0</td>\n",
       "      <td>60.0</td>\n",
       "      <td>13.08</td>\n",
       "      <td>797.80</td>\n",
       "      <td>2.0</td>\n",
       "      <td>B5</td>\n",
       "      <td>1.0</td>\n",
       "      <td>1.0</td>\n",
       "      <td>...</td>\n",
       "      <td>32700.0</td>\n",
       "      <td>130876.0</td>\n",
       "      <td>3</td>\n",
       "      <td>3867</td>\n",
       "      <td>4.0</td>\n",
       "      <td>1.0</td>\n",
       "      <td>0.0</td>\n",
       "      <td>0.0</td>\n",
       "      <td>1</td>\n",
       "      <td>0</td>\n",
       "    </tr>\n",
       "    <tr>\n",
       "      <th>82</th>\n",
       "      <td>20000.0</td>\n",
       "      <td>20000.0</td>\n",
       "      <td>20000.0</td>\n",
       "      <td>36.0</td>\n",
       "      <td>22.50</td>\n",
       "      <td>769.00</td>\n",
       "      <td>4.0</td>\n",
       "      <td>D3</td>\n",
       "      <td>10.0</td>\n",
       "      <td>0.0</td>\n",
       "      <td>...</td>\n",
       "      <td>47000.0</td>\n",
       "      <td>30797.0</td>\n",
       "      <td>3</td>\n",
       "      <td>4932</td>\n",
       "      <td>4.0</td>\n",
       "      <td>1.0</td>\n",
       "      <td>0.0</td>\n",
       "      <td>0.0</td>\n",
       "      <td>1</td>\n",
       "      <td>0</td>\n",
       "    </tr>\n",
       "    <tr>\n",
       "      <th>93</th>\n",
       "      <td>10500.0</td>\n",
       "      <td>10500.0</td>\n",
       "      <td>10500.0</td>\n",
       "      <td>36.0</td>\n",
       "      <td>17.19</td>\n",
       "      <td>375.35</td>\n",
       "      <td>3.0</td>\n",
       "      <td>C5</td>\n",
       "      <td>9.0</td>\n",
       "      <td>0.0</td>\n",
       "      <td>...</td>\n",
       "      <td>2000.0</td>\n",
       "      <td>61987.0</td>\n",
       "      <td>3</td>\n",
       "      <td>2497</td>\n",
       "      <td>4.0</td>\n",
       "      <td>1.0</td>\n",
       "      <td>0.0</td>\n",
       "      <td>0.0</td>\n",
       "      <td>1</td>\n",
       "      <td>0</td>\n",
       "    </tr>\n",
       "  </tbody>\n",
       "</table>\n",
       "<p>3 rows × 94 columns</p>\n",
       "</div>"
      ],
      "text/plain": [
       "    loan_amnt  funded_amnt  funded_amnt_inv  term  int_rate  installment  \\\n",
       "80    35000.0      35000.0          35000.0  60.0     13.08       797.80   \n",
       "82    20000.0      20000.0          20000.0  36.0     22.50       769.00   \n",
       "93    10500.0      10500.0          10500.0  36.0     17.19       375.35   \n",
       "\n",
       "    grade sub_grade  emp_length  home_ownership  ...  total_bc_limit  \\\n",
       "80    2.0        B5         1.0             1.0  ...         32700.0   \n",
       "82    4.0        D3        10.0             0.0  ...         47000.0   \n",
       "93    3.0        C5         9.0             0.0  ...          2000.0   \n",
       "\n",
       "    total_il_high_credit_limit issue_month oldest_cr_age  \\\n",
       "80                    130876.0           3          3867   \n",
       "82                     30797.0           3          4932   \n",
       "93                     61987.0           3          2497   \n",
       "\n",
       "   last_credit_pull_month whole_loan joint_app  high_risk  purpose_debt  \\\n",
       "80                    4.0        1.0       0.0        0.0             1   \n",
       "82                    4.0        1.0       0.0        0.0             1   \n",
       "93                    4.0        1.0       0.0        0.0             1   \n",
       "\n",
       "   purpose_major_purchase  \n",
       "80                      0  \n",
       "82                      0  \n",
       "93                      0  \n",
       "\n",
       "[3 rows x 94 columns]"
      ]
     },
     "execution_count": 11,
     "metadata": {},
     "output_type": "execute_result"
    }
   ],
   "source": [
    "\"\"\" One-hot encoding \"\"\"\n",
    "\n",
    "# Group labels into 3 categories\n",
    "df_num['purpose'] = df['purpose'].replace(['debt_consolidation', 'credit_card', 'medical'], 'debt') \\\n",
    "                                 .replace(['home_improvement', 'car', 'house', 'vacation'], 'major_purchase') \\\n",
    "                                 .replace(['small_business', 'moving', 'renewable_energy', 'other'], '_other')\n",
    "\n",
    "# One-hot encode `purpose` and drop the last label\n",
    "df_num = pd.get_dummies(df_num, columns=['purpose'], drop_first=True)\n",
    "df_num.head(3)"
   ]
  },
  {
   "cell_type": "markdown",
   "metadata": {},
   "source": [
    "### Additional cleaning"
   ]
  },
  {
   "cell_type": "code",
   "execution_count": 12,
   "metadata": {},
   "outputs": [
    {
     "data": {
      "text/plain": [
       "(96839, 82)"
      ]
     },
     "execution_count": 12,
     "metadata": {},
     "output_type": "execute_result"
    }
   ],
   "source": [
    "# Drop redundant cols\n",
    "cols_to_drop = ['title', 'sub_grade', 'zip_code', 'issue_d', 'loan_status', \n",
    "                'earliest_cr_line', 'addr_state', 'verification_status', 'next_pymnt_d', \n",
    "                'last_credit_pull_d', 'initial_list_status', 'application_type']\n",
    "df_num.drop(cols_to_drop, axis=1, inplace=True)\n",
    "df_num.shape"
   ]
  },
  {
   "cell_type": "code",
   "execution_count": 13,
   "metadata": {},
   "outputs": [
    {
     "data": {
      "text/plain": [
       "(84198, 82)"
      ]
     },
     "execution_count": 13,
     "metadata": {},
     "output_type": "execute_result"
    }
   ],
   "source": [
    "# Drop rows with missing values\n",
    "df_num.dropna(inplace=True)\n",
    "df_num.shape"
   ]
  },
  {
   "cell_type": "code",
   "execution_count": 14,
   "metadata": {},
   "outputs": [
    {
     "name": "stdout",
     "output_type": "stream",
     "text": [
      "loan_amnt funded_amnt 1.0\n",
      "loan_amnt funded_amnt_inv 0.999997083401125\n",
      "loan_amnt installment 0.9361457315663073\n",
      "loan_amnt out_prncp 0.9628116324949524\n",
      "loan_amnt out_prncp_inv 0.9628298134887975\n",
      "funded_amnt funded_amnt_inv 0.999997083401125\n",
      "funded_amnt installment 0.9361457315663073\n",
      "funded_amnt out_prncp 0.9628116324949524\n",
      "funded_amnt out_prncp_inv 0.9628298134887975\n",
      "funded_amnt_inv installment 0.936136708511857\n",
      "funded_amnt_inv out_prncp 0.9628082995548731\n",
      "funded_amnt_inv out_prncp_inv 0.9628319067457652\n",
      "int_rate grade 0.9644165592939707\n",
      "installment out_prncp 0.8917068406731731\n",
      "installment out_prncp_inv 0.8917195745051264\n",
      "open_acc total_acc 0.739408034833447\n",
      "open_acc num_op_rev_tl 0.8542594490286857\n",
      "open_acc num_rev_accts 0.7183869384158287\n",
      "open_acc num_sats 0.9996842051086133\n",
      "pub_rec pub_rec_bankruptcies 0.9997149746017331\n",
      "revol_bal total_rev_hi_lim 0.7670091267372624\n",
      "revol_util bc_util 0.89864728747148\n",
      "revol_util percent_bc_gt_75 0.7620369638540233\n",
      "total_acc num_il_tl 0.7277782510031408\n",
      "total_acc num_rev_accts 0.7662804159157979\n",
      "total_acc num_sats 0.7381173215213779\n",
      "out_prncp out_prncp_inv 0.9999973872500134\n",
      "total_pymnt total_pymnt_inv 0.9999985353116649\n",
      "total_pymnt total_rec_prncp 0.9951425490198371\n",
      "total_pymnt last_pymnt_amnt 0.9365825970214021\n",
      "total_pymnt_inv total_rec_prncp 0.995133811123576\n",
      "total_pymnt_inv last_pymnt_amnt 0.9365776195126327\n",
      "total_rec_prncp last_pymnt_amnt 0.943879329422162\n",
      "tot_cur_bal avg_cur_bal 0.8178296897872436\n",
      "tot_cur_bal tot_hi_cred_lim 0.9809734927780326\n",
      "open_acc_6m num_tl_op_past_12m 0.7490855416695127\n",
      "open_il_12m open_il_24m 0.7483159064272681\n",
      "total_bal_il total_bal_ex_mort 0.9114051735746352\n",
      "total_bal_il total_il_high_credit_limit 0.9468487998140618\n",
      "open_rv_12m open_rv_24m 0.7921355794300482\n",
      "open_rv_12m num_tl_op_past_12m 0.8329051468571685\n",
      "open_rv_24m acc_open_past_24mths 0.8425716431876239\n",
      "total_rev_hi_lim bc_open_to_buy 0.7038949759133607\n",
      "total_rev_hi_lim total_bc_limit 0.8355388876303983\n",
      "acc_open_past_24mths num_tl_op_past_12m 0.791711230500556\n",
      "avg_cur_bal tot_hi_cred_lim 0.775757962350851\n",
      "bc_open_to_buy total_bc_limit 0.8584443009994038\n",
      "bc_util percent_bc_gt_75 0.8398295183412864\n",
      "mo_sin_old_rev_tl_op oldest_cr_age 0.8982383081780757\n",
      "num_actv_bc_tl num_actv_rev_tl 0.8502893260287687\n",
      "num_actv_bc_tl num_bc_sats 0.8274032103171495\n",
      "num_actv_bc_tl num_rev_tl_bal_gt_0 0.8456185625583384\n",
      "num_actv_rev_tl num_op_rev_tl 0.8015476424790675\n",
      "num_actv_rev_tl num_rev_tl_bal_gt_0 0.9895328146614707\n",
      "num_bc_sats num_bc_tl 0.8251777195236811\n",
      "num_bc_sats num_op_rev_tl 0.8165327823703202\n",
      "num_bc_tl num_op_rev_tl 0.7196972558587045\n",
      "num_bc_tl num_rev_accts 0.8413049158971546\n",
      "num_op_rev_tl num_rev_accts 0.8323150201935474\n",
      "num_op_rev_tl num_rev_tl_bal_gt_0 0.8039719841576017\n",
      "num_op_rev_tl num_sats 0.8538752565957276\n",
      "num_rev_accts num_sats 0.7166407630995819\n",
      "total_bal_ex_mort total_il_high_credit_limit 0.8937635846378549\n",
      "purpose_debt purpose_major_purchase -0.7387839859326525\n"
     ]
    },
    {
     "data": {
      "text/plain": [
       "['funded_amnt',\n",
       " 'funded_amnt_inv',\n",
       " 'installment',\n",
       " 'out_prncp',\n",
       " 'out_prncp_inv',\n",
       " 'grade',\n",
       " 'total_acc',\n",
       " 'num_op_rev_tl',\n",
       " 'num_rev_accts',\n",
       " 'num_sats',\n",
       " 'pub_rec_bankruptcies',\n",
       " 'total_rev_hi_lim',\n",
       " 'bc_util',\n",
       " 'percent_bc_gt_75',\n",
       " 'num_il_tl',\n",
       " 'total_pymnt_inv',\n",
       " 'total_rec_prncp',\n",
       " 'last_pymnt_amnt',\n",
       " 'avg_cur_bal',\n",
       " 'tot_hi_cred_lim',\n",
       " 'num_tl_op_past_12m',\n",
       " 'open_il_24m',\n",
       " 'total_bal_ex_mort',\n",
       " 'total_il_high_credit_limit',\n",
       " 'open_rv_24m',\n",
       " 'acc_open_past_24mths',\n",
       " 'bc_open_to_buy',\n",
       " 'total_bc_limit',\n",
       " 'oldest_cr_age',\n",
       " 'num_actv_rev_tl',\n",
       " 'num_bc_sats',\n",
       " 'num_rev_tl_bal_gt_0',\n",
       " 'num_bc_tl',\n",
       " 'purpose_major_purchase']"
      ]
     },
     "execution_count": 14,
     "metadata": {},
     "output_type": "execute_result"
    }
   ],
   "source": [
    "# Find highly correlated columns\n",
    "cor_cols = []\n",
    "for i in range(df_num.shape[1] - 1):\n",
    "    for j in range(i + 1, df_num.shape[1]):\n",
    "        col1 = df_num.iloc[:, i]\n",
    "        col2 = df_num.iloc[:, j]\n",
    "        cor = col1.corr(col2)\n",
    "        if abs(cor) > 0.7:\n",
    "            print(col1.name, col2.name, cor)\n",
    "            if col2.name not in cor_cols:\n",
    "                cor_cols.append(col2.name)\n",
    "                \n",
    "cor_cols"
   ]
  },
  {
   "cell_type": "code",
   "execution_count": 15,
   "metadata": {},
   "outputs": [
    {
     "data": {
      "text/plain": [
       "(84198, 48)"
      ]
     },
     "execution_count": 15,
     "metadata": {},
     "output_type": "execute_result"
    }
   ],
   "source": [
    "# Drop highly correlated columns, keeping only 1 column per correlation\n",
    "df_num.drop(cor_cols, axis=1, inplace=True)\n",
    "df_num.shape"
   ]
  },
  {
   "cell_type": "code",
   "execution_count": 16,
   "metadata": {},
   "outputs": [
    {
     "name": "stdout",
     "output_type": "stream",
     "text": [
      "<class 'pandas.core.frame.DataFrame'>\n",
      "Int64Index: 84198 entries, 80 to 115674\n",
      "Data columns (total 48 columns):\n",
      " #   Column                      Non-Null Count  Dtype  \n",
      "---  ------                      --------------  -----  \n",
      " 0   loan_amnt                   84198 non-null  int64  \n",
      " 1   term                        84198 non-null  int64  \n",
      " 2   int_rate                    84198 non-null  float64\n",
      " 3   emp_length                  84198 non-null  int64  \n",
      " 4   home_ownership              84198 non-null  int64  \n",
      " 5   annual_inc                  84198 non-null  float64\n",
      " 6   dti                         84198 non-null  float64\n",
      " 7   delinq_2yrs                 84198 non-null  int64  \n",
      " 8   inq_last_6mths              84198 non-null  int64  \n",
      " 9   open_acc                    84198 non-null  int64  \n",
      " 10  pub_rec                     84198 non-null  int64  \n",
      " 11  revol_bal                   84198 non-null  int64  \n",
      " 12  revol_util                  84198 non-null  float64\n",
      " 13  total_pymnt                 84198 non-null  float64\n",
      " 14  total_rec_int               84198 non-null  float64\n",
      " 15  total_rec_late_fee          84198 non-null  float64\n",
      " 16  collections_12_mths_ex_med  84198 non-null  int64  \n",
      " 17  tot_coll_amt                84198 non-null  int64  \n",
      " 18  tot_cur_bal                 84198 non-null  int64  \n",
      " 19  open_acc_6m                 84198 non-null  int64  \n",
      " 20  open_act_il                 84198 non-null  int64  \n",
      " 21  open_il_12m                 84198 non-null  int64  \n",
      " 22  mths_since_rcnt_il          84198 non-null  int64  \n",
      " 23  total_bal_il                84198 non-null  int64  \n",
      " 24  open_rv_12m                 84198 non-null  int64  \n",
      " 25  max_bal_bc                  84198 non-null  int64  \n",
      " 26  all_util                    84198 non-null  int64  \n",
      " 27  inq_fi                      84198 non-null  int64  \n",
      " 28  total_cu_tl                 84198 non-null  int64  \n",
      " 29  inq_last_12m                84198 non-null  int64  \n",
      " 30  chargeoff_within_12_mths    84198 non-null  int64  \n",
      " 31  delinq_amnt                 84198 non-null  int64  \n",
      " 32  mo_sin_old_il_acct          84198 non-null  int64  \n",
      " 33  mo_sin_old_rev_tl_op        84198 non-null  int64  \n",
      " 34  mo_sin_rcnt_rev_tl_op       84198 non-null  int64  \n",
      " 35  mo_sin_rcnt_tl              84198 non-null  int64  \n",
      " 36  mort_acc                    84198 non-null  int64  \n",
      " 37  mths_since_recent_bc        84198 non-null  int64  \n",
      " 38  num_accts_ever_120_pd       84198 non-null  int64  \n",
      " 39  num_actv_bc_tl              84198 non-null  int64  \n",
      " 40  num_tl_90g_dpd_24m          84198 non-null  int64  \n",
      " 41  pct_tl_nvr_dlq              84198 non-null  float64\n",
      " 42  issue_month                 84198 non-null  int64  \n",
      " 43  last_credit_pull_month      84198 non-null  int64  \n",
      " 44  whole_loan                  84198 non-null  int64  \n",
      " 45  joint_app                   84198 non-null  int64  \n",
      " 46  high_risk                   84198 non-null  int64  \n",
      " 47  purpose_debt                84198 non-null  int64  \n",
      "dtypes: float64(8), int64(40)\n",
      "memory usage: 31.5 MB\n"
     ]
    }
   ],
   "source": [
    "# Find integer columns\n",
    "df_int = df_num % 1\n",
    "int_cols = df_int.nunique()[df_int.nunique() < 2].index\n",
    "\n",
    "# Convert above columns to integer type\n",
    "for col in int_cols:\n",
    "    df_num[col] = df_num[col].astype(int)\n",
    "    \n",
    "df_num.info()"
   ]
  },
  {
   "cell_type": "code",
   "execution_count": 17,
   "metadata": {},
   "outputs": [
    {
     "data": {
      "text/html": [
       "<div>\n",
       "<style scoped>\n",
       "    .dataframe tbody tr th:only-of-type {\n",
       "        vertical-align: middle;\n",
       "    }\n",
       "\n",
       "    .dataframe tbody tr th {\n",
       "        vertical-align: top;\n",
       "    }\n",
       "\n",
       "    .dataframe thead th {\n",
       "        text-align: right;\n",
       "    }\n",
       "</style>\n",
       "<table border=\"1\" class=\"dataframe\">\n",
       "  <thead>\n",
       "    <tr style=\"text-align: right;\">\n",
       "      <th></th>\n",
       "      <th>loan_amnt</th>\n",
       "      <th>term</th>\n",
       "      <th>int_rate</th>\n",
       "      <th>emp_length</th>\n",
       "      <th>home_ownership</th>\n",
       "      <th>annual_inc</th>\n",
       "      <th>dti</th>\n",
       "      <th>delinq_2yrs</th>\n",
       "      <th>inq_last_6mths</th>\n",
       "      <th>open_acc</th>\n",
       "      <th>...</th>\n",
       "      <th>num_accts_ever_120_pd</th>\n",
       "      <th>num_actv_bc_tl</th>\n",
       "      <th>num_tl_90g_dpd_24m</th>\n",
       "      <th>pct_tl_nvr_dlq</th>\n",
       "      <th>issue_month</th>\n",
       "      <th>last_credit_pull_month</th>\n",
       "      <th>whole_loan</th>\n",
       "      <th>joint_app</th>\n",
       "      <th>high_risk</th>\n",
       "      <th>purpose_debt</th>\n",
       "    </tr>\n",
       "  </thead>\n",
       "  <tbody>\n",
       "    <tr>\n",
       "      <th>0</th>\n",
       "      <td>35000</td>\n",
       "      <td>60</td>\n",
       "      <td>13.08</td>\n",
       "      <td>1</td>\n",
       "      <td>1</td>\n",
       "      <td>125890.0</td>\n",
       "      <td>30.48</td>\n",
       "      <td>0</td>\n",
       "      <td>0</td>\n",
       "      <td>14</td>\n",
       "      <td>...</td>\n",
       "      <td>0</td>\n",
       "      <td>5</td>\n",
       "      <td>0</td>\n",
       "      <td>100.0</td>\n",
       "      <td>3</td>\n",
       "      <td>4</td>\n",
       "      <td>1</td>\n",
       "      <td>0</td>\n",
       "      <td>0</td>\n",
       "      <td>1</td>\n",
       "    </tr>\n",
       "    <tr>\n",
       "      <th>1</th>\n",
       "      <td>20000</td>\n",
       "      <td>36</td>\n",
       "      <td>22.50</td>\n",
       "      <td>10</td>\n",
       "      <td>0</td>\n",
       "      <td>75000.0</td>\n",
       "      <td>24.37</td>\n",
       "      <td>0</td>\n",
       "      <td>0</td>\n",
       "      <td>8</td>\n",
       "      <td>...</td>\n",
       "      <td>0</td>\n",
       "      <td>6</td>\n",
       "      <td>0</td>\n",
       "      <td>100.0</td>\n",
       "      <td>3</td>\n",
       "      <td>4</td>\n",
       "      <td>1</td>\n",
       "      <td>0</td>\n",
       "      <td>0</td>\n",
       "      <td>1</td>\n",
       "    </tr>\n",
       "    <tr>\n",
       "      <th>2</th>\n",
       "      <td>10500</td>\n",
       "      <td>36</td>\n",
       "      <td>17.19</td>\n",
       "      <td>9</td>\n",
       "      <td>0</td>\n",
       "      <td>66000.0</td>\n",
       "      <td>27.24</td>\n",
       "      <td>0</td>\n",
       "      <td>0</td>\n",
       "      <td>8</td>\n",
       "      <td>...</td>\n",
       "      <td>0</td>\n",
       "      <td>1</td>\n",
       "      <td>0</td>\n",
       "      <td>85.7</td>\n",
       "      <td>3</td>\n",
       "      <td>4</td>\n",
       "      <td>1</td>\n",
       "      <td>0</td>\n",
       "      <td>0</td>\n",
       "      <td>1</td>\n",
       "    </tr>\n",
       "  </tbody>\n",
       "</table>\n",
       "<p>3 rows × 48 columns</p>\n",
       "</div>"
      ],
      "text/plain": [
       "   loan_amnt  term  int_rate  emp_length  home_ownership  annual_inc    dti  \\\n",
       "0      35000    60     13.08           1               1    125890.0  30.48   \n",
       "1      20000    36     22.50          10               0     75000.0  24.37   \n",
       "2      10500    36     17.19           9               0     66000.0  27.24   \n",
       "\n",
       "   delinq_2yrs  inq_last_6mths  open_acc  ...  num_accts_ever_120_pd  \\\n",
       "0            0               0        14  ...                      0   \n",
       "1            0               0         8  ...                      0   \n",
       "2            0               0         8  ...                      0   \n",
       "\n",
       "   num_actv_bc_tl  num_tl_90g_dpd_24m  pct_tl_nvr_dlq  issue_month  \\\n",
       "0               5                   0           100.0            3   \n",
       "1               6                   0           100.0            3   \n",
       "2               1                   0            85.7            3   \n",
       "\n",
       "   last_credit_pull_month  whole_loan  joint_app  high_risk  purpose_debt  \n",
       "0                       4           1          0          0             1  \n",
       "1                       4           1          0          0             1  \n",
       "2                       4           1          0          0             1  \n",
       "\n",
       "[3 rows x 48 columns]"
      ]
     },
     "execution_count": 17,
     "metadata": {},
     "output_type": "execute_result"
    }
   ],
   "source": [
    "# Reset index\n",
    "df_num.reset_index(drop=True, inplace=True)\n",
    "df_num.head(3)"
   ]
  },
  {
   "cell_type": "markdown",
   "metadata": {},
   "source": [
    "### Data preprocessing"
   ]
  },
  {
   "cell_type": "code",
   "execution_count": 18,
   "metadata": {},
   "outputs": [
    {
     "data": {
      "text/plain": [
       "0    83748\n",
       "1      450\n",
       "Name: high_risk, dtype: int64"
      ]
     },
     "execution_count": 18,
     "metadata": {},
     "output_type": "execute_result"
    }
   ],
   "source": [
    "# Count target labels\n",
    "df_num['high_risk'].value_counts()"
   ]
  },
  {
   "cell_type": "code",
   "execution_count": 19,
   "metadata": {},
   "outputs": [
    {
     "data": {
      "text/plain": [
       "((50518, 47), (50518,), (16840, 47), (16840,), (16840, 47), (16840,))"
      ]
     },
     "execution_count": 19,
     "metadata": {},
     "output_type": "execute_result"
    }
   ],
   "source": [
    "# Feature/target split\n",
    "X = df_num.drop('high_risk', axis=1).copy()\n",
    "y = df_num['high_risk'].copy()\n",
    "\n",
    "# Train/validation/test split\n",
    "X_train, X_test, y_train, y_test = train_test_split(X, y, test_size=0.4, stratify=y, random_state=42)\n",
    "X_val, X_test, y_val, y_test = train_test_split(X_test, y_test, test_size=0.5, stratify=y_test, random_state=42)\n",
    "X_train.shape, y_train.shape, X_val.shape, y_val.shape, X_test.shape, y_test.shape"
   ]
  },
  {
   "cell_type": "code",
   "execution_count": 20,
   "metadata": {},
   "outputs": [
    {
     "name": "stdout",
     "output_type": "stream",
     "text": [
      "0    50248\n",
      "1      270\n",
      "Name: high_risk, dtype: int64\n",
      "0    16750\n",
      "1       90\n",
      "Name: high_risk, dtype: int64\n",
      "0    16750\n",
      "1       90\n",
      "Name: high_risk, dtype: int64\n"
     ]
    }
   ],
   "source": [
    "# Count target labels in each set\n",
    "print(y_train.value_counts())\n",
    "print(y_val.value_counts())\n",
    "print(y_test.value_counts())"
   ]
  },
  {
   "cell_type": "code",
   "execution_count": 21,
   "metadata": {},
   "outputs": [
    {
     "data": {
      "text/html": [
       "<div>\n",
       "<style scoped>\n",
       "    .dataframe tbody tr th:only-of-type {\n",
       "        vertical-align: middle;\n",
       "    }\n",
       "\n",
       "    .dataframe tbody tr th {\n",
       "        vertical-align: top;\n",
       "    }\n",
       "\n",
       "    .dataframe thead th {\n",
       "        text-align: right;\n",
       "    }\n",
       "</style>\n",
       "<table border=\"1\" class=\"dataframe\">\n",
       "  <thead>\n",
       "    <tr style=\"text-align: right;\">\n",
       "      <th></th>\n",
       "      <th>loan_amnt</th>\n",
       "      <th>term</th>\n",
       "      <th>int_rate</th>\n",
       "      <th>emp_length</th>\n",
       "      <th>home_ownership</th>\n",
       "      <th>annual_inc</th>\n",
       "      <th>dti</th>\n",
       "      <th>delinq_2yrs</th>\n",
       "      <th>inq_last_6mths</th>\n",
       "      <th>open_acc</th>\n",
       "      <th>...</th>\n",
       "      <th>mths_since_recent_bc</th>\n",
       "      <th>num_accts_ever_120_pd</th>\n",
       "      <th>num_actv_bc_tl</th>\n",
       "      <th>num_tl_90g_dpd_24m</th>\n",
       "      <th>pct_tl_nvr_dlq</th>\n",
       "      <th>issue_month</th>\n",
       "      <th>last_credit_pull_month</th>\n",
       "      <th>whole_loan</th>\n",
       "      <th>joint_app</th>\n",
       "      <th>purpose_debt</th>\n",
       "    </tr>\n",
       "  </thead>\n",
       "  <tbody>\n",
       "    <tr>\n",
       "      <th>0</th>\n",
       "      <td>-0.972387</td>\n",
       "      <td>-0.703006</td>\n",
       "      <td>0.732672</td>\n",
       "      <td>-1.251658</td>\n",
       "      <td>-1.268834</td>\n",
       "      <td>-0.154803</td>\n",
       "      <td>-0.055052</td>\n",
       "      <td>-0.309825</td>\n",
       "      <td>-0.607667</td>\n",
       "      <td>-0.013543</td>\n",
       "      <td>...</td>\n",
       "      <td>0.406336</td>\n",
       "      <td>-0.317836</td>\n",
       "      <td>0.477172</td>\n",
       "      <td>-0.137288</td>\n",
       "      <td>0.589169</td>\n",
       "      <td>-0.975984</td>\n",
       "      <td>0.147108</td>\n",
       "      <td>-2.695437</td>\n",
       "      <td>-0.391972</td>\n",
       "      <td>0.431996</td>\n",
       "    </tr>\n",
       "    <tr>\n",
       "      <th>1</th>\n",
       "      <td>0.370574</td>\n",
       "      <td>1.422463</td>\n",
       "      <td>-0.044268</td>\n",
       "      <td>-1.251658</td>\n",
       "      <td>-1.268834</td>\n",
       "      <td>0.539986</td>\n",
       "      <td>-0.769578</td>\n",
       "      <td>-0.309825</td>\n",
       "      <td>-0.607667</td>\n",
       "      <td>0.657547</td>\n",
       "      <td>...</td>\n",
       "      <td>-0.638417</td>\n",
       "      <td>-0.317836</td>\n",
       "      <td>0.072094</td>\n",
       "      <td>-0.137288</td>\n",
       "      <td>0.589169</td>\n",
       "      <td>0.371104</td>\n",
       "      <td>0.147108</td>\n",
       "      <td>-2.695437</td>\n",
       "      <td>2.551200</td>\n",
       "      <td>-2.314836</td>\n",
       "    </tr>\n",
       "    <tr>\n",
       "      <th>2</th>\n",
       "      <td>-0.300906</td>\n",
       "      <td>1.422463</td>\n",
       "      <td>0.076220</td>\n",
       "      <td>-0.708172</td>\n",
       "      <td>-1.268834</td>\n",
       "      <td>-0.306232</td>\n",
       "      <td>0.666918</td>\n",
       "      <td>-0.309825</td>\n",
       "      <td>-0.607667</td>\n",
       "      <td>0.657547</td>\n",
       "      <td>...</td>\n",
       "      <td>-0.730602</td>\n",
       "      <td>-0.317836</td>\n",
       "      <td>0.072094</td>\n",
       "      <td>-0.137288</td>\n",
       "      <td>0.589169</td>\n",
       "      <td>0.371104</td>\n",
       "      <td>0.147108</td>\n",
       "      <td>-2.695437</td>\n",
       "      <td>-0.391972</td>\n",
       "      <td>0.431996</td>\n",
       "    </tr>\n",
       "  </tbody>\n",
       "</table>\n",
       "<p>3 rows × 47 columns</p>\n",
       "</div>"
      ],
      "text/plain": [
       "   loan_amnt      term  int_rate  emp_length  home_ownership  annual_inc  \\\n",
       "0  -0.972387 -0.703006  0.732672   -1.251658       -1.268834   -0.154803   \n",
       "1   0.370574  1.422463 -0.044268   -1.251658       -1.268834    0.539986   \n",
       "2  -0.300906  1.422463  0.076220   -0.708172       -1.268834   -0.306232   \n",
       "\n",
       "        dti  delinq_2yrs  inq_last_6mths  open_acc  ...  mths_since_recent_bc  \\\n",
       "0 -0.055052    -0.309825       -0.607667 -0.013543  ...              0.406336   \n",
       "1 -0.769578    -0.309825       -0.607667  0.657547  ...             -0.638417   \n",
       "2  0.666918    -0.309825       -0.607667  0.657547  ...             -0.730602   \n",
       "\n",
       "   num_accts_ever_120_pd  num_actv_bc_tl  num_tl_90g_dpd_24m  pct_tl_nvr_dlq  \\\n",
       "0              -0.317836        0.477172           -0.137288        0.589169   \n",
       "1              -0.317836        0.072094           -0.137288        0.589169   \n",
       "2              -0.317836        0.072094           -0.137288        0.589169   \n",
       "\n",
       "   issue_month  last_credit_pull_month  whole_loan  joint_app  purpose_debt  \n",
       "0    -0.975984                0.147108   -2.695437  -0.391972      0.431996  \n",
       "1     0.371104                0.147108   -2.695437   2.551200     -2.314836  \n",
       "2     0.371104                0.147108   -2.695437  -0.391972      0.431996  \n",
       "\n",
       "[3 rows x 47 columns]"
      ]
     },
     "execution_count": 21,
     "metadata": {},
     "output_type": "execute_result"
    }
   ],
   "source": [
    "# Scale data\n",
    "scaler = StandardScaler()\n",
    "X_train_scaled = pd.DataFrame(scaler.fit_transform(X_train), columns=X_train.columns)\n",
    "X_val_scaled = pd.DataFrame(scaler.transform(X_val), columns=X_val.columns)\n",
    "X_test_scaled = pd.DataFrame(scaler.transform(X_test), columns=X_test.columns)\n",
    "X_train_scaled.head(3)"
   ]
  },
  {
   "cell_type": "markdown",
   "metadata": {},
   "source": [
    "### Baseline machine learning"
   ]
  },
  {
   "cell_type": "code",
   "execution_count": 22,
   "metadata": {},
   "outputs": [
    {
     "name": "stdout",
     "output_type": "stream",
     "text": [
      "              precision    recall  f1-score   support\n",
      "\n",
      "           0       1.00      1.00      1.00     16750\n",
      "           1       0.77      0.11      0.19        90\n",
      "\n",
      "    accuracy                           1.00     16840\n",
      "   macro avg       0.88      0.56      0.60     16840\n",
      "weighted avg       0.99      1.00      0.99     16840\n",
      "\n",
      "Accuracy: 0.9950712589073634\n"
     ]
    },
    {
     "data": {
      "text/html": [
       "<div>\n",
       "<style scoped>\n",
       "    .dataframe tbody tr th:only-of-type {\n",
       "        vertical-align: middle;\n",
       "    }\n",
       "\n",
       "    .dataframe tbody tr th {\n",
       "        vertical-align: top;\n",
       "    }\n",
       "\n",
       "    .dataframe thead th {\n",
       "        text-align: right;\n",
       "    }\n",
       "</style>\n",
       "<table border=\"1\" class=\"dataframe\">\n",
       "  <thead>\n",
       "    <tr style=\"text-align: right;\">\n",
       "      <th></th>\n",
       "      <th>Predicted 0</th>\n",
       "      <th>Predicted 1</th>\n",
       "    </tr>\n",
       "  </thead>\n",
       "  <tbody>\n",
       "    <tr>\n",
       "      <th>0</th>\n",
       "      <td>16747</td>\n",
       "      <td>3</td>\n",
       "    </tr>\n",
       "    <tr>\n",
       "      <th>1</th>\n",
       "      <td>80</td>\n",
       "      <td>10</td>\n",
       "    </tr>\n",
       "  </tbody>\n",
       "</table>\n",
       "</div>"
      ],
      "text/plain": [
       "   Predicted 0  Predicted 1\n",
       "0        16747            3\n",
       "1           80           10"
      ]
     },
     "execution_count": 22,
     "metadata": {},
     "output_type": "execute_result"
    }
   ],
   "source": [
    "# Logistic regression\n",
    "lr = LogisticRegression(random_state=42)\n",
    "lr.fit(X_train_scaled, y_train)\n",
    "\n",
    "# Evaluate model\n",
    "lr_val_pred = lr.predict(X_val_scaled)\n",
    "print(classification_report(y_val, lr_val_pred))\n",
    "print('Accuracy:', accuracy_score(y_val, lr_val_pred))\n",
    "pd.DataFrame(confusion_matrix(y_val, lr_val_pred), index=['0', '1'], columns=['Predicted 0', 'Predicted 1'])"
   ]
  },
  {
   "cell_type": "code",
   "execution_count": 23,
   "metadata": {},
   "outputs": [
    {
     "name": "stdout",
     "output_type": "stream",
     "text": [
      "              precision    recall  f1-score   support\n",
      "\n",
      "           0       1.00      1.00      1.00     16750\n",
      "           1       0.38      0.39      0.39        90\n",
      "\n",
      "    accuracy                           0.99     16840\n",
      "   macro avg       0.69      0.69      0.69     16840\n",
      "weighted avg       0.99      0.99      0.99     16840\n",
      "\n",
      "Accuracy: 0.9934085510688836\n"
     ]
    },
    {
     "data": {
      "text/html": [
       "<div>\n",
       "<style scoped>\n",
       "    .dataframe tbody tr th:only-of-type {\n",
       "        vertical-align: middle;\n",
       "    }\n",
       "\n",
       "    .dataframe tbody tr th {\n",
       "        vertical-align: top;\n",
       "    }\n",
       "\n",
       "    .dataframe thead th {\n",
       "        text-align: right;\n",
       "    }\n",
       "</style>\n",
       "<table border=\"1\" class=\"dataframe\">\n",
       "  <thead>\n",
       "    <tr style=\"text-align: right;\">\n",
       "      <th></th>\n",
       "      <th>Predicted 0</th>\n",
       "      <th>Predicted 1</th>\n",
       "    </tr>\n",
       "  </thead>\n",
       "  <tbody>\n",
       "    <tr>\n",
       "      <th>0</th>\n",
       "      <td>16694</td>\n",
       "      <td>56</td>\n",
       "    </tr>\n",
       "    <tr>\n",
       "      <th>1</th>\n",
       "      <td>55</td>\n",
       "      <td>35</td>\n",
       "    </tr>\n",
       "  </tbody>\n",
       "</table>\n",
       "</div>"
      ],
      "text/plain": [
       "   Predicted 0  Predicted 1\n",
       "0        16694           56\n",
       "1           55           35"
      ]
     },
     "execution_count": 23,
     "metadata": {},
     "output_type": "execute_result"
    }
   ],
   "source": [
    "# Decision tree\n",
    "tree = DecisionTreeClassifier(random_state=42)\n",
    "tree.fit(X_train_scaled, y_train)\n",
    "\n",
    "# Evaluate model\n",
    "tree_val_pred = tree.predict(X_val_scaled)\n",
    "print(classification_report(y_val, tree_val_pred))\n",
    "print('Accuracy:', accuracy_score(y_val, tree_val_pred))\n",
    "pd.DataFrame(confusion_matrix(y_val, tree_val_pred), index=['0', '1'], columns=['Predicted 0', 'Predicted 1'])"
   ]
  },
  {
   "cell_type": "markdown",
   "metadata": {},
   "source": [
    "### Undersampling"
   ]
  },
  {
   "cell_type": "code",
   "execution_count": 24,
   "metadata": {},
   "outputs": [
    {
     "data": {
      "text/plain": [
       "Counter({0: 270, 1: 270})"
      ]
     },
     "execution_count": 24,
     "metadata": {},
     "output_type": "execute_result"
    }
   ],
   "source": [
    "# Random undersampling\n",
    "rus = RandomUnderSampler(random_state=42)\n",
    "X_rus, y_rus = rus.fit_resample(X_train_scaled, y_train)\n",
    "Counter(y_rus)"
   ]
  },
  {
   "cell_type": "code",
   "execution_count": 25,
   "metadata": {},
   "outputs": [
    {
     "name": "stdout",
     "output_type": "stream",
     "text": [
      "              precision    recall  f1-score   support\n",
      "\n",
      "           0       1.00      0.75      0.85     16750\n",
      "           1       0.01      0.62      0.03        90\n",
      "\n",
      "    accuracy                           0.75     16840\n",
      "   macro avg       0.51      0.68      0.44     16840\n",
      "weighted avg       0.99      0.75      0.85     16840\n",
      "\n",
      "Accuracy: 0.7466152019002376\n"
     ]
    },
    {
     "data": {
      "text/html": [
       "<div>\n",
       "<style scoped>\n",
       "    .dataframe tbody tr th:only-of-type {\n",
       "        vertical-align: middle;\n",
       "    }\n",
       "\n",
       "    .dataframe tbody tr th {\n",
       "        vertical-align: top;\n",
       "    }\n",
       "\n",
       "    .dataframe thead th {\n",
       "        text-align: right;\n",
       "    }\n",
       "</style>\n",
       "<table border=\"1\" class=\"dataframe\">\n",
       "  <thead>\n",
       "    <tr style=\"text-align: right;\">\n",
       "      <th></th>\n",
       "      <th>Predicted 0</th>\n",
       "      <th>Predicted 1</th>\n",
       "    </tr>\n",
       "  </thead>\n",
       "  <tbody>\n",
       "    <tr>\n",
       "      <th>0</th>\n",
       "      <td>12517</td>\n",
       "      <td>4233</td>\n",
       "    </tr>\n",
       "    <tr>\n",
       "      <th>1</th>\n",
       "      <td>34</td>\n",
       "      <td>56</td>\n",
       "    </tr>\n",
       "  </tbody>\n",
       "</table>\n",
       "</div>"
      ],
      "text/plain": [
       "   Predicted 0  Predicted 1\n",
       "0        12517         4233\n",
       "1           34           56"
      ]
     },
     "execution_count": 25,
     "metadata": {},
     "output_type": "execute_result"
    }
   ],
   "source": [
    "# Logistic regression\n",
    "lr_rus = LogisticRegression(random_state=42)\n",
    "lr_rus.fit(X_rus, y_rus)\n",
    "\n",
    "# Evaluate model\n",
    "lr_rus_val_pred = lr_rus.predict(X_val_scaled)\n",
    "print(classification_report(y_val, lr_rus_val_pred))\n",
    "print('Accuracy:', accuracy_score(y_val, lr_rus_val_pred))\n",
    "pd.DataFrame(confusion_matrix(y_val, lr_rus_val_pred), index=['0', '1'], columns=['Predicted 0', 'Predicted 1'])"
   ]
  },
  {
   "cell_type": "code",
   "execution_count": 26,
   "metadata": {},
   "outputs": [
    {
     "name": "stdout",
     "output_type": "stream",
     "text": [
      "              precision    recall  f1-score   support\n",
      "\n",
      "           0       1.00      0.72      0.83     16750\n",
      "           1       0.01      0.69      0.03        90\n",
      "\n",
      "    accuracy                           0.72     16840\n",
      "   macro avg       0.51      0.70      0.43     16840\n",
      "weighted avg       0.99      0.72      0.83     16840\n",
      "\n",
      "Accuracy: 0.7175771971496437\n"
     ]
    },
    {
     "data": {
      "text/html": [
       "<div>\n",
       "<style scoped>\n",
       "    .dataframe tbody tr th:only-of-type {\n",
       "        vertical-align: middle;\n",
       "    }\n",
       "\n",
       "    .dataframe tbody tr th {\n",
       "        vertical-align: top;\n",
       "    }\n",
       "\n",
       "    .dataframe thead th {\n",
       "        text-align: right;\n",
       "    }\n",
       "</style>\n",
       "<table border=\"1\" class=\"dataframe\">\n",
       "  <thead>\n",
       "    <tr style=\"text-align: right;\">\n",
       "      <th></th>\n",
       "      <th>Predicted 0</th>\n",
       "      <th>Predicted 1</th>\n",
       "    </tr>\n",
       "  </thead>\n",
       "  <tbody>\n",
       "    <tr>\n",
       "      <th>0</th>\n",
       "      <td>12022</td>\n",
       "      <td>4728</td>\n",
       "    </tr>\n",
       "    <tr>\n",
       "      <th>1</th>\n",
       "      <td>28</td>\n",
       "      <td>62</td>\n",
       "    </tr>\n",
       "  </tbody>\n",
       "</table>\n",
       "</div>"
      ],
      "text/plain": [
       "   Predicted 0  Predicted 1\n",
       "0        12022         4728\n",
       "1           28           62"
      ]
     },
     "execution_count": 26,
     "metadata": {},
     "output_type": "execute_result"
    }
   ],
   "source": [
    "# Decision tree\n",
    "tree_rus = DecisionTreeClassifier(random_state=42)\n",
    "tree_rus.fit(X_rus, y_rus)\n",
    "\n",
    "# Evaluate model\n",
    "tree_rus_val_pred = tree_rus.predict(X_val_scaled)\n",
    "print(classification_report(y_val, tree_rus_val_pred))\n",
    "print('Accuracy:', accuracy_score(y_val, tree_rus_val_pred))\n",
    "pd.DataFrame(confusion_matrix(y_val, tree_rus_val_pred), index=['0', '1'], columns=['Predicted 0', 'Predicted 1'])"
   ]
  },
  {
   "cell_type": "code",
   "execution_count": 27,
   "metadata": {},
   "outputs": [
    {
     "data": {
      "text/plain": [
       "Counter({0: 270, 1: 270})"
      ]
     },
     "execution_count": 27,
     "metadata": {},
     "output_type": "execute_result"
    }
   ],
   "source": [
    "# Cluster centroid undersampling\n",
    "ccu = ClusterCentroids(random_state=42)\n",
    "X_ccu, y_ccu = ccu.fit_resample(X_train_scaled, y_train)\n",
    "Counter(y_ccu)"
   ]
  },
  {
   "cell_type": "code",
   "execution_count": 28,
   "metadata": {},
   "outputs": [
    {
     "name": "stdout",
     "output_type": "stream",
     "text": [
      "              precision    recall  f1-score   support\n",
      "\n",
      "           0       1.00      0.73      0.85     16750\n",
      "           1       0.01      0.69      0.03        90\n",
      "\n",
      "    accuracy                           0.73     16840\n",
      "   macro avg       0.51      0.71      0.44     16840\n",
      "weighted avg       0.99      0.73      0.84     16840\n",
      "\n",
      "Accuracy: 0.7326009501187648\n"
     ]
    },
    {
     "data": {
      "text/html": [
       "<div>\n",
       "<style scoped>\n",
       "    .dataframe tbody tr th:only-of-type {\n",
       "        vertical-align: middle;\n",
       "    }\n",
       "\n",
       "    .dataframe tbody tr th {\n",
       "        vertical-align: top;\n",
       "    }\n",
       "\n",
       "    .dataframe thead th {\n",
       "        text-align: right;\n",
       "    }\n",
       "</style>\n",
       "<table border=\"1\" class=\"dataframe\">\n",
       "  <thead>\n",
       "    <tr style=\"text-align: right;\">\n",
       "      <th></th>\n",
       "      <th>Predicted 0</th>\n",
       "      <th>Predicted 1</th>\n",
       "    </tr>\n",
       "  </thead>\n",
       "  <tbody>\n",
       "    <tr>\n",
       "      <th>0</th>\n",
       "      <td>12275</td>\n",
       "      <td>4475</td>\n",
       "    </tr>\n",
       "    <tr>\n",
       "      <th>1</th>\n",
       "      <td>28</td>\n",
       "      <td>62</td>\n",
       "    </tr>\n",
       "  </tbody>\n",
       "</table>\n",
       "</div>"
      ],
      "text/plain": [
       "   Predicted 0  Predicted 1\n",
       "0        12275         4475\n",
       "1           28           62"
      ]
     },
     "execution_count": 28,
     "metadata": {},
     "output_type": "execute_result"
    }
   ],
   "source": [
    "# Logistic regression\n",
    "lr_ccu = LogisticRegression(random_state=42)\n",
    "lr_ccu.fit(X_ccu, y_ccu)\n",
    "\n",
    "# Evaluate model\n",
    "lr_ccu_val_pred = lr_ccu.predict(X_val_scaled)\n",
    "print(classification_report(y_val, lr_ccu_val_pred))\n",
    "print('Accuracy:', accuracy_score(y_val, lr_ccu_val_pred))\n",
    "pd.DataFrame(confusion_matrix(y_val, lr_ccu_val_pred), index=['0', '1'], columns=['Predicted 0', 'Predicted 1'])"
   ]
  },
  {
   "cell_type": "code",
   "execution_count": 29,
   "metadata": {},
   "outputs": [
    {
     "name": "stdout",
     "output_type": "stream",
     "text": [
      "              precision    recall  f1-score   support\n",
      "\n",
      "           0       0.99      0.02      0.04     16750\n",
      "           1       0.01      0.98      0.01        90\n",
      "\n",
      "    accuracy                           0.03     16840\n",
      "   macro avg       0.50      0.50      0.03     16840\n",
      "weighted avg       0.99      0.03      0.04     16840\n",
      "\n",
      "Accuracy: 0.02684085510688836\n"
     ]
    },
    {
     "data": {
      "text/html": [
       "<div>\n",
       "<style scoped>\n",
       "    .dataframe tbody tr th:only-of-type {\n",
       "        vertical-align: middle;\n",
       "    }\n",
       "\n",
       "    .dataframe tbody tr th {\n",
       "        vertical-align: top;\n",
       "    }\n",
       "\n",
       "    .dataframe thead th {\n",
       "        text-align: right;\n",
       "    }\n",
       "</style>\n",
       "<table border=\"1\" class=\"dataframe\">\n",
       "  <thead>\n",
       "    <tr style=\"text-align: right;\">\n",
       "      <th></th>\n",
       "      <th>Predicted 0</th>\n",
       "      <th>Predicted 1</th>\n",
       "    </tr>\n",
       "  </thead>\n",
       "  <tbody>\n",
       "    <tr>\n",
       "      <th>0</th>\n",
       "      <td>364</td>\n",
       "      <td>16386</td>\n",
       "    </tr>\n",
       "    <tr>\n",
       "      <th>1</th>\n",
       "      <td>2</td>\n",
       "      <td>88</td>\n",
       "    </tr>\n",
       "  </tbody>\n",
       "</table>\n",
       "</div>"
      ],
      "text/plain": [
       "   Predicted 0  Predicted 1\n",
       "0          364        16386\n",
       "1            2           88"
      ]
     },
     "execution_count": 29,
     "metadata": {},
     "output_type": "execute_result"
    }
   ],
   "source": [
    "# Decision tree\n",
    "tree_ccu = DecisionTreeClassifier(random_state=42)\n",
    "tree_ccu.fit(X_ccu, y_ccu)\n",
    "\n",
    "# Evaluate model\n",
    "tree_ccu_val_pred = tree_ccu.predict(X_val_scaled)\n",
    "print(classification_report(y_val, tree_ccu_val_pred))\n",
    "print('Accuracy:', accuracy_score(y_val, tree_ccu_val_pred))\n",
    "pd.DataFrame(confusion_matrix(y_val, tree_ccu_val_pred), index=['0', '1'], columns=['Predicted 0', 'Predicted 1'])"
   ]
  },
  {
   "cell_type": "markdown",
   "metadata": {},
   "source": [
    "### Oversampling"
   ]
  },
  {
   "cell_type": "code",
   "execution_count": 30,
   "metadata": {},
   "outputs": [
    {
     "data": {
      "text/plain": [
       "Counter({0: 50248, 1: 50248})"
      ]
     },
     "execution_count": 30,
     "metadata": {},
     "output_type": "execute_result"
    }
   ],
   "source": [
    "# Random oversampling\n",
    "ros = RandomOverSampler(random_state=42)\n",
    "X_ros, y_ros = ros.fit_resample(X_train_scaled, y_train)\n",
    "Counter(y_ros)"
   ]
  },
  {
   "cell_type": "code",
   "execution_count": 31,
   "metadata": {},
   "outputs": [
    {
     "name": "stdout",
     "output_type": "stream",
     "text": [
      "              precision    recall  f1-score   support\n",
      "\n",
      "           0       1.00      0.82      0.90     16750\n",
      "           1       0.02      0.62      0.04        90\n",
      "\n",
      "    accuracy                           0.82     16840\n",
      "   macro avg       0.51      0.72      0.47     16840\n",
      "weighted avg       0.99      0.82      0.90     16840\n",
      "\n",
      "Accuracy: 0.8182897862232779\n"
     ]
    },
    {
     "data": {
      "text/html": [
       "<div>\n",
       "<style scoped>\n",
       "    .dataframe tbody tr th:only-of-type {\n",
       "        vertical-align: middle;\n",
       "    }\n",
       "\n",
       "    .dataframe tbody tr th {\n",
       "        vertical-align: top;\n",
       "    }\n",
       "\n",
       "    .dataframe thead th {\n",
       "        text-align: right;\n",
       "    }\n",
       "</style>\n",
       "<table border=\"1\" class=\"dataframe\">\n",
       "  <thead>\n",
       "    <tr style=\"text-align: right;\">\n",
       "      <th></th>\n",
       "      <th>Predicted 0</th>\n",
       "      <th>Predicted 1</th>\n",
       "    </tr>\n",
       "  </thead>\n",
       "  <tbody>\n",
       "    <tr>\n",
       "      <th>0</th>\n",
       "      <td>13724</td>\n",
       "      <td>3026</td>\n",
       "    </tr>\n",
       "    <tr>\n",
       "      <th>1</th>\n",
       "      <td>34</td>\n",
       "      <td>56</td>\n",
       "    </tr>\n",
       "  </tbody>\n",
       "</table>\n",
       "</div>"
      ],
      "text/plain": [
       "   Predicted 0  Predicted 1\n",
       "0        13724         3026\n",
       "1           34           56"
      ]
     },
     "execution_count": 31,
     "metadata": {},
     "output_type": "execute_result"
    }
   ],
   "source": [
    "# Logistic regression\n",
    "lr_ros = LogisticRegression(random_state=42)\n",
    "lr_ros.fit(X_ros, y_ros)\n",
    "\n",
    "# Evaluate model\n",
    "lr_ros_val_pred = lr_ros.predict(X_val_scaled)\n",
    "print(classification_report(y_val, lr_ros_val_pred))\n",
    "print('Accuracy:', accuracy_score(y_val, lr_ros_val_pred))\n",
    "pd.DataFrame(confusion_matrix(y_val, lr_ros_val_pred), index=['0', '1'], columns=['Predicted 0', 'Predicted 1'])"
   ]
  },
  {
   "cell_type": "code",
   "execution_count": 32,
   "metadata": {},
   "outputs": [
    {
     "name": "stdout",
     "output_type": "stream",
     "text": [
      "              precision    recall  f1-score   support\n",
      "\n",
      "           0       1.00      1.00      1.00     16750\n",
      "           1       0.36      0.32      0.34        90\n",
      "\n",
      "    accuracy                           0.99     16840\n",
      "   macro avg       0.68      0.66      0.67     16840\n",
      "weighted avg       0.99      0.99      0.99     16840\n",
      "\n",
      "Accuracy: 0.9933491686460808\n"
     ]
    },
    {
     "data": {
      "text/html": [
       "<div>\n",
       "<style scoped>\n",
       "    .dataframe tbody tr th:only-of-type {\n",
       "        vertical-align: middle;\n",
       "    }\n",
       "\n",
       "    .dataframe tbody tr th {\n",
       "        vertical-align: top;\n",
       "    }\n",
       "\n",
       "    .dataframe thead th {\n",
       "        text-align: right;\n",
       "    }\n",
       "</style>\n",
       "<table border=\"1\" class=\"dataframe\">\n",
       "  <thead>\n",
       "    <tr style=\"text-align: right;\">\n",
       "      <th></th>\n",
       "      <th>Predicted 0</th>\n",
       "      <th>Predicted 1</th>\n",
       "    </tr>\n",
       "  </thead>\n",
       "  <tbody>\n",
       "    <tr>\n",
       "      <th>0</th>\n",
       "      <td>16699</td>\n",
       "      <td>51</td>\n",
       "    </tr>\n",
       "    <tr>\n",
       "      <th>1</th>\n",
       "      <td>61</td>\n",
       "      <td>29</td>\n",
       "    </tr>\n",
       "  </tbody>\n",
       "</table>\n",
       "</div>"
      ],
      "text/plain": [
       "   Predicted 0  Predicted 1\n",
       "0        16699           51\n",
       "1           61           29"
      ]
     },
     "execution_count": 32,
     "metadata": {},
     "output_type": "execute_result"
    }
   ],
   "source": [
    "# Decision tree\n",
    "tree_ros = DecisionTreeClassifier(random_state=42)\n",
    "tree_ros.fit(X_ros, y_ros)\n",
    "\n",
    "# Evaluate model\n",
    "tree_ros_val_pred = tree_ros.predict(X_val_scaled)\n",
    "print(classification_report(y_val, tree_ros_val_pred))\n",
    "print('Accuracy:', accuracy_score(y_val, tree_ros_val_pred))\n",
    "pd.DataFrame(confusion_matrix(y_val, tree_ros_val_pred), index=['0', '1'], columns=['Predicted 0', 'Predicted 1'])"
   ]
  },
  {
   "cell_type": "code",
   "execution_count": 33,
   "metadata": {},
   "outputs": [
    {
     "data": {
      "text/plain": [
       "Counter({0: 50248, 1: 50248})"
      ]
     },
     "execution_count": 33,
     "metadata": {},
     "output_type": "execute_result"
    }
   ],
   "source": [
    "# SMOTE\n",
    "smo = SMOTE(random_state=42)\n",
    "X_smo, y_smo = smo.fit_resample(X_train_scaled, y_train)\n",
    "Counter(y_smo)"
   ]
  },
  {
   "cell_type": "code",
   "execution_count": 34,
   "metadata": {},
   "outputs": [
    {
     "name": "stdout",
     "output_type": "stream",
     "text": [
      "              precision    recall  f1-score   support\n",
      "\n",
      "           0       1.00      0.83      0.91     16750\n",
      "           1       0.02      0.67      0.04        90\n",
      "\n",
      "    accuracy                           0.83     16840\n",
      "   macro avg       0.51      0.75      0.47     16840\n",
      "weighted avg       0.99      0.83      0.90     16840\n",
      "\n",
      "Accuracy: 0.8291567695961995\n"
     ]
    },
    {
     "data": {
      "text/html": [
       "<div>\n",
       "<style scoped>\n",
       "    .dataframe tbody tr th:only-of-type {\n",
       "        vertical-align: middle;\n",
       "    }\n",
       "\n",
       "    .dataframe tbody tr th {\n",
       "        vertical-align: top;\n",
       "    }\n",
       "\n",
       "    .dataframe thead th {\n",
       "        text-align: right;\n",
       "    }\n",
       "</style>\n",
       "<table border=\"1\" class=\"dataframe\">\n",
       "  <thead>\n",
       "    <tr style=\"text-align: right;\">\n",
       "      <th></th>\n",
       "      <th>Predicted 0</th>\n",
       "      <th>Predicted 1</th>\n",
       "    </tr>\n",
       "  </thead>\n",
       "  <tbody>\n",
       "    <tr>\n",
       "      <th>0</th>\n",
       "      <td>13903</td>\n",
       "      <td>2847</td>\n",
       "    </tr>\n",
       "    <tr>\n",
       "      <th>1</th>\n",
       "      <td>30</td>\n",
       "      <td>60</td>\n",
       "    </tr>\n",
       "  </tbody>\n",
       "</table>\n",
       "</div>"
      ],
      "text/plain": [
       "   Predicted 0  Predicted 1\n",
       "0        13903         2847\n",
       "1           30           60"
      ]
     },
     "execution_count": 34,
     "metadata": {},
     "output_type": "execute_result"
    }
   ],
   "source": [
    "# Logistic regression\n",
    "lr_smo = LogisticRegression(random_state=42)\n",
    "lr_smo.fit(X_smo, y_smo)\n",
    "\n",
    "# Evaluate model\n",
    "lr_smo_val_pred = lr_smo.predict(X_val_scaled)\n",
    "print(classification_report(y_val, lr_smo_val_pred))\n",
    "print('Accuracy:', accuracy_score(y_val, lr_smo_val_pred))\n",
    "pd.DataFrame(confusion_matrix(y_val, lr_smo_val_pred), index=['0', '1'], columns=['Predicted 0', 'Predicted 1'])"
   ]
  },
  {
   "cell_type": "code",
   "execution_count": 35,
   "metadata": {},
   "outputs": [
    {
     "name": "stdout",
     "output_type": "stream",
     "text": [
      "              precision    recall  f1-score   support\n",
      "\n",
      "           0       1.00      0.99      0.99     16750\n",
      "           1       0.21      0.36      0.27        90\n",
      "\n",
      "    accuracy                           0.99     16840\n",
      "   macro avg       0.61      0.67      0.63     16840\n",
      "weighted avg       0.99      0.99      0.99     16840\n",
      "\n",
      "Accuracy: 0.9896080760095012\n"
     ]
    },
    {
     "data": {
      "text/html": [
       "<div>\n",
       "<style scoped>\n",
       "    .dataframe tbody tr th:only-of-type {\n",
       "        vertical-align: middle;\n",
       "    }\n",
       "\n",
       "    .dataframe tbody tr th {\n",
       "        vertical-align: top;\n",
       "    }\n",
       "\n",
       "    .dataframe thead th {\n",
       "        text-align: right;\n",
       "    }\n",
       "</style>\n",
       "<table border=\"1\" class=\"dataframe\">\n",
       "  <thead>\n",
       "    <tr style=\"text-align: right;\">\n",
       "      <th></th>\n",
       "      <th>Predicted 0</th>\n",
       "      <th>Predicted 1</th>\n",
       "    </tr>\n",
       "  </thead>\n",
       "  <tbody>\n",
       "    <tr>\n",
       "      <th>0</th>\n",
       "      <td>16633</td>\n",
       "      <td>117</td>\n",
       "    </tr>\n",
       "    <tr>\n",
       "      <th>1</th>\n",
       "      <td>58</td>\n",
       "      <td>32</td>\n",
       "    </tr>\n",
       "  </tbody>\n",
       "</table>\n",
       "</div>"
      ],
      "text/plain": [
       "   Predicted 0  Predicted 1\n",
       "0        16633          117\n",
       "1           58           32"
      ]
     },
     "execution_count": 35,
     "metadata": {},
     "output_type": "execute_result"
    }
   ],
   "source": [
    "# Decision tree\n",
    "tree_smo = DecisionTreeClassifier(random_state=42)\n",
    "tree_smo.fit(X_smo, y_smo)\n",
    "\n",
    "# Evaluate model\n",
    "tree_smo_val_pred = tree_smo.predict(X_val_scaled)\n",
    "print(classification_report(y_val, tree_smo_val_pred))\n",
    "print('Accuracy:', accuracy_score(y_val, tree_smo_val_pred))\n",
    "pd.DataFrame(confusion_matrix(y_val, tree_smo_val_pred), index=['0', '1'], columns=['Predicted 0', 'Predicted 1'])"
   ]
  },
  {
   "cell_type": "markdown",
   "metadata": {},
   "source": [
    "### Combination sampling"
   ]
  },
  {
   "cell_type": "code",
   "execution_count": 36,
   "metadata": {},
   "outputs": [
    {
     "data": {
      "text/plain": [
       "Counter({0: 46836, 1: 50248})"
      ]
     },
     "execution_count": 36,
     "metadata": {},
     "output_type": "execute_result"
    }
   ],
   "source": [
    "# SMOTEENN\n",
    "sen = SMOTEENN(random_state=42)\n",
    "X_sen, y_sen = sen.fit_resample(X_train_scaled, y_train)\n",
    "Counter(y_sen)"
   ]
  },
  {
   "cell_type": "code",
   "execution_count": 37,
   "metadata": {},
   "outputs": [
    {
     "name": "stdout",
     "output_type": "stream",
     "text": [
      "              precision    recall  f1-score   support\n",
      "\n",
      "           0       1.00      0.82      0.90     16750\n",
      "           1       0.02      0.69      0.04        90\n",
      "\n",
      "    accuracy                           0.81     16840\n",
      "   macro avg       0.51      0.75      0.47     16840\n",
      "weighted avg       0.99      0.81      0.89     16840\n",
      "\n",
      "Accuracy: 0.8146080760095011\n"
     ]
    },
    {
     "data": {
      "text/html": [
       "<div>\n",
       "<style scoped>\n",
       "    .dataframe tbody tr th:only-of-type {\n",
       "        vertical-align: middle;\n",
       "    }\n",
       "\n",
       "    .dataframe tbody tr th {\n",
       "        vertical-align: top;\n",
       "    }\n",
       "\n",
       "    .dataframe thead th {\n",
       "        text-align: right;\n",
       "    }\n",
       "</style>\n",
       "<table border=\"1\" class=\"dataframe\">\n",
       "  <thead>\n",
       "    <tr style=\"text-align: right;\">\n",
       "      <th></th>\n",
       "      <th>Predicted 0</th>\n",
       "      <th>Predicted 1</th>\n",
       "    </tr>\n",
       "  </thead>\n",
       "  <tbody>\n",
       "    <tr>\n",
       "      <th>0</th>\n",
       "      <td>13656</td>\n",
       "      <td>3094</td>\n",
       "    </tr>\n",
       "    <tr>\n",
       "      <th>1</th>\n",
       "      <td>28</td>\n",
       "      <td>62</td>\n",
       "    </tr>\n",
       "  </tbody>\n",
       "</table>\n",
       "</div>"
      ],
      "text/plain": [
       "   Predicted 0  Predicted 1\n",
       "0        13656         3094\n",
       "1           28           62"
      ]
     },
     "execution_count": 37,
     "metadata": {},
     "output_type": "execute_result"
    }
   ],
   "source": [
    "# Logistic regression`\n",
    "lr_sen = LogisticRegression(random_state=42)\n",
    "lr_sen.fit(X_sen, y_sen)\n",
    "\n",
    "# Evaluate model\n",
    "lr_sen_val_pred = lr_sen.predict(X_val_scaled)\n",
    "print(classification_report(y_val, lr_sen_val_pred))\n",
    "print('Accuracy:', accuracy_score(y_val, lr_sen_val_pred))\n",
    "pd.DataFrame(confusion_matrix(y_val, lr_sen_val_pred), index=['0', '1'], columns=['Predicted 0', 'Predicted 1'])"
   ]
  },
  {
   "cell_type": "code",
   "execution_count": 38,
   "metadata": {},
   "outputs": [
    {
     "name": "stdout",
     "output_type": "stream",
     "text": [
      "              precision    recall  f1-score   support\n",
      "\n",
      "           0       1.00      0.99      0.99     16750\n",
      "           1       0.18      0.38      0.25        90\n",
      "\n",
      "    accuracy                           0.99     16840\n",
      "   macro avg       0.59      0.68      0.62     16840\n",
      "weighted avg       0.99      0.99      0.99     16840\n",
      "\n",
      "Accuracy: 0.9877672209026128\n"
     ]
    },
    {
     "data": {
      "text/html": [
       "<div>\n",
       "<style scoped>\n",
       "    .dataframe tbody tr th:only-of-type {\n",
       "        vertical-align: middle;\n",
       "    }\n",
       "\n",
       "    .dataframe tbody tr th {\n",
       "        vertical-align: top;\n",
       "    }\n",
       "\n",
       "    .dataframe thead th {\n",
       "        text-align: right;\n",
       "    }\n",
       "</style>\n",
       "<table border=\"1\" class=\"dataframe\">\n",
       "  <thead>\n",
       "    <tr style=\"text-align: right;\">\n",
       "      <th></th>\n",
       "      <th>Predicted 0</th>\n",
       "      <th>Predicted 1</th>\n",
       "    </tr>\n",
       "  </thead>\n",
       "  <tbody>\n",
       "    <tr>\n",
       "      <th>0</th>\n",
       "      <td>16600</td>\n",
       "      <td>150</td>\n",
       "    </tr>\n",
       "    <tr>\n",
       "      <th>1</th>\n",
       "      <td>56</td>\n",
       "      <td>34</td>\n",
       "    </tr>\n",
       "  </tbody>\n",
       "</table>\n",
       "</div>"
      ],
      "text/plain": [
       "   Predicted 0  Predicted 1\n",
       "0        16600          150\n",
       "1           56           34"
      ]
     },
     "execution_count": 38,
     "metadata": {},
     "output_type": "execute_result"
    }
   ],
   "source": [
    "# Decision tree\n",
    "tree_sen = DecisionTreeClassifier(random_state=42)\n",
    "tree_sen.fit(X_sen, y_sen)\n",
    "\n",
    "# Evaluate model\n",
    "tree_sen_val_pred = tree_sen.predict(X_val_scaled)\n",
    "print(classification_report(y_val, tree_sen_val_pred))\n",
    "print('Accuracy:', accuracy_score(y_val, tree_sen_val_pred))\n",
    "pd.DataFrame(confusion_matrix(y_val, tree_sen_val_pred), index=['0', '1'], columns=['Predicted 0', 'Predicted 1'])"
   ]
  },
  {
   "cell_type": "markdown",
   "metadata": {},
   "source": [
    "### Sampling comparison"
   ]
  },
  {
   "cell_type": "code",
   "execution_count": 39,
   "metadata": {},
   "outputs": [
    {
     "data": {
      "text/plain": [
       "{'true_pos': 16747,\n",
       " 'false_neg': 3,\n",
       " 'false_pos': 80,\n",
       " 'true_neg': 10,\n",
       " 'precision_pos': 0.9952457360194925,\n",
       " 'recall_pos': 0.9998208955223881,\n",
       " 'f1_pos': 0.9975280698096911,\n",
       " 'precision_neg': 0.7692307692307693,\n",
       " 'recall_neg': 0.1111111111111111,\n",
       " 'f1_neg': 0.1941747572815534,\n",
       " 'f1_avg': 0.5958514135456222}"
      ]
     },
     "execution_count": 39,
     "metadata": {},
     "output_type": "execute_result"
    }
   ],
   "source": [
    "def clf_report(y_true, y_pred):\n",
    "    \n",
    "    \"\"\"\n",
    "    Using the confusion matrix and classification report, create a custom classification report \n",
    "    with the following values: true positives, false negatives, false positives, true negatives, \n",
    "    and the macro average F1 score, as well as the precision, recall, and F1 score for both classes. \n",
    "    In this case, the positive class is labeled 0 (low risk) and the negative class is labeled 1 \n",
    "    (high risk).\n",
    "    \n",
    "    Parameters\n",
    "    ----------\n",
    "    y_true : list-like\n",
    "        True target labels\n",
    "    y_pred : list-like\n",
    "        Predicted target labels\n",
    "    \n",
    "    Returns\n",
    "    -------\n",
    "    Dict\n",
    "        Custom classification report with the 11 listed values\n",
    "    \"\"\"\n",
    "    \n",
    "    # Confusion matrix and classification report\n",
    "    confusion_mat = confusion_matrix(y_true, y_pred)\n",
    "    clf_rep = classification_report(y_true, y_pred, output_dict=True)\n",
    "    \n",
    "    # Report values: true 0, false 1, false 0, true 1, F1 for 0, F1 for 1, accuracy\n",
    "    report = confusion_mat.ravel().tolist()\n",
    "    report.extend([clf_rep['0']['precision'], clf_rep['0']['recall'], clf_rep['0']['f1-score'], \n",
    "                   clf_rep['1']['precision'], clf_rep['1']['recall'], clf_rep['1']['f1-score'], \n",
    "                   clf_rep['macro avg']['f1-score']])\n",
    "    \n",
    "    # Add report keys\n",
    "    keys = ['true_pos', 'false_neg', 'false_pos', 'true_neg', \n",
    "            'precision_pos', 'recall_pos', 'f1_pos', \n",
    "            'precision_neg', 'recall_neg', 'f1_neg', 'f1_avg']\n",
    "    report = dict(zip(keys, report))\n",
    "    return report\n",
    "    \n",
    "\n",
    "# Test function\n",
    "clf_report(y_val, lr_val_pred)"
   ]
  },
  {
   "cell_type": "code",
   "execution_count": 40,
   "metadata": {},
   "outputs": [
    {
     "data": {
      "text/html": [
       "<div>\n",
       "<style scoped>\n",
       "    .dataframe tbody tr th:only-of-type {\n",
       "        vertical-align: middle;\n",
       "    }\n",
       "\n",
       "    .dataframe tbody tr th {\n",
       "        vertical-align: top;\n",
       "    }\n",
       "\n",
       "    .dataframe thead th {\n",
       "        text-align: right;\n",
       "    }\n",
       "</style>\n",
       "<table border=\"1\" class=\"dataframe\">\n",
       "  <thead>\n",
       "    <tr style=\"text-align: right;\">\n",
       "      <th></th>\n",
       "      <th>true_pos</th>\n",
       "      <th>false_neg</th>\n",
       "      <th>false_pos</th>\n",
       "      <th>true_neg</th>\n",
       "      <th>precision_pos</th>\n",
       "      <th>recall_pos</th>\n",
       "      <th>f1_pos</th>\n",
       "      <th>precision_neg</th>\n",
       "      <th>recall_neg</th>\n",
       "      <th>f1_neg</th>\n",
       "      <th>f1_avg</th>\n",
       "    </tr>\n",
       "  </thead>\n",
       "  <tbody>\n",
       "    <tr>\n",
       "      <th>base</th>\n",
       "      <td>16747</td>\n",
       "      <td>3</td>\n",
       "      <td>80</td>\n",
       "      <td>10</td>\n",
       "      <td>0.995246</td>\n",
       "      <td>0.999821</td>\n",
       "      <td>0.997528</td>\n",
       "      <td>0.769231</td>\n",
       "      <td>0.111111</td>\n",
       "      <td>0.194175</td>\n",
       "      <td>0.595851</td>\n",
       "    </tr>\n",
       "    <tr>\n",
       "      <th>rand_undersamp</th>\n",
       "      <td>12517</td>\n",
       "      <td>4233</td>\n",
       "      <td>34</td>\n",
       "      <td>56</td>\n",
       "      <td>0.997291</td>\n",
       "      <td>0.747284</td>\n",
       "      <td>0.854374</td>\n",
       "      <td>0.013057</td>\n",
       "      <td>0.622222</td>\n",
       "      <td>0.025577</td>\n",
       "      <td>0.439975</td>\n",
       "    </tr>\n",
       "    <tr>\n",
       "      <th>centroid_undersamp</th>\n",
       "      <td>12275</td>\n",
       "      <td>4475</td>\n",
       "      <td>28</td>\n",
       "      <td>62</td>\n",
       "      <td>0.997724</td>\n",
       "      <td>0.732836</td>\n",
       "      <td>0.845007</td>\n",
       "      <td>0.013665</td>\n",
       "      <td>0.688889</td>\n",
       "      <td>0.026799</td>\n",
       "      <td>0.435903</td>\n",
       "    </tr>\n",
       "    <tr>\n",
       "      <th>rand_oversamp</th>\n",
       "      <td>13724</td>\n",
       "      <td>3026</td>\n",
       "      <td>34</td>\n",
       "      <td>56</td>\n",
       "      <td>0.997529</td>\n",
       "      <td>0.819343</td>\n",
       "      <td>0.899698</td>\n",
       "      <td>0.018170</td>\n",
       "      <td>0.622222</td>\n",
       "      <td>0.035309</td>\n",
       "      <td>0.467504</td>\n",
       "    </tr>\n",
       "    <tr>\n",
       "      <th>smote</th>\n",
       "      <td>13903</td>\n",
       "      <td>2847</td>\n",
       "      <td>30</td>\n",
       "      <td>60</td>\n",
       "      <td>0.997847</td>\n",
       "      <td>0.830030</td>\n",
       "      <td>0.906235</td>\n",
       "      <td>0.020640</td>\n",
       "      <td>0.666667</td>\n",
       "      <td>0.040040</td>\n",
       "      <td>0.473137</td>\n",
       "    </tr>\n",
       "    <tr>\n",
       "      <th>smoteenn</th>\n",
       "      <td>13656</td>\n",
       "      <td>3094</td>\n",
       "      <td>28</td>\n",
       "      <td>62</td>\n",
       "      <td>0.997954</td>\n",
       "      <td>0.815284</td>\n",
       "      <td>0.897417</td>\n",
       "      <td>0.019645</td>\n",
       "      <td>0.688889</td>\n",
       "      <td>0.038201</td>\n",
       "      <td>0.467809</td>\n",
       "    </tr>\n",
       "  </tbody>\n",
       "</table>\n",
       "</div>"
      ],
      "text/plain": [
       "                    true_pos  false_neg  false_pos  true_neg  precision_pos  \\\n",
       "base                   16747          3         80        10       0.995246   \n",
       "rand_undersamp         12517       4233         34        56       0.997291   \n",
       "centroid_undersamp     12275       4475         28        62       0.997724   \n",
       "rand_oversamp          13724       3026         34        56       0.997529   \n",
       "smote                  13903       2847         30        60       0.997847   \n",
       "smoteenn               13656       3094         28        62       0.997954   \n",
       "\n",
       "                    recall_pos    f1_pos  precision_neg  recall_neg    f1_neg  \\\n",
       "base                  0.999821  0.997528       0.769231    0.111111  0.194175   \n",
       "rand_undersamp        0.747284  0.854374       0.013057    0.622222  0.025577   \n",
       "centroid_undersamp    0.732836  0.845007       0.013665    0.688889  0.026799   \n",
       "rand_oversamp         0.819343  0.899698       0.018170    0.622222  0.035309   \n",
       "smote                 0.830030  0.906235       0.020640    0.666667  0.040040   \n",
       "smoteenn              0.815284  0.897417       0.019645    0.688889  0.038201   \n",
       "\n",
       "                      f1_avg  \n",
       "base                0.595851  \n",
       "rand_undersamp      0.439975  \n",
       "centroid_undersamp  0.435903  \n",
       "rand_oversamp       0.467504  \n",
       "smote               0.473137  \n",
       "smoteenn            0.467809  "
      ]
     },
     "execution_count": 40,
     "metadata": {},
     "output_type": "execute_result"
    }
   ],
   "source": [
    "# Logistic regression comparison\n",
    "trials = ['base', 'rand_undersamp', 'centroid_undersamp', 'rand_oversamp', 'smote', 'smoteenn']\n",
    "lr_preds = [lr_val_pred, lr_rus_val_pred, lr_ccu_val_pred, lr_ros_val_pred, lr_smo_val_pred, lr_sen_val_pred]\n",
    "lr_reports = [clf_report(y_val, y_pred) for y_pred in lr_preds]\n",
    "lr_reports_df = pd.DataFrame(lr_reports, index=trials)\n",
    "lr_reports_df"
   ]
  },
  {
   "cell_type": "code",
   "execution_count": 41,
   "metadata": {},
   "outputs": [
    {
     "data": {
      "text/html": [
       "<div>\n",
       "<style scoped>\n",
       "    .dataframe tbody tr th:only-of-type {\n",
       "        vertical-align: middle;\n",
       "    }\n",
       "\n",
       "    .dataframe tbody tr th {\n",
       "        vertical-align: top;\n",
       "    }\n",
       "\n",
       "    .dataframe thead th {\n",
       "        text-align: right;\n",
       "    }\n",
       "</style>\n",
       "<table border=\"1\" class=\"dataframe\">\n",
       "  <thead>\n",
       "    <tr style=\"text-align: right;\">\n",
       "      <th></th>\n",
       "      <th>true_pos</th>\n",
       "      <th>false_neg</th>\n",
       "      <th>false_pos</th>\n",
       "      <th>true_neg</th>\n",
       "      <th>precision_pos</th>\n",
       "      <th>recall_pos</th>\n",
       "      <th>f1_pos</th>\n",
       "      <th>precision_neg</th>\n",
       "      <th>recall_neg</th>\n",
       "      <th>f1_neg</th>\n",
       "      <th>f1_avg</th>\n",
       "    </tr>\n",
       "  </thead>\n",
       "  <tbody>\n",
       "    <tr>\n",
       "      <th>base</th>\n",
       "      <td>16694</td>\n",
       "      <td>56</td>\n",
       "      <td>55</td>\n",
       "      <td>35</td>\n",
       "      <td>0.996716</td>\n",
       "      <td>0.996657</td>\n",
       "      <td>0.996686</td>\n",
       "      <td>0.384615</td>\n",
       "      <td>0.388889</td>\n",
       "      <td>0.386740</td>\n",
       "      <td>0.691713</td>\n",
       "    </tr>\n",
       "    <tr>\n",
       "      <th>rand_undersamp</th>\n",
       "      <td>12022</td>\n",
       "      <td>4728</td>\n",
       "      <td>28</td>\n",
       "      <td>62</td>\n",
       "      <td>0.997676</td>\n",
       "      <td>0.717731</td>\n",
       "      <td>0.834861</td>\n",
       "      <td>0.012944</td>\n",
       "      <td>0.688889</td>\n",
       "      <td>0.025410</td>\n",
       "      <td>0.430135</td>\n",
       "    </tr>\n",
       "    <tr>\n",
       "      <th>centroid_undersamp</th>\n",
       "      <td>364</td>\n",
       "      <td>16386</td>\n",
       "      <td>2</td>\n",
       "      <td>88</td>\n",
       "      <td>0.994536</td>\n",
       "      <td>0.021731</td>\n",
       "      <td>0.042533</td>\n",
       "      <td>0.005342</td>\n",
       "      <td>0.977778</td>\n",
       "      <td>0.010625</td>\n",
       "      <td>0.026579</td>\n",
       "    </tr>\n",
       "    <tr>\n",
       "      <th>rand_oversamp</th>\n",
       "      <td>16699</td>\n",
       "      <td>51</td>\n",
       "      <td>61</td>\n",
       "      <td>29</td>\n",
       "      <td>0.996360</td>\n",
       "      <td>0.996955</td>\n",
       "      <td>0.996658</td>\n",
       "      <td>0.362500</td>\n",
       "      <td>0.322222</td>\n",
       "      <td>0.341176</td>\n",
       "      <td>0.668917</td>\n",
       "    </tr>\n",
       "    <tr>\n",
       "      <th>smote</th>\n",
       "      <td>16633</td>\n",
       "      <td>117</td>\n",
       "      <td>58</td>\n",
       "      <td>32</td>\n",
       "      <td>0.996525</td>\n",
       "      <td>0.993015</td>\n",
       "      <td>0.994767</td>\n",
       "      <td>0.214765</td>\n",
       "      <td>0.355556</td>\n",
       "      <td>0.267782</td>\n",
       "      <td>0.631275</td>\n",
       "    </tr>\n",
       "    <tr>\n",
       "      <th>smoteenn</th>\n",
       "      <td>16600</td>\n",
       "      <td>150</td>\n",
       "      <td>56</td>\n",
       "      <td>34</td>\n",
       "      <td>0.996638</td>\n",
       "      <td>0.991045</td>\n",
       "      <td>0.993833</td>\n",
       "      <td>0.184783</td>\n",
       "      <td>0.377778</td>\n",
       "      <td>0.248175</td>\n",
       "      <td>0.621004</td>\n",
       "    </tr>\n",
       "  </tbody>\n",
       "</table>\n",
       "</div>"
      ],
      "text/plain": [
       "                    true_pos  false_neg  false_pos  true_neg  precision_pos  \\\n",
       "base                   16694         56         55        35       0.996716   \n",
       "rand_undersamp         12022       4728         28        62       0.997676   \n",
       "centroid_undersamp       364      16386          2        88       0.994536   \n",
       "rand_oversamp          16699         51         61        29       0.996360   \n",
       "smote                  16633        117         58        32       0.996525   \n",
       "smoteenn               16600        150         56        34       0.996638   \n",
       "\n",
       "                    recall_pos    f1_pos  precision_neg  recall_neg    f1_neg  \\\n",
       "base                  0.996657  0.996686       0.384615    0.388889  0.386740   \n",
       "rand_undersamp        0.717731  0.834861       0.012944    0.688889  0.025410   \n",
       "centroid_undersamp    0.021731  0.042533       0.005342    0.977778  0.010625   \n",
       "rand_oversamp         0.996955  0.996658       0.362500    0.322222  0.341176   \n",
       "smote                 0.993015  0.994767       0.214765    0.355556  0.267782   \n",
       "smoteenn              0.991045  0.993833       0.184783    0.377778  0.248175   \n",
       "\n",
       "                      f1_avg  \n",
       "base                0.691713  \n",
       "rand_undersamp      0.430135  \n",
       "centroid_undersamp  0.026579  \n",
       "rand_oversamp       0.668917  \n",
       "smote               0.631275  \n",
       "smoteenn            0.621004  "
      ]
     },
     "execution_count": 41,
     "metadata": {},
     "output_type": "execute_result"
    }
   ],
   "source": [
    "# Decision tree comparison\n",
    "tree_preds = [tree_val_pred, tree_rus_val_pred, tree_ccu_val_pred, \n",
    "              tree_ros_val_pred, tree_smo_val_pred, tree_sen_val_pred]\n",
    "tree_reports = [clf_report(y_val, y_pred) for y_pred in tree_preds]\n",
    "tree_reports_df = pd.DataFrame(tree_reports, index=trials)\n",
    "tree_reports_df"
   ]
  },
  {
   "cell_type": "markdown",
   "metadata": {},
   "source": [
    "### Features\n",
    "\n",
    "Both models had the highest precision on high-risk loans and average F1 score on the base training set (without sampling), but missed over 60% of the high-risked loans. On the other hand, the decision tree model on the cluster-centroid undersampled training set was able to catch 88 out of 90 (97.78%) high-risk loans, but at the cost of an extremely high number of false negatives.\n",
    "\n",
    "Neither of these cases is ideal. While the priority for credit risk detection is a high recall, we don't want to sacrifice too much precision for it. Since the centroid undersampled decision tree model showed preference for the negative class, we may be able to improve its low precision by tuning the model."
   ]
  },
  {
   "cell_type": "code",
   "execution_count": 42,
   "metadata": {},
   "outputs": [
    {
     "data": {
      "text/plain": [
       "array([['4.36222622486425', 'total_rec_int'],\n",
       "       ['1.7627231190860662', 'loan_amnt'],\n",
       "       ['1.215271833592626', 'issue_month'],\n",
       "       ['1.1459571251375447', 'int_rate'],\n",
       "       ['0.9028134800222859', 'total_pymnt'],\n",
       "       ['0.3664224952062791', 'dti'],\n",
       "       ['0.2847431168810585', 'open_acc'],\n",
       "       ['0.21361262494723082', 'whole_loan'],\n",
       "       ['0.20241965908902826', 'home_ownership'],\n",
       "       ['0.19150365212103154', 'total_rec_late_fee'],\n",
       "       ['0.18685945955305044', 'mo_sin_old_rev_tl_op'],\n",
       "       ['0.17521197785860346', 'term']], dtype='<U32')"
      ]
     },
     "execution_count": 42,
     "metadata": {},
     "output_type": "execute_result"
    }
   ],
   "source": [
    "# Top 12 feature coefficients for baseline logistic regression\n",
    "lr_feats = sorted(zip(np.abs(lr.coef_[0]), X_train_scaled.columns), reverse=True)\n",
    "lr_feats = np.array(lr_feats[:12]) # top 12\n",
    "lr_feats"
   ]
  },
  {
   "cell_type": "code",
   "execution_count": 43,
   "metadata": {},
   "outputs": [
    {
     "data": {
      "text/plain": [
       "array([['0.3940448530258009', 'total_pymnt'],\n",
       "       ['0.051021135723275324', 'issue_month'],\n",
       "       ['0.04275239257995762', 'dti'],\n",
       "       ['0.04275155898948167', 'loan_amnt'],\n",
       "       ['0.04033817747296305', 'total_rec_int'],\n",
       "       ['0.03985775471352417', 'mths_since_rcnt_il'],\n",
       "       ['0.03714856892664318', 'max_bal_bc'],\n",
       "       ['0.028128838474578095', 'revol_bal'],\n",
       "       ['0.0273539718647938', 'mo_sin_old_rev_tl_op'],\n",
       "       ['0.0261873693213452', 'revol_util'],\n",
       "       ['0.025343898052278144', 'mo_sin_old_il_acct'],\n",
       "       ['0.02054943633264685', 'total_bal_il']], dtype='<U32')"
      ]
     },
     "execution_count": 43,
     "metadata": {},
     "output_type": "execute_result"
    }
   ],
   "source": [
    "# Top 12 feature coefficients for baseline decision tree\n",
    "tree_feats = sorted(zip(np.abs(tree.feature_importances_), X_train_scaled.columns), reverse=True)\n",
    "tree_feats = np.array(tree_feats[:12]) # top 12\n",
    "tree_feats"
   ]
  },
  {
   "cell_type": "code",
   "execution_count": 44,
   "metadata": {},
   "outputs": [
    {
     "name": "stdout",
     "output_type": "stream",
     "text": [
      "6\n"
     ]
    },
    {
     "data": {
      "text/plain": [
       "array(['dti', 'issue_month', 'loan_amnt', 'mo_sin_old_rev_tl_op',\n",
       "       'total_pymnt', 'total_rec_int'], dtype='<U32')"
      ]
     },
     "execution_count": 44,
     "metadata": {},
     "output_type": "execute_result"
    }
   ],
   "source": [
    "# Features in both baseline sets\n",
    "base_feats = np.intersect1d(lr_feats[:, 1], tree_feats[:, 1])\n",
    "print(len(base_feats))\n",
    "base_feats"
   ]
  },
  {
   "cell_type": "code",
   "execution_count": 45,
   "metadata": {},
   "outputs": [
    {
     "data": {
      "text/plain": [
       "array([['0.7029199090127748', 'tot_coll_amt'],\n",
       "       ['0.16549342524266558', 'delinq_2yrs'],\n",
       "       ['0.04913527232855835', 'total_pymnt'],\n",
       "       ['0.014080558149185575', 'dti'],\n",
       "       ['0.013847821650851999', 'delinq_amnt'],\n",
       "       ['0.011111111111111113', 'mort_acc'],\n",
       "       ['0.010856658184902447', 'term'],\n",
       "       ['0.009382142139755785', 'revol_bal'],\n",
       "       ['0.0073125765066633245', 'num_tl_90g_dpd_24m'],\n",
       "       ['0.00725034181298961', 'annual_inc'],\n",
       "       ['0.004938271604938272', 'num_actv_bc_tl'],\n",
       "       ['0.0036719122556032216', 'total_rec_int']], dtype='<U32')"
      ]
     },
     "execution_count": 45,
     "metadata": {},
     "output_type": "execute_result"
    }
   ],
   "source": [
    "# Top 12 feature coefficients for cluster-centroid undersampled decision tree\n",
    "ccu_feats = sorted(zip(np.abs(tree_ccu.feature_importances_), X_train_scaled.columns), reverse=True)\n",
    "ccu_feats = np.array(ccu_feats[:12]) # top 12\n",
    "ccu_feats"
   ]
  },
  {
   "cell_type": "code",
   "execution_count": 46,
   "metadata": {},
   "outputs": [
    {
     "data": {
      "text/plain": [
       "array(['dti', 'total_pymnt', 'total_rec_int'], dtype='<U32')"
      ]
     },
     "execution_count": 46,
     "metadata": {},
     "output_type": "execute_result"
    }
   ],
   "source": [
    "# Features in all 3 sets\n",
    "feats = np.intersect1d(base_feats, ccu_feats[:, 1])\n",
    "feats"
   ]
  },
  {
   "cell_type": "markdown",
   "metadata": {},
   "source": [
    "### Machine learning on selected features"
   ]
  },
  {
   "cell_type": "code",
   "execution_count": 47,
   "metadata": {},
   "outputs": [
    {
     "name": "stdout",
     "output_type": "stream",
     "text": [
      "              precision    recall  f1-score   support\n",
      "\n",
      "           0       1.00      1.00      1.00     16750\n",
      "           1       0.67      0.09      0.16        90\n",
      "\n",
      "    accuracy                           0.99     16840\n",
      "   macro avg       0.83      0.54      0.58     16840\n",
      "weighted avg       0.99      0.99      0.99     16840\n",
      "\n"
     ]
    },
    {
     "data": {
      "text/html": [
       "<div>\n",
       "<style scoped>\n",
       "    .dataframe tbody tr th:only-of-type {\n",
       "        vertical-align: middle;\n",
       "    }\n",
       "\n",
       "    .dataframe tbody tr th {\n",
       "        vertical-align: top;\n",
       "    }\n",
       "\n",
       "    .dataframe thead th {\n",
       "        text-align: right;\n",
       "    }\n",
       "</style>\n",
       "<table border=\"1\" class=\"dataframe\">\n",
       "  <thead>\n",
       "    <tr style=\"text-align: right;\">\n",
       "      <th></th>\n",
       "      <th>Predicted 0</th>\n",
       "      <th>Predicted 1</th>\n",
       "    </tr>\n",
       "  </thead>\n",
       "  <tbody>\n",
       "    <tr>\n",
       "      <th>0</th>\n",
       "      <td>16746</td>\n",
       "      <td>4</td>\n",
       "    </tr>\n",
       "    <tr>\n",
       "      <th>1</th>\n",
       "      <td>82</td>\n",
       "      <td>8</td>\n",
       "    </tr>\n",
       "  </tbody>\n",
       "</table>\n",
       "</div>"
      ],
      "text/plain": [
       "   Predicted 0  Predicted 1\n",
       "0        16746            4\n",
       "1           82            8"
      ]
     },
     "execution_count": 47,
     "metadata": {},
     "output_type": "execute_result"
    }
   ],
   "source": [
    "# Baseline logistic regression\n",
    "lr_sel = LogisticRegression(random_state=42)\n",
    "lr_sel.fit(X_train_scaled[lr_feats[:, 1]], y_train)\n",
    "\n",
    "# Evaluate model\n",
    "lr_sel_val_pred = lr_sel.predict(X_val_scaled[lr_feats[:, 1]])\n",
    "print(classification_report(y_val, lr_sel_val_pred))\n",
    "pd.DataFrame(confusion_matrix(y_val, lr_sel_val_pred), index=['0', '1'], columns=['Predicted 0', 'Predicted 1'])"
   ]
  },
  {
   "cell_type": "code",
   "execution_count": 48,
   "metadata": {},
   "outputs": [
    {
     "name": "stdout",
     "output_type": "stream",
     "text": [
      "              precision    recall  f1-score   support\n",
      "\n",
      "           0       1.00      1.00      1.00     16750\n",
      "           1       0.52      0.50      0.51        90\n",
      "\n",
      "    accuracy                           0.99     16840\n",
      "   macro avg       0.76      0.75      0.75     16840\n",
      "weighted avg       0.99      0.99      0.99     16840\n",
      "\n"
     ]
    },
    {
     "data": {
      "text/html": [
       "<div>\n",
       "<style scoped>\n",
       "    .dataframe tbody tr th:only-of-type {\n",
       "        vertical-align: middle;\n",
       "    }\n",
       "\n",
       "    .dataframe tbody tr th {\n",
       "        vertical-align: top;\n",
       "    }\n",
       "\n",
       "    .dataframe thead th {\n",
       "        text-align: right;\n",
       "    }\n",
       "</style>\n",
       "<table border=\"1\" class=\"dataframe\">\n",
       "  <thead>\n",
       "    <tr style=\"text-align: right;\">\n",
       "      <th></th>\n",
       "      <th>Predicted 0</th>\n",
       "      <th>Predicted 1</th>\n",
       "    </tr>\n",
       "  </thead>\n",
       "  <tbody>\n",
       "    <tr>\n",
       "      <th>0</th>\n",
       "      <td>16709</td>\n",
       "      <td>41</td>\n",
       "    </tr>\n",
       "    <tr>\n",
       "      <th>1</th>\n",
       "      <td>45</td>\n",
       "      <td>45</td>\n",
       "    </tr>\n",
       "  </tbody>\n",
       "</table>\n",
       "</div>"
      ],
      "text/plain": [
       "   Predicted 0  Predicted 1\n",
       "0        16709           41\n",
       "1           45           45"
      ]
     },
     "execution_count": 48,
     "metadata": {},
     "output_type": "execute_result"
    }
   ],
   "source": [
    "# Baseline decision tree\n",
    "tree_sel = DecisionTreeClassifier(random_state=42)\n",
    "tree_sel.fit(X_train_scaled[tree_feats[:, 1]], y_train)\n",
    "\n",
    "# Evaluate model\n",
    "tree_sel_val_pred = tree_sel.predict(X_val_scaled[tree_feats[:, 1]])\n",
    "print(classification_report(y_val, tree_sel_val_pred))\n",
    "pd.DataFrame(confusion_matrix(y_val, tree_sel_val_pred), index=['0', '1'], columns=['Predicted 0', 'Predicted 1'])"
   ]
  },
  {
   "cell_type": "code",
   "execution_count": 49,
   "metadata": {},
   "outputs": [
    {
     "data": {
      "text/html": [
       "<div>\n",
       "<style scoped>\n",
       "    .dataframe tbody tr th:only-of-type {\n",
       "        vertical-align: middle;\n",
       "    }\n",
       "\n",
       "    .dataframe tbody tr th {\n",
       "        vertical-align: top;\n",
       "    }\n",
       "\n",
       "    .dataframe thead th {\n",
       "        text-align: right;\n",
       "    }\n",
       "</style>\n",
       "<table border=\"1\" class=\"dataframe\">\n",
       "  <thead>\n",
       "    <tr style=\"text-align: right;\">\n",
       "      <th></th>\n",
       "      <th>tot_coll_amt</th>\n",
       "      <th>delinq_2yrs</th>\n",
       "      <th>total_pymnt</th>\n",
       "      <th>dti</th>\n",
       "      <th>delinq_amnt</th>\n",
       "      <th>mort_acc</th>\n",
       "      <th>term</th>\n",
       "      <th>revol_bal</th>\n",
       "      <th>num_tl_90g_dpd_24m</th>\n",
       "      <th>annual_inc</th>\n",
       "      <th>num_actv_bc_tl</th>\n",
       "      <th>total_rec_int</th>\n",
       "    </tr>\n",
       "  </thead>\n",
       "  <tbody>\n",
       "    <tr>\n",
       "      <th>0</th>\n",
       "      <td>-0.092056</td>\n",
       "      <td>-0.167721</td>\n",
       "      <td>-0.220181</td>\n",
       "      <td>0.469734</td>\n",
       "      <td>-0.008585</td>\n",
       "      <td>0.024241</td>\n",
       "      <td>-0.380390</td>\n",
       "      <td>1.105764</td>\n",
       "      <td>-0.115606</td>\n",
       "      <td>0.087608</td>\n",
       "      <td>1.743042</td>\n",
       "      <td>-0.298885</td>\n",
       "    </tr>\n",
       "    <tr>\n",
       "      <th>1</th>\n",
       "      <td>-0.042557</td>\n",
       "      <td>-0.218356</td>\n",
       "      <td>-0.241683</td>\n",
       "      <td>-0.230097</td>\n",
       "      <td>-0.008585</td>\n",
       "      <td>-0.706678</td>\n",
       "      <td>-0.613427</td>\n",
       "      <td>-0.406936</td>\n",
       "      <td>-0.100071</td>\n",
       "      <td>-0.227753</td>\n",
       "      <td>-0.301943</td>\n",
       "      <td>-0.650020</td>\n",
       "    </tr>\n",
       "    <tr>\n",
       "      <th>2</th>\n",
       "      <td>0.029739</td>\n",
       "      <td>-0.070041</td>\n",
       "      <td>0.087908</td>\n",
       "      <td>-0.017630</td>\n",
       "      <td>-0.008585</td>\n",
       "      <td>0.457796</td>\n",
       "      <td>1.026189</td>\n",
       "      <td>-0.060181</td>\n",
       "      <td>-0.082409</td>\n",
       "      <td>0.140037</td>\n",
       "      <td>-0.033180</td>\n",
       "      <td>1.463715</td>\n",
       "    </tr>\n",
       "  </tbody>\n",
       "</table>\n",
       "</div>"
      ],
      "text/plain": [
       "   tot_coll_amt  delinq_2yrs  total_pymnt       dti  delinq_amnt  mort_acc  \\\n",
       "0     -0.092056    -0.167721    -0.220181  0.469734    -0.008585  0.024241   \n",
       "1     -0.042557    -0.218356    -0.241683 -0.230097    -0.008585 -0.706678   \n",
       "2      0.029739    -0.070041     0.087908 -0.017630    -0.008585  0.457796   \n",
       "\n",
       "       term  revol_bal  num_tl_90g_dpd_24m  annual_inc  num_actv_bc_tl  \\\n",
       "0 -0.380390   1.105764           -0.115606    0.087608        1.743042   \n",
       "1 -0.613427  -0.406936           -0.100071   -0.227753       -0.301943   \n",
       "2  1.026189  -0.060181           -0.082409    0.140037       -0.033180   \n",
       "\n",
       "   total_rec_int  \n",
       "0      -0.298885  \n",
       "1      -0.650020  \n",
       "2       1.463715  "
      ]
     },
     "execution_count": 49,
     "metadata": {},
     "output_type": "execute_result"
    }
   ],
   "source": [
    "# Cluster centroid undersampling with selected features\n",
    "X_ccu_sel = pd.DataFrame(X_ccu, columns=X_train_scaled.columns)[ccu_feats[:, 1]]\n",
    "X_ccu_sel.head(3)"
   ]
  },
  {
   "cell_type": "code",
   "execution_count": 50,
   "metadata": {},
   "outputs": [
    {
     "name": "stdout",
     "output_type": "stream",
     "text": [
      "              precision    recall  f1-score   support\n",
      "\n",
      "           0       0.99      0.02      0.03     16750\n",
      "           1       0.01      0.98      0.01        90\n",
      "\n",
      "    accuracy                           0.02     16840\n",
      "   macro avg       0.50      0.50      0.02     16840\n",
      "weighted avg       0.99      0.02      0.03     16840\n",
      "\n"
     ]
    },
    {
     "data": {
      "text/html": [
       "<div>\n",
       "<style scoped>\n",
       "    .dataframe tbody tr th:only-of-type {\n",
       "        vertical-align: middle;\n",
       "    }\n",
       "\n",
       "    .dataframe tbody tr th {\n",
       "        vertical-align: top;\n",
       "    }\n",
       "\n",
       "    .dataframe thead th {\n",
       "        text-align: right;\n",
       "    }\n",
       "</style>\n",
       "<table border=\"1\" class=\"dataframe\">\n",
       "  <thead>\n",
       "    <tr style=\"text-align: right;\">\n",
       "      <th></th>\n",
       "      <th>Predicted 0</th>\n",
       "      <th>Predicted 1</th>\n",
       "    </tr>\n",
       "  </thead>\n",
       "  <tbody>\n",
       "    <tr>\n",
       "      <th>0</th>\n",
       "      <td>266</td>\n",
       "      <td>16484</td>\n",
       "    </tr>\n",
       "    <tr>\n",
       "      <th>1</th>\n",
       "      <td>2</td>\n",
       "      <td>88</td>\n",
       "    </tr>\n",
       "  </tbody>\n",
       "</table>\n",
       "</div>"
      ],
      "text/plain": [
       "   Predicted 0  Predicted 1\n",
       "0          266        16484\n",
       "1            2           88"
      ]
     },
     "execution_count": 50,
     "metadata": {},
     "output_type": "execute_result"
    }
   ],
   "source": [
    "# Decision tree with cluster-centroid undersampling\n",
    "ccu_sel = DecisionTreeClassifier(random_state=42)\n",
    "ccu_sel.fit(X_ccu_sel, y_ccu)\n",
    "\n",
    "# Evaluate model\n",
    "ccu_sel_val_pred = ccu_sel.predict(X_val_scaled[ccu_feats[:, 1]])\n",
    "print(classification_report(y_val, ccu_sel_val_pred))\n",
    "pd.DataFrame(confusion_matrix(y_val, ccu_sel_val_pred), index=['0', '1'], columns=['Predicted 0', 'Predicted 1'])"
   ]
  },
  {
   "cell_type": "markdown",
   "metadata": {},
   "source": [
    "### Decision tree tuning"
   ]
  },
  {
   "cell_type": "code",
   "execution_count": 51,
   "metadata": {},
   "outputs": [
    {
     "name": "stdout",
     "output_type": "stream",
     "text": [
      "Fitting 5 folds for each of 125 candidates, totalling 625 fits\n"
     ]
    },
    {
     "name": "stderr",
     "output_type": "stream",
     "text": [
      "[Parallel(n_jobs=-1)]: Using backend LokyBackend with 4 concurrent workers.\n",
      "[Parallel(n_jobs=-1)]: Done  33 tasks      | elapsed:   10.3s\n",
      "[Parallel(n_jobs=-1)]: Done 154 tasks      | elapsed:   42.4s\n",
      "[Parallel(n_jobs=-1)]: Done 357 tasks      | elapsed:  1.6min\n",
      "[Parallel(n_jobs=-1)]: Done 625 out of 625 | elapsed:  3.3min finished\n"
     ]
    },
    {
     "name": "stdout",
     "output_type": "stream",
     "text": [
      "0.8087906001938865\n"
     ]
    },
    {
     "data": {
      "text/plain": [
       "{'max_depth': 50, 'min_samples_leaf': 4, 'min_samples_split': 32}"
      ]
     },
     "execution_count": 51,
     "metadata": {},
     "output_type": "execute_result"
    }
   ],
   "source": [
    "# Parameters to tune\n",
    "tree_params = {\n",
    "    'max_depth': [10, 20, 50, 100, None], \n",
    "    'min_samples_split': [2, 8, 16, 32, 64], \n",
    "    'min_samples_leaf': [1, 4, 8, 16, 32]\n",
    "}\n",
    "\n",
    "# Grid search for baseline decision tree\n",
    "tree_search = GridSearchCV(DecisionTreeClassifier(random_state=42), tree_params, \n",
    "                           cv=5, scoring='f1_macro', n_jobs=-1, verbose=2)\n",
    "tree_search.fit(X_train_scaled[tree_feats[:, 1]], y_train)\n",
    "print(tree_search.best_score_)\n",
    "tree_search.best_params_"
   ]
  },
  {
   "cell_type": "code",
   "execution_count": 52,
   "metadata": {},
   "outputs": [
    {
     "name": "stdout",
     "output_type": "stream",
     "text": [
      "              precision    recall  f1-score   support\n",
      "\n",
      "           0       1.00      1.00      1.00     16750\n",
      "           1       0.77      0.49      0.60        90\n",
      "\n",
      "    accuracy                           1.00     16840\n",
      "   macro avg       0.88      0.74      0.80     16840\n",
      "weighted avg       1.00      1.00      1.00     16840\n",
      "\n"
     ]
    },
    {
     "data": {
      "text/html": [
       "<div>\n",
       "<style scoped>\n",
       "    .dataframe tbody tr th:only-of-type {\n",
       "        vertical-align: middle;\n",
       "    }\n",
       "\n",
       "    .dataframe tbody tr th {\n",
       "        vertical-align: top;\n",
       "    }\n",
       "\n",
       "    .dataframe thead th {\n",
       "        text-align: right;\n",
       "    }\n",
       "</style>\n",
       "<table border=\"1\" class=\"dataframe\">\n",
       "  <thead>\n",
       "    <tr style=\"text-align: right;\">\n",
       "      <th></th>\n",
       "      <th>Predicted 0</th>\n",
       "      <th>Predicted 1</th>\n",
       "    </tr>\n",
       "  </thead>\n",
       "  <tbody>\n",
       "    <tr>\n",
       "      <th>0</th>\n",
       "      <td>16737</td>\n",
       "      <td>13</td>\n",
       "    </tr>\n",
       "    <tr>\n",
       "      <th>1</th>\n",
       "      <td>46</td>\n",
       "      <td>44</td>\n",
       "    </tr>\n",
       "  </tbody>\n",
       "</table>\n",
       "</div>"
      ],
      "text/plain": [
       "   Predicted 0  Predicted 1\n",
       "0        16737           13\n",
       "1           46           44"
      ]
     },
     "execution_count": 52,
     "metadata": {},
     "output_type": "execute_result"
    }
   ],
   "source": [
    "# Evaluate best model\n",
    "tree_search_val_pred = tree_search.best_estimator_.predict(X_val_scaled[tree_feats[:, 1]])\n",
    "print(classification_report(y_val, tree_search_val_pred))\n",
    "pd.DataFrame(confusion_matrix(y_val, tree_search_val_pred), index=['0', '1'], columns=['Predicted 0', 'Predicted 1'])"
   ]
  },
  {
   "cell_type": "code",
   "execution_count": 53,
   "metadata": {},
   "outputs": [
    {
     "name": "stdout",
     "output_type": "stream",
     "text": [
      "Fitting 5 folds for each of 125 candidates, totalling 625 fits\n"
     ]
    },
    {
     "name": "stderr",
     "output_type": "stream",
     "text": [
      "[Parallel(n_jobs=-1)]: Using backend LokyBackend with 4 concurrent workers.\n",
      "[Parallel(n_jobs=-1)]: Done 136 tasks      | elapsed:    0.9s\n"
     ]
    },
    {
     "name": "stdout",
     "output_type": "stream",
     "text": [
      "0.9647952675311166\n"
     ]
    },
    {
     "name": "stderr",
     "output_type": "stream",
     "text": [
      "[Parallel(n_jobs=-1)]: Done 625 out of 625 | elapsed:    4.0s finished\n"
     ]
    },
    {
     "data": {
      "text/plain": [
       "{'max_depth': 10, 'min_samples_leaf': 1, 'min_samples_split': 2}"
      ]
     },
     "execution_count": 53,
     "metadata": {},
     "output_type": "execute_result"
    }
   ],
   "source": [
    "# Parameters to tune\n",
    "ccu_params = {\n",
    "    'max_depth': [10, 20, 50, 100, None], \n",
    "    'min_samples_split': [2, 8, 16, 32, 64], \n",
    "    'min_samples_leaf': [1, 4, 8, 16, 32]\n",
    "}\n",
    "\n",
    "# Grid search for decision tree with cluster-centroid undersampling\n",
    "ccu_search = GridSearchCV(DecisionTreeClassifier(random_state=42), ccu_params, \n",
    "                           cv=5, scoring='f1_macro', n_jobs=-1, verbose=2)\n",
    "ccu_search.fit(X_ccu_sel, y_ccu)\n",
    "print(ccu_search.best_score_)\n",
    "ccu_search.best_params_"
   ]
  },
  {
   "cell_type": "code",
   "execution_count": 54,
   "metadata": {},
   "outputs": [
    {
     "name": "stdout",
     "output_type": "stream",
     "text": [
      "              precision    recall  f1-score   support\n",
      "\n",
      "           0       0.99      0.02      0.03     16750\n",
      "           1       0.01      0.98      0.01        90\n",
      "\n",
      "    accuracy                           0.02     16840\n",
      "   macro avg       0.50      0.50      0.02     16840\n",
      "weighted avg       0.99      0.02      0.03     16840\n",
      "\n"
     ]
    },
    {
     "data": {
      "text/html": [
       "<div>\n",
       "<style scoped>\n",
       "    .dataframe tbody tr th:only-of-type {\n",
       "        vertical-align: middle;\n",
       "    }\n",
       "\n",
       "    .dataframe tbody tr th {\n",
       "        vertical-align: top;\n",
       "    }\n",
       "\n",
       "    .dataframe thead th {\n",
       "        text-align: right;\n",
       "    }\n",
       "</style>\n",
       "<table border=\"1\" class=\"dataframe\">\n",
       "  <thead>\n",
       "    <tr style=\"text-align: right;\">\n",
       "      <th></th>\n",
       "      <th>Predicted 0</th>\n",
       "      <th>Predicted 1</th>\n",
       "    </tr>\n",
       "  </thead>\n",
       "  <tbody>\n",
       "    <tr>\n",
       "      <th>0</th>\n",
       "      <td>266</td>\n",
       "      <td>16484</td>\n",
       "    </tr>\n",
       "    <tr>\n",
       "      <th>1</th>\n",
       "      <td>2</td>\n",
       "      <td>88</td>\n",
       "    </tr>\n",
       "  </tbody>\n",
       "</table>\n",
       "</div>"
      ],
      "text/plain": [
       "   Predicted 0  Predicted 1\n",
       "0          266        16484\n",
       "1            2           88"
      ]
     },
     "execution_count": 54,
     "metadata": {},
     "output_type": "execute_result"
    }
   ],
   "source": [
    "# Evaluate best model\n",
    "ccu_search_val_pred = ccu_search.best_estimator_.predict(X_val_scaled[ccu_feats[:, 1]])\n",
    "print(classification_report(y_val, ccu_search_val_pred))\n",
    "pd.DataFrame(confusion_matrix(y_val, ccu_search_val_pred), index=['0', '1'], columns=['Predicted 0', 'Predicted 1'])"
   ]
  },
  {
   "cell_type": "markdown",
   "metadata": {},
   "source": [
    "### Ensemble classifiers"
   ]
  },
  {
   "cell_type": "code",
   "execution_count": 57,
   "metadata": {},
   "outputs": [
    {
     "name": "stdout",
     "output_type": "stream",
     "text": [
      "Fitting 5 folds for each of 243 candidates, totalling 1215 fits\n"
     ]
    },
    {
     "name": "stderr",
     "output_type": "stream",
     "text": [
      "[Parallel(n_jobs=-1)]: Using backend LokyBackend with 4 concurrent workers.\n",
      "[Parallel(n_jobs=-1)]: Done  33 tasks      | elapsed:   45.8s\n",
      "[Parallel(n_jobs=-1)]: Done 154 tasks      | elapsed:  3.2min\n",
      "[Parallel(n_jobs=-1)]: Done 357 tasks      | elapsed:  6.1min\n",
      "[Parallel(n_jobs=-1)]: Done 640 tasks      | elapsed:  9.9min\n",
      "[Parallel(n_jobs=-1)]: Done 1005 tasks      | elapsed: 15.4min\n",
      "[Parallel(n_jobs=-1)]: Done 1215 out of 1215 | elapsed: 18.6min finished\n"
     ]
    },
    {
     "name": "stdout",
     "output_type": "stream",
     "text": [
      "0.5407847276289501\n"
     ]
    },
    {
     "data": {
      "text/plain": [
       "{'max_depth': 10,\n",
       " 'max_features': 'auto',\n",
       " 'max_samples': 0.5,\n",
       " 'min_samples_leaf': 16,\n",
       " 'min_samples_split': 2}"
      ]
     },
     "execution_count": 57,
     "metadata": {},
     "output_type": "execute_result"
    }
   ],
   "source": [
    "# Parameters to tune\n",
    "brf_params = {\n",
    "    'max_depth': [10, 20, None], \n",
    "    'min_samples_split': [2, 8, 32], \n",
    "    'min_samples_leaf': [1, 4, 16], \n",
    "    'max_features': ['auto', 0.5, None],\n",
    "    'max_samples': [0.5, 0.75, None]\n",
    "}\n",
    "\n",
    "# Grid search for balanced random forest\n",
    "brf_search = GridSearchCV(BalancedRandomForestClassifier(random_state=42), brf_params, \n",
    "                          cv=5, scoring='f1_macro', n_jobs=-1, verbose=2)\n",
    "brf_search.fit(X_train_scaled[tree_feats[:, 1]], y_train)\n",
    "print(brf_search.best_score_)\n",
    "brf_search.best_params_"
   ]
  },
  {
   "cell_type": "code",
   "execution_count": 58,
   "metadata": {},
   "outputs": [
    {
     "name": "stdout",
     "output_type": "stream",
     "text": [
      "              precision    recall  f1-score   support\n",
      "\n",
      "           0       1.00      0.96      0.98     16750\n",
      "           1       0.06      0.48      0.11        90\n",
      "\n",
      "    accuracy                           0.96     16840\n",
      "   macro avg       0.53      0.72      0.55     16840\n",
      "weighted avg       0.99      0.96      0.97     16840\n",
      "\n"
     ]
    },
    {
     "data": {
      "text/html": [
       "<div>\n",
       "<style scoped>\n",
       "    .dataframe tbody tr th:only-of-type {\n",
       "        vertical-align: middle;\n",
       "    }\n",
       "\n",
       "    .dataframe tbody tr th {\n",
       "        vertical-align: top;\n",
       "    }\n",
       "\n",
       "    .dataframe thead th {\n",
       "        text-align: right;\n",
       "    }\n",
       "</style>\n",
       "<table border=\"1\" class=\"dataframe\">\n",
       "  <thead>\n",
       "    <tr style=\"text-align: right;\">\n",
       "      <th></th>\n",
       "      <th>Predicted 0</th>\n",
       "      <th>Predicted 1</th>\n",
       "    </tr>\n",
       "  </thead>\n",
       "  <tbody>\n",
       "    <tr>\n",
       "      <th>0</th>\n",
       "      <td>16117</td>\n",
       "      <td>633</td>\n",
       "    </tr>\n",
       "    <tr>\n",
       "      <th>1</th>\n",
       "      <td>47</td>\n",
       "      <td>43</td>\n",
       "    </tr>\n",
       "  </tbody>\n",
       "</table>\n",
       "</div>"
      ],
      "text/plain": [
       "   Predicted 0  Predicted 1\n",
       "0        16117          633\n",
       "1           47           43"
      ]
     },
     "execution_count": 58,
     "metadata": {},
     "output_type": "execute_result"
    }
   ],
   "source": [
    "# Evaluate best model\n",
    "brf_search_val_pred = brf_search.best_estimator_.predict(X_val_scaled[tree_feats[:, 1]])\n",
    "print(classification_report(y_val, brf_search_val_pred))\n",
    "pd.DataFrame(confusion_matrix(y_val, brf_search_val_pred), index=['0', '1'], columns=['Predicted 0', 'Predicted 1'])"
   ]
  },
  {
   "cell_type": "code",
   "execution_count": 65,
   "metadata": {},
   "outputs": [
    {
     "name": "stderr",
     "output_type": "stream",
     "text": [
      "[Parallel(n_jobs=4)]: Using backend LokyBackend with 4 concurrent workers.\n",
      "[Parallel(n_jobs=4)]: Done   4 out of   4 | elapsed:   15.0s finished\n",
      "[Parallel(n_jobs=4)]: Using backend LokyBackend with 4 concurrent workers.\n"
     ]
    },
    {
     "name": "stdout",
     "output_type": "stream",
     "text": [
      "              precision    recall  f1-score   support\n",
      "\n",
      "           0       1.00      0.88      0.94     16750\n",
      "           1       0.03      0.74      0.06        90\n",
      "\n",
      "    accuracy                           0.88     16840\n",
      "   macro avg       0.52      0.81      0.50     16840\n",
      "weighted avg       0.99      0.88      0.93     16840\n",
      "\n"
     ]
    },
    {
     "name": "stderr",
     "output_type": "stream",
     "text": [
      "[Parallel(n_jobs=4)]: Done   4 out of   4 | elapsed:   11.5s finished\n"
     ]
    },
    {
     "data": {
      "text/html": [
       "<div>\n",
       "<style scoped>\n",
       "    .dataframe tbody tr th:only-of-type {\n",
       "        vertical-align: middle;\n",
       "    }\n",
       "\n",
       "    .dataframe tbody tr th {\n",
       "        vertical-align: top;\n",
       "    }\n",
       "\n",
       "    .dataframe thead th {\n",
       "        text-align: right;\n",
       "    }\n",
       "</style>\n",
       "<table border=\"1\" class=\"dataframe\">\n",
       "  <thead>\n",
       "    <tr style=\"text-align: right;\">\n",
       "      <th></th>\n",
       "      <th>Predicted 0</th>\n",
       "      <th>Predicted 1</th>\n",
       "    </tr>\n",
       "  </thead>\n",
       "  <tbody>\n",
       "    <tr>\n",
       "      <th>0</th>\n",
       "      <td>14796</td>\n",
       "      <td>1954</td>\n",
       "    </tr>\n",
       "    <tr>\n",
       "      <th>1</th>\n",
       "      <td>23</td>\n",
       "      <td>67</td>\n",
       "    </tr>\n",
       "  </tbody>\n",
       "</table>\n",
       "</div>"
      ],
      "text/plain": [
       "   Predicted 0  Predicted 1\n",
       "0        14796         1954\n",
       "1           23           67"
      ]
     },
     "execution_count": 65,
     "metadata": {},
     "output_type": "execute_result"
    }
   ],
   "source": [
    "# Ensemble AdaBoost\n",
    "eab = EasyEnsembleClassifier(n_estimators=100, random_state=42, n_jobs=-1, verbose=2)\n",
    "eab.fit(X_train_scaled, y_train)\n",
    "\n",
    "# Evaluate model\n",
    "eab_val_pred = eab.predict(X_val_scaled)\n",
    "print(classification_report(y_val, eab_val_pred))\n",
    "pd.DataFrame(confusion_matrix(y_val, eab_val_pred), index=['0', '1'], columns=['Predicted 0', 'Predicted 1'])"
   ]
  },
  {
   "cell_type": "markdown",
   "metadata": {},
   "source": [
    "### Best model"
   ]
  },
  {
   "cell_type": "code",
   "execution_count": 66,
   "metadata": {},
   "outputs": [
    {
     "name": "stdout",
     "output_type": "stream",
     "text": [
      "              precision    recall  f1-score   support\n",
      "\n",
      "           0       1.00      1.00      1.00     50248\n",
      "           1       0.88      0.58      0.70       270\n",
      "\n",
      "    accuracy                           1.00     50518\n",
      "   macro avg       0.94      0.79      0.85     50518\n",
      "weighted avg       1.00      1.00      1.00     50518\n",
      "\n"
     ]
    },
    {
     "data": {
      "text/html": [
       "<div>\n",
       "<style scoped>\n",
       "    .dataframe tbody tr th:only-of-type {\n",
       "        vertical-align: middle;\n",
       "    }\n",
       "\n",
       "    .dataframe tbody tr th {\n",
       "        vertical-align: top;\n",
       "    }\n",
       "\n",
       "    .dataframe thead th {\n",
       "        text-align: right;\n",
       "    }\n",
       "</style>\n",
       "<table border=\"1\" class=\"dataframe\">\n",
       "  <thead>\n",
       "    <tr style=\"text-align: right;\">\n",
       "      <th></th>\n",
       "      <th>Predicted 0</th>\n",
       "      <th>Predicted 1</th>\n",
       "    </tr>\n",
       "  </thead>\n",
       "  <tbody>\n",
       "    <tr>\n",
       "      <th>0</th>\n",
       "      <td>50227</td>\n",
       "      <td>21</td>\n",
       "    </tr>\n",
       "    <tr>\n",
       "      <th>1</th>\n",
       "      <td>114</td>\n",
       "      <td>156</td>\n",
       "    </tr>\n",
       "  </tbody>\n",
       "</table>\n",
       "</div>"
      ],
      "text/plain": [
       "   Predicted 0  Predicted 1\n",
       "0        50227           21\n",
       "1          114          156"
      ]
     },
     "execution_count": 66,
     "metadata": {},
     "output_type": "execute_result"
    }
   ],
   "source": [
    "# Best model\n",
    "dt = tree_search.best_estimator_\n",
    "\n",
    "# Train, validation, test sets\n",
    "train = X_train_scaled[tree_feats[:, 1]]\n",
    "val = X_val_scaled[tree_feats[:, 1]]\n",
    "train = X_train_scaled[tree_feats[:, 1]]\n"
   ]
  },
  {
   "cell_type": "code",
   "execution_count": 66,
   "metadata": {},
   "outputs": [
    {
     "name": "stdout",
     "output_type": "stream",
     "text": [
      "              precision    recall  f1-score   support\n",
      "\n",
      "           0       1.00      1.00      1.00     50248\n",
      "           1       0.88      0.58      0.70       270\n",
      "\n",
      "    accuracy                           1.00     50518\n",
      "   macro avg       0.94      0.79      0.85     50518\n",
      "weighted avg       1.00      1.00      1.00     50518\n",
      "\n"
     ]
    },
    {
     "data": {
      "text/html": [
       "<div>\n",
       "<style scoped>\n",
       "    .dataframe tbody tr th:only-of-type {\n",
       "        vertical-align: middle;\n",
       "    }\n",
       "\n",
       "    .dataframe tbody tr th {\n",
       "        vertical-align: top;\n",
       "    }\n",
       "\n",
       "    .dataframe thead th {\n",
       "        text-align: right;\n",
       "    }\n",
       "</style>\n",
       "<table border=\"1\" class=\"dataframe\">\n",
       "  <thead>\n",
       "    <tr style=\"text-align: right;\">\n",
       "      <th></th>\n",
       "      <th>Predicted 0</th>\n",
       "      <th>Predicted 1</th>\n",
       "    </tr>\n",
       "  </thead>\n",
       "  <tbody>\n",
       "    <tr>\n",
       "      <th>0</th>\n",
       "      <td>50227</td>\n",
       "      <td>21</td>\n",
       "    </tr>\n",
       "    <tr>\n",
       "      <th>1</th>\n",
       "      <td>114</td>\n",
       "      <td>156</td>\n",
       "    </tr>\n",
       "  </tbody>\n",
       "</table>\n",
       "</div>"
      ],
      "text/plain": [
       "   Predicted 0  Predicted 1\n",
       "0        50227           21\n",
       "1          114          156"
      ]
     },
     "execution_count": 66,
     "metadata": {},
     "output_type": "execute_result"
    }
   ],
   "source": [
    "# Evaluate on training set\n",
    "train_pred = dt.predict(X_train_scaled[tree_feats[:, 1]])\n",
    "print(classification_report(y_train, train_pred))\n",
    "pd.DataFrame(confusion_matrix(y_train, train_pred), index=['0', '1'], columns=['Predicted 0', 'Predicted 1'])"
   ]
  },
  {
   "cell_type": "code",
   "execution_count": 67,
   "metadata": {},
   "outputs": [
    {
     "name": "stdout",
     "output_type": "stream",
     "text": [
      "              precision    recall  f1-score   support\n",
      "\n",
      "           0       1.00      1.00      1.00     16750\n",
      "           1       0.77      0.49      0.60        90\n",
      "\n",
      "    accuracy                           1.00     16840\n",
      "   macro avg       0.88      0.74      0.80     16840\n",
      "weighted avg       1.00      1.00      1.00     16840\n",
      "\n"
     ]
    },
    {
     "data": {
      "text/html": [
       "<div>\n",
       "<style scoped>\n",
       "    .dataframe tbody tr th:only-of-type {\n",
       "        vertical-align: middle;\n",
       "    }\n",
       "\n",
       "    .dataframe tbody tr th {\n",
       "        vertical-align: top;\n",
       "    }\n",
       "\n",
       "    .dataframe thead th {\n",
       "        text-align: right;\n",
       "    }\n",
       "</style>\n",
       "<table border=\"1\" class=\"dataframe\">\n",
       "  <thead>\n",
       "    <tr style=\"text-align: right;\">\n",
       "      <th></th>\n",
       "      <th>Predicted 0</th>\n",
       "      <th>Predicted 1</th>\n",
       "    </tr>\n",
       "  </thead>\n",
       "  <tbody>\n",
       "    <tr>\n",
       "      <th>0</th>\n",
       "      <td>16737</td>\n",
       "      <td>13</td>\n",
       "    </tr>\n",
       "    <tr>\n",
       "      <th>1</th>\n",
       "      <td>46</td>\n",
       "      <td>44</td>\n",
       "    </tr>\n",
       "  </tbody>\n",
       "</table>\n",
       "</div>"
      ],
      "text/plain": [
       "   Predicted 0  Predicted 1\n",
       "0        16737           13\n",
       "1           46           44"
      ]
     },
     "execution_count": 67,
     "metadata": {},
     "output_type": "execute_result"
    }
   ],
   "source": [
    "# Evaluate on validation set\n",
    "val_pred = dt.predict(X_val_scaled[tree_feats[:, 1]])\n",
    "print(classification_report(y_val, val_pred))\n",
    "pd.DataFrame(confusion_matrix(y_val, val_pred), index=['0', '1'], columns=['Predicted 0', 'Predicted 1'])"
   ]
  },
  {
   "cell_type": "code",
   "execution_count": 68,
   "metadata": {},
   "outputs": [
    {
     "name": "stdout",
     "output_type": "stream",
     "text": [
      "              precision    recall  f1-score   support\n",
      "\n",
      "           0       1.00      1.00      1.00     16750\n",
      "           1       0.72      0.51      0.60        90\n",
      "\n",
      "    accuracy                           1.00     16840\n",
      "   macro avg       0.86      0.76      0.80     16840\n",
      "weighted avg       1.00      1.00      1.00     16840\n",
      "\n"
     ]
    },
    {
     "data": {
      "text/html": [
       "<div>\n",
       "<style scoped>\n",
       "    .dataframe tbody tr th:only-of-type {\n",
       "        vertical-align: middle;\n",
       "    }\n",
       "\n",
       "    .dataframe tbody tr th {\n",
       "        vertical-align: top;\n",
       "    }\n",
       "\n",
       "    .dataframe thead th {\n",
       "        text-align: right;\n",
       "    }\n",
       "</style>\n",
       "<table border=\"1\" class=\"dataframe\">\n",
       "  <thead>\n",
       "    <tr style=\"text-align: right;\">\n",
       "      <th></th>\n",
       "      <th>Predicted 0</th>\n",
       "      <th>Predicted 1</th>\n",
       "    </tr>\n",
       "  </thead>\n",
       "  <tbody>\n",
       "    <tr>\n",
       "      <th>0</th>\n",
       "      <td>16732</td>\n",
       "      <td>18</td>\n",
       "    </tr>\n",
       "    <tr>\n",
       "      <th>1</th>\n",
       "      <td>44</td>\n",
       "      <td>46</td>\n",
       "    </tr>\n",
       "  </tbody>\n",
       "</table>\n",
       "</div>"
      ],
      "text/plain": [
       "   Predicted 0  Predicted 1\n",
       "0        16732           18\n",
       "1           44           46"
      ]
     },
     "execution_count": 68,
     "metadata": {},
     "output_type": "execute_result"
    }
   ],
   "source": [
    "# Evaluate on test set\n",
    "test_pred = dt.predict(X_test_scaled[tree_feats[:, 1]])\n",
    "print(classification_report(y_test, test_pred))\n",
    "pd.DataFrame(confusion_matrix(y_test, test_pred), index=['0', '1'], columns=['Predicted 0', 'Predicted 1'])"
   ]
  },
  {
   "cell_type": "code",
   "execution_count": null,
   "metadata": {},
   "outputs": [],
   "source": []
  }
 ],
 "metadata": {
  "kernelspec": {
   "display_name": "Python [conda env:minds] *",
   "language": "python",
   "name": "conda-env-minds-py"
  },
  "language_info": {
   "codemirror_mode": {
    "name": "ipython",
    "version": 3
   },
   "file_extension": ".py",
   "mimetype": "text/x-python",
   "name": "python",
   "nbconvert_exporter": "python",
   "pygments_lexer": "ipython3",
   "version": "3.7.9"
  }
 },
 "nbformat": 4,
 "nbformat_minor": 4
}
