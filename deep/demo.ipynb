{
 "cells": [
  {
   "cell_type": "markdown",
   "metadata": {},
   "source": [
    "# Neural Network Demo\n",
    "\n",
    "### Dependencies and data"
   ]
  },
  {
   "cell_type": "code",
   "execution_count": 1,
   "metadata": {},
   "outputs": [
    {
     "name": "stderr",
     "output_type": "stream",
     "text": [
      "/Users/tribui/miniconda3/envs/minds/lib/python3.7/site-packages/tensorflow/python/framework/dtypes.py:516: FutureWarning: Passing (type, 1) or '1type' as a synonym of type is deprecated; in a future version of numpy, it will be understood as (type, (1,)) / '(1,)type'.\n",
      "  _np_qint8 = np.dtype([(\"qint8\", np.int8, 1)])\n",
      "/Users/tribui/miniconda3/envs/minds/lib/python3.7/site-packages/tensorflow/python/framework/dtypes.py:517: FutureWarning: Passing (type, 1) or '1type' as a synonym of type is deprecated; in a future version of numpy, it will be understood as (type, (1,)) / '(1,)type'.\n",
      "  _np_quint8 = np.dtype([(\"quint8\", np.uint8, 1)])\n",
      "/Users/tribui/miniconda3/envs/minds/lib/python3.7/site-packages/tensorflow/python/framework/dtypes.py:518: FutureWarning: Passing (type, 1) or '1type' as a synonym of type is deprecated; in a future version of numpy, it will be understood as (type, (1,)) / '(1,)type'.\n",
      "  _np_qint16 = np.dtype([(\"qint16\", np.int16, 1)])\n",
      "/Users/tribui/miniconda3/envs/minds/lib/python3.7/site-packages/tensorflow/python/framework/dtypes.py:519: FutureWarning: Passing (type, 1) or '1type' as a synonym of type is deprecated; in a future version of numpy, it will be understood as (type, (1,)) / '(1,)type'.\n",
      "  _np_quint16 = np.dtype([(\"quint16\", np.uint16, 1)])\n",
      "/Users/tribui/miniconda3/envs/minds/lib/python3.7/site-packages/tensorflow/python/framework/dtypes.py:520: FutureWarning: Passing (type, 1) or '1type' as a synonym of type is deprecated; in a future version of numpy, it will be understood as (type, (1,)) / '(1,)type'.\n",
      "  _np_qint32 = np.dtype([(\"qint32\", np.int32, 1)])\n",
      "/Users/tribui/miniconda3/envs/minds/lib/python3.7/site-packages/tensorflow/python/framework/dtypes.py:525: FutureWarning: Passing (type, 1) or '1type' as a synonym of type is deprecated; in a future version of numpy, it will be understood as (type, (1,)) / '(1,)type'.\n",
      "  np_resource = np.dtype([(\"resource\", np.ubyte, 1)])\n",
      "/Users/tribui/miniconda3/envs/minds/lib/python3.7/site-packages/tensorboard/compat/tensorflow_stub/dtypes.py:541: FutureWarning: Passing (type, 1) or '1type' as a synonym of type is deprecated; in a future version of numpy, it will be understood as (type, (1,)) / '(1,)type'.\n",
      "  _np_qint8 = np.dtype([(\"qint8\", np.int8, 1)])\n",
      "/Users/tribui/miniconda3/envs/minds/lib/python3.7/site-packages/tensorboard/compat/tensorflow_stub/dtypes.py:542: FutureWarning: Passing (type, 1) or '1type' as a synonym of type is deprecated; in a future version of numpy, it will be understood as (type, (1,)) / '(1,)type'.\n",
      "  _np_quint8 = np.dtype([(\"quint8\", np.uint8, 1)])\n",
      "/Users/tribui/miniconda3/envs/minds/lib/python3.7/site-packages/tensorboard/compat/tensorflow_stub/dtypes.py:543: FutureWarning: Passing (type, 1) or '1type' as a synonym of type is deprecated; in a future version of numpy, it will be understood as (type, (1,)) / '(1,)type'.\n",
      "  _np_qint16 = np.dtype([(\"qint16\", np.int16, 1)])\n",
      "/Users/tribui/miniconda3/envs/minds/lib/python3.7/site-packages/tensorboard/compat/tensorflow_stub/dtypes.py:544: FutureWarning: Passing (type, 1) or '1type' as a synonym of type is deprecated; in a future version of numpy, it will be understood as (type, (1,)) / '(1,)type'.\n",
      "  _np_quint16 = np.dtype([(\"quint16\", np.uint16, 1)])\n",
      "/Users/tribui/miniconda3/envs/minds/lib/python3.7/site-packages/tensorboard/compat/tensorflow_stub/dtypes.py:545: FutureWarning: Passing (type, 1) or '1type' as a synonym of type is deprecated; in a future version of numpy, it will be understood as (type, (1,)) / '(1,)type'.\n",
      "  _np_qint32 = np.dtype([(\"qint32\", np.int32, 1)])\n",
      "/Users/tribui/miniconda3/envs/minds/lib/python3.7/site-packages/tensorboard/compat/tensorflow_stub/dtypes.py:550: FutureWarning: Passing (type, 1) or '1type' as a synonym of type is deprecated; in a future version of numpy, it will be understood as (type, (1,)) / '(1,)type'.\n",
      "  np_resource = np.dtype([(\"resource\", np.ubyte, 1)])\n"
     ]
    }
   ],
   "source": [
    "# Dependencies\n",
    "import numpy as np\n",
    "import pandas as pd\n",
    "import matplotlib.pyplot as plt\n",
    "from sklearn.datasets import make_blobs, make_moons\n",
    "from sklearn.model_selection import train_test_split\n",
    "from sklearn.preprocessing import StandardScaler\n",
    "import tensorflow as tf\n",
    "\n",
    "%matplotlib inline"
   ]
  },
  {
   "cell_type": "code",
   "execution_count": 2,
   "metadata": {},
   "outputs": [],
   "source": [
    "def create_data(make_data, scaler, param_dict, n=1000):\n",
    "    \n",
    "    \"\"\"\n",
    "    Generate random data, split it into a train and test set, and scale the data.\n",
    "    \n",
    "    Parameters\n",
    "    ----------\n",
    "    make_data : function\n",
    "        Function that generates random data\n",
    "    scaler : sklearn scaler object\n",
    "        Transformer object that scale features\n",
    "    param_dict : dict\n",
    "        Keyword arguments for the data generator function\n",
    "    n : int, optional\n",
    "        Number of data samples to generate, by default 1000\n",
    "        \n",
    "    Returns\n",
    "    -------\n",
    "    numpy.ndarray\n",
    "        Scaled training set features\n",
    "    numpy.ndarray\n",
    "        Scaled training set target labels\n",
    "    numpy.ndarray\n",
    "        Scaled test set features\n",
    "    numpy.ndarray\n",
    "        Scaled test set target labels\n",
    "    sklearn scaler object\n",
    "        Fit scaler\n",
    "    \"\"\"\n",
    "    \n",
    "    # Create data\n",
    "    X, y = make_data(n_samples=n, random_state=n, **param_dict)\n",
    "    df = pd.DataFrame(X, columns=['Feature 1', 'Feature 2'])\n",
    "    df['Target'] = y\n",
    "    \n",
    "    # Plot data\n",
    "    df.plot(kind='scatter', x='Feature 1', y='Feature 2', c='Target', colormap='winter')\n",
    "    plt.show()\n",
    "    \n",
    "    # Train/test split\n",
    "    X_train, X_test, y_train, y_test = train_test_split(X, y, stratify=y, random_state=n)\n",
    "\n",
    "    # Scale data\n",
    "    X_train_scaled = scaler.fit_transform(X_train)\n",
    "    X_test_scaled = scaler.transform(X_test)\n",
    "    \n",
    "    return X_train_scaled, X_test_scaled, y_train, y_test, scaler"
   ]
  },
  {
   "cell_type": "code",
   "execution_count": 3,
   "metadata": {},
   "outputs": [
    {
     "data": {
      "image/png": "[encoded data removed]",
      "text/plain": [
       "<Figure size 432x288 with 2 Axes>"
      ]
     },
     "metadata": {
      "needs_background": "light"
     },
     "output_type": "display_data"
    },
    {
     "data": {
      "text/plain": [
       "((750, 2), (250, 2), (750,), (250,))"
      ]
     },
     "execution_count": 3,
     "metadata": {},
     "output_type": "execute_result"
    }
   ],
   "source": [
    "# Create blob data\n",
    "blob_params = {'centers': 2, 'n_features': 2}\n",
    "X_blob_train, X_blob_test, y_blob_train, y_blob_test, blob_scaler = create_data(make_blobs, \n",
    "                                                                                StandardScaler(), \n",
    "                                                                                blob_params)\n",
    "X_blob_train.shape, X_blob_test.shape, y_blob_train.shape, y_blob_test.shape"
   ]
  },
  {
   "cell_type": "code",
   "execution_count": 4,
   "metadata": {},
   "outputs": [
    {
     "data": {
      "image/png": "[encoded data removed]",
      "text/plain": [
       "<Figure size 432x288 with 2 Axes>"
      ]
     },
     "metadata": {
      "needs_background": "light"
     },
     "output_type": "display_data"
    },
    {
     "data": {
      "text/plain": [
       "((750, 2), (250, 2), (750,), (250,))"
      ]
     },
     "execution_count": 4,
     "metadata": {},
     "output_type": "execute_result"
    }
   ],
   "source": [
    "# Create moon-shaped data\n",
    "moon_params = {'noise': 0.08}\n",
    "X_moon_train, X_moon_test, y_moon_train, y_moon_test, moon_scaler = create_data(make_moons, \n",
    "                                                                                StandardScaler(), \n",
    "                                                                                moon_params)\n",
    "X_moon_train.shape, X_moon_test.shape, y_moon_train.shape, y_moon_test.shape"
   ]
  },
  {
   "cell_type": "markdown",
   "metadata": {},
   "source": [
    "### Single-layer single-neuron neural network"
   ]
  },
  {
   "cell_type": "code",
   "execution_count": 5,
   "metadata": {},
   "outputs": [
    {
     "name": "stdout",
     "output_type": "stream",
     "text": [
      "WARNING:tensorflow:From /Users/tribui/miniconda3/envs/minds/lib/python3.7/site-packages/tensorflow/python/ops/init_ops.py:1251: calling VarianceScaling.__init__ (from tensorflow.python.ops.init_ops) with dtype is deprecated and will be removed in a future version.\n",
      "Instructions for updating:\n",
      "Call initializer instance with the dtype argument instead of passing it to the constructor\n",
      "Model: \"sequential\"\n",
      "_________________________________________________________________\n",
      "Layer (type)                 Output Shape              Param #   \n",
      "=================================================================\n",
      "dense (Dense)                (None, 1)                 3         \n",
      "_________________________________________________________________\n",
      "dense_1 (Dense)              (None, 1)                 2         \n",
      "=================================================================\n",
      "Total params: 5\n",
      "Trainable params: 5\n",
      "Non-trainable params: 0\n",
      "_________________________________________________________________\n"
     ]
    }
   ],
   "source": [
    "# Sequential NN model\n",
    "nn1 = tf.keras.models.Sequential()\n",
    "\n",
    "# Add input layer with 2 features and hidden layer with 1 neuron\n",
    "in_layer = tf.keras.layers.Dense(units=1, activation='relu', input_dim=2)\n",
    "nn1.add(in_layer)\n",
    "\n",
    "# Add output layer\n",
    "out_layer = tf.keras.layers.Dense(units=1, activation='sigmoid')\n",
    "nn1.add(out_layer)\n",
    "\n",
    "# Show model structure\n",
    "nn1.summary()"
   ]
  },
  {
   "cell_type": "code",
   "execution_count": 6,
   "metadata": {},
   "outputs": [
    {
     "name": "stdout",
     "output_type": "stream",
     "text": [
      "WARNING:tensorflow:From /Users/tribui/miniconda3/envs/minds/lib/python3.7/site-packages/tensorflow/python/ops/nn_impl.py:180: add_dispatch_support.<locals>.wrapper (from tensorflow.python.ops.array_ops) is deprecated and will be removed in a future version.\n",
      "Instructions for updating:\n",
      "Use tf.where in 2.0, which has the same broadcast rule as np.where\n"
     ]
    }
   ],
   "source": [
    "# Compile model\n",
    "nn1.compile(optimizer='adam', loss='binary_crossentropy', metrics=['accuracy'])"
   ]
  },
  {
   "cell_type": "markdown",
   "metadata": {},
   "source": [
    "### Train model on blob data"
   ]
  },
  {
   "cell_type": "code",
   "execution_count": 7,
   "metadata": {},
   "outputs": [
    {
     "name": "stdout",
     "output_type": "stream",
     "text": [
      "Epoch 1/100\n",
      "750/750 [==============================] - 0s 187us/sample - loss: 0.8689 - acc: 0.0000e+00\n",
      "Epoch 2/100\n",
      "750/750 [==============================] - 0s 65us/sample - loss: 0.8473 - acc: 0.0000e+00\n",
      "Epoch 3/100\n",
      "750/750 [==============================] - 0s 54us/sample - loss: 0.8277 - acc: 0.0000e+00\n",
      "Epoch 4/100\n",
      "750/750 [==============================] - 0s 47us/sample - loss: 0.8106 - acc: 0.0000e+00\n",
      "Epoch 5/100\n",
      "750/750 [==============================] - 0s 56us/sample - loss: 0.7951 - acc: 0.0000e+00\n",
      "Epoch 6/100\n",
      "750/750 [==============================] - 0s 56us/sample - loss: 0.7814 - acc: 0.0000e+00\n",
      "Epoch 7/100\n",
      "750/750 [==============================] - 0s 55us/sample - loss: 0.7693 - acc: 0.0000e+00\n",
      "Epoch 8/100\n",
      "750/750 [==============================] - 0s 65us/sample - loss: 0.7583 - acc: 0.0027\n",
      "Epoch 9/100\n",
      "750/750 [==============================] - 0s 55us/sample - loss: 0.7485 - acc: 0.0107\n",
      "Epoch 10/100\n",
      "750/750 [==============================] - 0s 57us/sample - loss: 0.7395 - acc: 0.0333\n",
      "Epoch 11/100\n",
      "750/750 [==============================] - 0s 57us/sample - loss: 0.7313 - acc: 0.0600\n",
      "Epoch 12/100\n",
      "750/750 [==============================] - 0s 59us/sample - loss: 0.7239 - acc: 0.1133\n",
      "Epoch 13/100\n",
      "750/750 [==============================] - 0s 52us/sample - loss: 0.7172 - acc: 0.1880\n",
      "Epoch 14/100\n",
      "750/750 [==============================] - 0s 70us/sample - loss: 0.7111 - acc: 0.2760\n",
      "Epoch 15/100\n",
      "750/750 [==============================] - 0s 55us/sample - loss: 0.7058 - acc: 0.3640\n",
      "Epoch 16/100\n",
      "750/750 [==============================] - 0s 54us/sample - loss: 0.7017 - acc: 0.4227\n",
      "Epoch 17/100\n",
      "750/750 [==============================] - 0s 55us/sample - loss: 0.6987 - acc: 0.4653\n",
      "Epoch 18/100\n",
      "750/750 [==============================] - 0s 54us/sample - loss: 0.6967 - acc: 0.4827\n",
      "Epoch 19/100\n",
      "750/750 [==============================] - 0s 55us/sample - loss: 0.6956 - acc: 0.4853\n",
      "Epoch 20/100\n",
      "750/750 [==============================] - 0s 56us/sample - loss: 0.6950 - acc: 0.4907\n",
      "Epoch 21/100\n",
      "750/750 [==============================] - 0s 60us/sample - loss: 0.6946 - acc: 0.4933\n",
      "Epoch 22/100\n",
      "750/750 [==============================] - 0s 180us/sample - loss: 0.6942 - acc: 0.4933\n",
      "Epoch 23/100\n",
      "750/750 [==============================] - 0s 58us/sample - loss: 0.6940 - acc: 0.4933\n",
      "Epoch 24/100\n",
      "750/750 [==============================] - 0s 51us/sample - loss: 0.6939 - acc: 0.4933\n",
      "Epoch 25/100\n",
      "750/750 [==============================] - 0s 54us/sample - loss: 0.6938 - acc: 0.4933\n",
      "Epoch 26/100\n",
      "750/750 [==============================] - 0s 59us/sample - loss: 0.6937 - acc: 0.4933\n",
      "Epoch 27/100\n",
      "750/750 [==============================] - 0s 189us/sample - loss: 0.6936 - acc: 0.4933\n",
      "Epoch 28/100\n",
      "750/750 [==============================] - 0s 117us/sample - loss: 0.6935 - acc: 0.4933\n",
      "Epoch 29/100\n",
      "750/750 [==============================] - 0s 349us/sample - loss: 0.6935 - acc: 0.4933\n",
      "Epoch 30/100\n",
      "750/750 [==============================] - 0s 55us/sample - loss: 0.6935 - acc: 0.4933\n",
      "Epoch 31/100\n",
      "750/750 [==============================] - 0s 45us/sample - loss: 0.6935 - acc: 0.4933\n",
      "Epoch 32/100\n",
      "750/750 [==============================] - 0s 53us/sample - loss: 0.6934 - acc: 0.4933\n",
      "Epoch 33/100\n",
      "750/750 [==============================] - 0s 60us/sample - loss: 0.6934 - acc: 0.4933\n",
      "Epoch 34/100\n",
      "750/750 [==============================] - 0s 58us/sample - loss: 0.6934 - acc: 0.4933\n",
      "Epoch 35/100\n",
      "750/750 [==============================] - 0s 55us/sample - loss: 0.6934 - acc: 0.4933\n",
      "Epoch 36/100\n",
      "750/750 [==============================] - 0s 78us/sample - loss: 0.6933 - acc: 0.4933\n",
      "Epoch 37/100\n",
      "750/750 [==============================] - 0s 110us/sample - loss: 0.6933 - acc: 0.4933\n",
      "Epoch 38/100\n",
      "750/750 [==============================] - 0s 230us/sample - loss: 0.6933 - acc: 0.4933\n",
      "Epoch 39/100\n",
      "750/750 [==============================] - 0s 79us/sample - loss: 0.6933 - acc: 0.4933\n",
      "Epoch 40/100\n",
      "750/750 [==============================] - 0s 56us/sample - loss: 0.6933 - acc: 0.4933\n",
      "Epoch 41/100\n",
      "750/750 [==============================] - 0s 50us/sample - loss: 0.6933 - acc: 0.4933\n",
      "Epoch 42/100\n",
      "750/750 [==============================] - 0s 90us/sample - loss: 0.6933 - acc: 0.4933\n",
      "Epoch 43/100\n",
      "750/750 [==============================] - 0s 199us/sample - loss: 0.6933 - acc: 0.4933\n",
      "Epoch 44/100\n",
      "750/750 [==============================] - 0s 123us/sample - loss: 0.6933 - acc: 0.4933\n",
      "Epoch 45/100\n",
      "750/750 [==============================] - 0s 59us/sample - loss: 0.6932 - acc: 0.4933\n",
      "Epoch 46/100\n",
      "750/750 [==============================] - 0s 60us/sample - loss: 0.6932 - acc: 0.4933\n",
      "Epoch 47/100\n",
      "750/750 [==============================] - 0s 54us/sample - loss: 0.6933 - acc: 0.4947\n",
      "Epoch 48/100\n",
      "750/750 [==============================] - 0s 61us/sample - loss: 0.6933 - acc: 0.4947\n",
      "Epoch 49/100\n",
      "750/750 [==============================] - 0s 51us/sample - loss: 0.6932 - acc: 0.4947\n",
      "Epoch 50/100\n",
      "750/750 [==============================] - 0s 49us/sample - loss: 0.6932 - acc: 0.4933\n",
      "Epoch 51/100\n",
      "750/750 [==============================] - 0s 55us/sample - loss: 0.6932 - acc: 0.4960\n",
      "Epoch 52/100\n",
      "750/750 [==============================] - 0s 55us/sample - loss: 0.6932 - acc: 0.4960\n",
      "Epoch 53/100\n",
      "750/750 [==============================] - 0s 56us/sample - loss: 0.6932 - acc: 0.4960\n",
      "Epoch 54/100\n",
      "750/750 [==============================] - 0s 115us/sample - loss: 0.6932 - acc: 0.4960\n",
      "Epoch 55/100\n",
      "750/750 [==============================] - 0s 188us/sample - loss: 0.6932 - acc: 0.4960\n",
      "Epoch 56/100\n",
      "750/750 [==============================] - 0s 85us/sample - loss: 0.6932 - acc: 0.4960\n",
      "Epoch 57/100\n",
      "750/750 [==============================] - 0s 60us/sample - loss: 0.6932 - acc: 0.4960\n",
      "Epoch 58/100\n",
      "750/750 [==============================] - 0s 57us/sample - loss: 0.6932 - acc: 0.4960\n",
      "Epoch 59/100\n",
      "750/750 [==============================] - 0s 59us/sample - loss: 0.6932 - acc: 0.4960\n",
      "Epoch 60/100\n",
      "750/750 [==============================] - 0s 64us/sample - loss: 0.6932 - acc: 0.4960\n",
      "Epoch 61/100\n",
      "750/750 [==============================] - 0s 67us/sample - loss: 0.6932 - acc: 0.4960\n",
      "Epoch 62/100\n",
      "750/750 [==============================] - 0s 104us/sample - loss: 0.6932 - acc: 0.4960\n",
      "Epoch 63/100\n",
      "750/750 [==============================] - 0s 69us/sample - loss: 0.6932 - acc: 0.4960\n",
      "Epoch 64/100\n",
      "750/750 [==============================] - 0s 72us/sample - loss: 0.6932 - acc: 0.4960\n",
      "Epoch 65/100\n",
      "750/750 [==============================] - 0s 118us/sample - loss: 0.6932 - acc: 0.4960\n",
      "Epoch 66/100\n",
      "750/750 [==============================] - 0s 209us/sample - loss: 0.6932 - acc: 0.4987\n",
      "Epoch 67/100\n",
      "750/750 [==============================] - 0s 118us/sample - loss: 0.6932 - acc: 0.4987\n",
      "Epoch 68/100\n",
      "750/750 [==============================] - 0s 62us/sample - loss: 0.6932 - acc: 0.4987\n",
      "Epoch 69/100\n",
      "750/750 [==============================] - 0s 56us/sample - loss: 0.6932 - acc: 0.5000\n",
      "Epoch 70/100\n",
      "750/750 [==============================] - 0s 65us/sample - loss: 0.6932 - acc: 0.4987\n",
      "Epoch 71/100\n",
      "750/750 [==============================] - 0s 50us/sample - loss: 0.6932 - acc: 0.4987\n",
      "Epoch 72/100\n",
      "750/750 [==============================] - 0s 96us/sample - loss: 0.6932 - acc: 0.4987\n",
      "Epoch 73/100\n",
      "750/750 [==============================] - 0s 152us/sample - loss: 0.6932 - acc: 0.4987\n",
      "Epoch 74/100\n",
      "750/750 [==============================] - 0s 254us/sample - loss: 0.6932 - acc: 0.4987\n",
      "Epoch 75/100\n",
      "750/750 [==============================] - 0s 225us/sample - loss: 0.6932 - acc: 0.4987\n",
      "Epoch 76/100\n",
      "750/750 [==============================] - 0s 103us/sample - loss: 0.6932 - acc: 0.4733\n",
      "Epoch 77/100\n",
      "750/750 [==============================] - 0s 88us/sample - loss: 0.6932 - acc: 0.4880\n",
      "Epoch 78/100\n",
      "750/750 [==============================] - 0s 140us/sample - loss: 0.6932 - acc: 0.4707\n",
      "Epoch 79/100\n",
      "750/750 [==============================] - 0s 138us/sample - loss: 0.6932 - acc: 0.5000\n",
      "Epoch 80/100\n",
      "750/750 [==============================] - 0s 128us/sample - loss: 0.6932 - acc: 0.4827\n",
      "Epoch 81/100\n",
      "750/750 [==============================] - 0s 101us/sample - loss: 0.6932 - acc: 0.4987\n",
      "Epoch 82/100\n",
      "750/750 [==============================] - 0s 120us/sample - loss: 0.6932 - acc: 0.4827\n",
      "Epoch 83/100\n",
      "750/750 [==============================] - 0s 85us/sample - loss: 0.6932 - acc: 0.4933\n",
      "Epoch 84/100\n",
      "750/750 [==============================] - 0s 81us/sample - loss: 0.6932 - acc: 0.4987\n",
      "Epoch 85/100\n",
      "750/750 [==============================] - ETA: 0s - loss: 0.6932 - acc: 0.495 - 0s 81us/sample - loss: 0.6932 - acc: 0.4987\n",
      "Epoch 86/100\n",
      "750/750 [==============================] - 0s 69us/sample - loss: 0.6932 - acc: 0.5000\n",
      "Epoch 87/100\n",
      "750/750 [==============================] - 0s 102us/sample - loss: 0.6932 - acc: 0.5000\n",
      "Epoch 88/100\n",
      "750/750 [==============================] - 0s 94us/sample - loss: 0.6932 - acc: 0.4987\n",
      "Epoch 89/100\n",
      "750/750 [==============================] - 0s 82us/sample - loss: 0.6932 - acc: 0.4987\n",
      "Epoch 90/100\n",
      "750/750 [==============================] - 0s 102us/sample - loss: 0.6932 - acc: 0.5000\n",
      "Epoch 91/100\n",
      "750/750 [==============================] - 0s 60us/sample - loss: 0.6932 - acc: 0.5000\n",
      "Epoch 92/100\n",
      "750/750 [==============================] - 0s 40us/sample - loss: 0.6933 - acc: 0.4573\n",
      "Epoch 93/100\n",
      "750/750 [==============================] - 0s 36us/sample - loss: 0.6932 - acc: 0.4813\n",
      "Epoch 94/100\n",
      "750/750 [==============================] - 0s 39us/sample - loss: 0.6932 - acc: 0.5000\n",
      "Epoch 95/100\n",
      "750/750 [==============================] - 0s 37us/sample - loss: 0.6932 - acc: 0.5000\n",
      "Epoch 96/100\n",
      "750/750 [==============================] - 0s 33us/sample - loss: 0.6931 - acc: 0.5000\n",
      "Epoch 97/100\n",
      "750/750 [==============================] - 0s 35us/sample - loss: 0.6932 - acc: 0.4787\n",
      "Epoch 98/100\n",
      "750/750 [==============================] - 0s 32us/sample - loss: 0.6932 - acc: 0.4867\n",
      "Epoch 99/100\n",
      "750/750 [==============================] - 0s 34us/sample - loss: 0.6932 - acc: 0.4840\n",
      "Epoch 100/100\n",
      "750/750 [==============================] - 0s 51us/sample - loss: 0.6932 - acc: 0.4653\n"
     ]
    }
   ],
   "source": [
    "# Train model on blob data\n",
    "nn1_blob = nn1.fit(X_blob_train, y_blob_train, epochs=100)"
   ]
  },
  {
   "cell_type": "code",
   "execution_count": 8,
   "metadata": {},
   "outputs": [
    {
     "data": {
      "image/png": "[encoded data removed]",
      "text/plain": [
       "<Figure size 864x432 with 2 Axes>"
      ]
     },
     "metadata": {
      "needs_background": "light"
     },
     "output_type": "display_data"
    },
    {
     "name": "stdout",
     "output_type": "stream",
     "text": [
      "250/250 [==============================] - 0s 178us/sample - loss: 0.6931 - acc: 0.5000\n"
     ]
    },
    {
     "data": {
      "text/plain": [
       "[0.6931472482681275, 0.5]"
      ]
     },
     "execution_count": 8,
     "metadata": {},
     "output_type": "execute_result"
    }
   ],
   "source": [
    "# Plot training loss and accuracy\n",
    "nn1_blob_hist = pd.DataFrame(nn1_blob.history, index=range(1, len(nn1_blob.history['loss']) + 1))\n",
    "nn1_blob_hist.plot(subplots=True, figsize=(12, 6), title='Blob Data Training')\n",
    "plt.xticks(rotation=0, ha='center')\n",
    "plt.show()\n",
    "\n",
    "# Evaluate model on test set\n",
    "nn1.evaluate(X_blob_test, y_blob_test) # loss and accuracy"
   ]
  },
  {
   "cell_type": "markdown",
   "metadata": {},
   "source": [
    "### Train model on moon data"
   ]
  },
  {
   "cell_type": "code",
   "execution_count": 9,
   "metadata": {},
   "outputs": [
    {
     "name": "stdout",
     "output_type": "stream",
     "text": [
      "Epoch 1/100\n",
      "750/750 [==============================] - 0s 40us/sample - loss: 0.6921 - acc: 0.5333\n",
      "Epoch 2/100\n",
      "750/750 [==============================] - 0s 37us/sample - loss: 0.6894 - acc: 0.6453\n",
      "Epoch 3/100\n",
      "750/750 [==============================] - 0s 48us/sample - loss: 0.6833 - acc: 0.7693\n",
      "Epoch 4/100\n",
      "750/750 [==============================] - 0s 45us/sample - loss: 0.6735 - acc: 0.8280\n",
      "Epoch 5/100\n",
      "750/750 [==============================] - 0s 35us/sample - loss: 0.6602 - acc: 0.8640\n",
      "Epoch 6/100\n",
      "750/750 [==============================] - 0s 41us/sample - loss: 0.6441 - acc: 0.8813\n",
      "Epoch 7/100\n",
      "750/750 [==============================] - 0s 41us/sample - loss: 0.6254 - acc: 0.8867\n",
      "Epoch 8/100\n",
      "750/750 [==============================] - 0s 42us/sample - loss: 0.6054 - acc: 0.8867\n",
      "Epoch 9/100\n",
      "750/750 [==============================] - 0s 35us/sample - loss: 0.5850 - acc: 0.8773\n",
      "Epoch 10/100\n",
      "750/750 [==============================] - 0s 38us/sample - loss: 0.5654 - acc: 0.8827\n",
      "Epoch 11/100\n",
      "750/750 [==============================] - 0s 33us/sample - loss: 0.5473 - acc: 0.8800\n",
      "Epoch 12/100\n",
      "750/750 [==============================] - 0s 34us/sample - loss: 0.5299 - acc: 0.8747\n",
      "Epoch 13/100\n",
      "750/750 [==============================] - 0s 34us/sample - loss: 0.5142 - acc: 0.8760\n",
      "Epoch 14/100\n",
      "750/750 [==============================] - 0s 34us/sample - loss: 0.5000 - acc: 0.8760\n",
      "Epoch 15/100\n",
      "750/750 [==============================] - 0s 39us/sample - loss: 0.4872 - acc: 0.8760\n",
      "Epoch 16/100\n",
      "750/750 [==============================] - 0s 46us/sample - loss: 0.4754 - acc: 0.8760\n",
      "Epoch 17/100\n",
      "750/750 [==============================] - ETA: 0s - loss: 0.4638 - acc: 0.858 - ETA: 0s - loss: 0.4666 - acc: 0.868 - 0s 264us/sample - loss: 0.4647 - acc: 0.8773\n",
      "Epoch 18/100\n",
      "750/750 [==============================] - 0s 77us/sample - loss: 0.4551 - acc: 0.8773\n",
      "Epoch 19/100\n",
      "750/750 [==============================] - 0s 61us/sample - loss: 0.4460 - acc: 0.8787\n",
      "Epoch 20/100\n",
      "750/750 [==============================] - 0s 68us/sample - loss: 0.4377 - acc: 0.8787\n",
      "Epoch 21/100\n",
      "750/750 [==============================] - 0s 86us/sample - loss: 0.4298 - acc: 0.8787\n",
      "Epoch 22/100\n",
      "750/750 [==============================] - 0s 68us/sample - loss: 0.4225 - acc: 0.8800\n",
      "Epoch 23/100\n",
      "750/750 [==============================] - 0s 63us/sample - loss: 0.4156 - acc: 0.8813\n",
      "Epoch 24/100\n",
      "750/750 [==============================] - 0s 66us/sample - loss: 0.4092 - acc: 0.8813\n",
      "Epoch 25/100\n",
      "750/750 [==============================] - 0s 67us/sample - loss: 0.4031 - acc: 0.8840\n",
      "Epoch 26/100\n",
      "750/750 [==============================] - 0s 62us/sample - loss: 0.3973 - acc: 0.8853\n",
      "Epoch 27/100\n",
      "750/750 [==============================] - 0s 63us/sample - loss: 0.3919 - acc: 0.8880\n",
      "Epoch 28/100\n",
      "750/750 [==============================] - 0s 53us/sample - loss: 0.3867 - acc: 0.8880\n",
      "Epoch 29/100\n",
      "750/750 [==============================] - 0s 51us/sample - loss: 0.3818 - acc: 0.8893\n",
      "Epoch 30/100\n",
      "750/750 [==============================] - 0s 52us/sample - loss: 0.3770 - acc: 0.8907\n",
      "Epoch 31/100\n",
      "750/750 [==============================] - 0s 50us/sample - loss: 0.3726 - acc: 0.8920\n",
      "Epoch 32/100\n",
      "750/750 [==============================] - 0s 53us/sample - loss: 0.3683 - acc: 0.8933\n",
      "Epoch 33/100\n",
      "750/750 [==============================] - 0s 54us/sample - loss: 0.3643 - acc: 0.8947\n",
      "Epoch 34/100\n",
      "750/750 [==============================] - 0s 45us/sample - loss: 0.3604 - acc: 0.8947\n",
      "Epoch 35/100\n",
      "750/750 [==============================] - 0s 52us/sample - loss: 0.3567 - acc: 0.8960\n",
      "Epoch 36/100\n",
      "750/750 [==============================] - 0s 52us/sample - loss: 0.3531 - acc: 0.8960\n",
      "Epoch 37/100\n",
      "750/750 [==============================] - 0s 51us/sample - loss: 0.3498 - acc: 0.8960\n",
      "Epoch 38/100\n",
      "750/750 [==============================] - 0s 55us/sample - loss: 0.3465 - acc: 0.8960\n",
      "Epoch 39/100\n",
      "750/750 [==============================] - 0s 53us/sample - loss: 0.3434 - acc: 0.8973\n",
      "Epoch 40/100\n",
      "750/750 [==============================] - 0s 54us/sample - loss: 0.3403 - acc: 0.8973\n",
      "Epoch 41/100\n",
      "750/750 [==============================] - 0s 50us/sample - loss: 0.3375 - acc: 0.8973\n",
      "Epoch 42/100\n",
      "750/750 [==============================] - 0s 61us/sample - loss: 0.3348 - acc: 0.8973\n",
      "Epoch 43/100\n",
      "750/750 [==============================] - 0s 52us/sample - loss: 0.3322 - acc: 0.8973\n",
      "Epoch 44/100\n",
      "750/750 [==============================] - 0s 65us/sample - loss: 0.3297 - acc: 0.8973\n",
      "Epoch 45/100\n",
      "750/750 [==============================] - 0s 145us/sample - loss: 0.3272 - acc: 0.8973\n",
      "Epoch 46/100\n",
      "750/750 [==============================] - 0s 88us/sample - loss: 0.3249 - acc: 0.8987\n",
      "Epoch 47/100\n",
      "750/750 [==============================] - 0s 130us/sample - loss: 0.3226 - acc: 0.9000\n",
      "Epoch 48/100\n",
      "750/750 [==============================] - 0s 110us/sample - loss: 0.3206 - acc: 0.9000\n",
      "Epoch 49/100\n",
      "750/750 [==============================] - 0s 64us/sample - loss: 0.3184 - acc: 0.9000\n",
      "Epoch 50/100\n",
      "750/750 [==============================] - 0s 87us/sample - loss: 0.3165 - acc: 0.8987\n",
      "Epoch 51/100\n",
      "750/750 [==============================] - 0s 52us/sample - loss: 0.3146 - acc: 0.9000\n",
      "Epoch 52/100\n",
      "750/750 [==============================] - 0s 45us/sample - loss: 0.3127 - acc: 0.9000\n",
      "Epoch 53/100\n",
      "750/750 [==============================] - 0s 49us/sample - loss: 0.3109 - acc: 0.9000\n",
      "Epoch 54/100\n",
      "750/750 [==============================] - 0s 57us/sample - loss: 0.3091 - acc: 0.9000\n",
      "Epoch 55/100\n",
      "750/750 [==============================] - 0s 52us/sample - loss: 0.3074 - acc: 0.9000\n",
      "Epoch 56/100\n",
      "750/750 [==============================] - 0s 57us/sample - loss: 0.3058 - acc: 0.8987\n",
      "Epoch 57/100\n",
      "750/750 [==============================] - 0s 51us/sample - loss: 0.3043 - acc: 0.8987\n",
      "Epoch 58/100\n",
      "750/750 [==============================] - 0s 50us/sample - loss: 0.3028 - acc: 0.9000\n",
      "Epoch 59/100\n",
      "750/750 [==============================] - 0s 54us/sample - loss: 0.3013 - acc: 0.9000\n",
      "Epoch 60/100\n",
      "750/750 [==============================] - 0s 54us/sample - loss: 0.2999 - acc: 0.9013\n",
      "Epoch 61/100\n",
      "750/750 [==============================] - 0s 60us/sample - loss: 0.2985 - acc: 0.9013\n",
      "Epoch 62/100\n",
      "750/750 [==============================] - 0s 55us/sample - loss: 0.2972 - acc: 0.9027\n",
      "Epoch 63/100\n",
      "750/750 [==============================] - 0s 60us/sample - loss: 0.2959 - acc: 0.9027\n",
      "Epoch 64/100\n",
      "750/750 [==============================] - 0s 51us/sample - loss: 0.2946 - acc: 0.9027\n",
      "Epoch 65/100\n",
      "750/750 [==============================] - 0s 51us/sample - loss: 0.2934 - acc: 0.9013\n",
      "Epoch 66/100\n",
      "750/750 [==============================] - 0s 50us/sample - loss: 0.2922 - acc: 0.9013\n",
      "Epoch 67/100\n",
      "750/750 [==============================] - 0s 50us/sample - loss: 0.2911 - acc: 0.9013\n",
      "Epoch 68/100\n",
      "750/750 [==============================] - 0s 54us/sample - loss: 0.2900 - acc: 0.9013\n",
      "Epoch 69/100\n",
      "750/750 [==============================] - 0s 57us/sample - loss: 0.2889 - acc: 0.9013\n",
      "Epoch 70/100\n",
      "750/750 [==============================] - 0s 46us/sample - loss: 0.2879 - acc: 0.9013\n",
      "Epoch 71/100\n",
      "750/750 [==============================] - 0s 55us/sample - loss: 0.2868 - acc: 0.9013\n",
      "Epoch 72/100\n",
      "750/750 [==============================] - 0s 54us/sample - loss: 0.2859 - acc: 0.9013\n",
      "Epoch 73/100\n",
      "750/750 [==============================] - 0s 54us/sample - loss: 0.2850 - acc: 0.9000\n",
      "Epoch 74/100\n",
      "750/750 [==============================] - 0s 50us/sample - loss: 0.2839 - acc: 0.9013\n",
      "Epoch 75/100\n",
      "750/750 [==============================] - 0s 61us/sample - loss: 0.2830 - acc: 0.9000\n",
      "Epoch 76/100\n",
      "750/750 [==============================] - 0s 48us/sample - loss: 0.2821 - acc: 0.9000\n",
      "Epoch 77/100\n",
      "750/750 [==============================] - 0s 51us/sample - loss: 0.2813 - acc: 0.9013\n",
      "Epoch 78/100\n",
      "750/750 [==============================] - 0s 45us/sample - loss: 0.2804 - acc: 0.9000\n",
      "Epoch 79/100\n",
      "750/750 [==============================] - 0s 49us/sample - loss: 0.2796 - acc: 0.9000\n",
      "Epoch 80/100\n",
      "750/750 [==============================] - 0s 56us/sample - loss: 0.2788 - acc: 0.8987\n",
      "Epoch 81/100\n",
      "750/750 [==============================] - 0s 58us/sample - loss: 0.2781 - acc: 0.9013\n",
      "Epoch 82/100\n",
      "750/750 [==============================] - 0s 60us/sample - loss: 0.2773 - acc: 0.9027\n",
      "Epoch 83/100\n",
      "750/750 [==============================] - 0s 53us/sample - loss: 0.2767 - acc: 0.9000\n",
      "Epoch 84/100\n",
      "750/750 [==============================] - 0s 50us/sample - loss: 0.2760 - acc: 0.9013\n",
      "Epoch 85/100\n",
      "750/750 [==============================] - 0s 52us/sample - loss: 0.2753 - acc: 0.9013\n",
      "Epoch 86/100\n",
      "750/750 [==============================] - 0s 52us/sample - loss: 0.2746 - acc: 0.9013\n",
      "Epoch 87/100\n",
      "750/750 [==============================] - 0s 51us/sample - loss: 0.2740 - acc: 0.9013\n",
      "Epoch 88/100\n",
      "750/750 [==============================] - 0s 43us/sample - loss: 0.2733 - acc: 0.9013\n",
      "Epoch 89/100\n",
      "750/750 [==============================] - 0s 64us/sample - loss: 0.2727 - acc: 0.9013\n",
      "Epoch 90/100\n",
      "750/750 [==============================] - 0s 50us/sample - loss: 0.2722 - acc: 0.9013\n",
      "Epoch 91/100\n",
      "750/750 [==============================] - 0s 62us/sample - loss: 0.2716 - acc: 0.9013\n",
      "Epoch 92/100\n",
      "750/750 [==============================] - 0s 56us/sample - loss: 0.2711 - acc: 0.9013\n",
      "Epoch 93/100\n",
      "750/750 [==============================] - 0s 64us/sample - loss: 0.2705 - acc: 0.9013\n",
      "Epoch 94/100\n",
      "750/750 [==============================] - 0s 61us/sample - loss: 0.2700 - acc: 0.9013\n",
      "Epoch 95/100\n",
      "750/750 [==============================] - 0s 62us/sample - loss: 0.2694 - acc: 0.9013\n",
      "Epoch 96/100\n",
      "750/750 [==============================] - 0s 50us/sample - loss: 0.2689 - acc: 0.9013\n",
      "Epoch 97/100\n",
      "750/750 [==============================] - 0s 50us/sample - loss: 0.2684 - acc: 0.9013\n",
      "Epoch 98/100\n",
      "750/750 [==============================] - 0s 60us/sample - loss: 0.2680 - acc: 0.9013\n",
      "Epoch 99/100\n",
      "750/750 [==============================] - 0s 56us/sample - loss: 0.2675 - acc: 0.9013\n",
      "Epoch 100/100\n",
      "750/750 [==============================] - 0s 55us/sample - loss: 0.2670 - acc: 0.9013\n"
     ]
    }
   ],
   "source": [
    "# Train the same model on the moon data\n",
    "nn1_moon = nn1.fit(X_moon_train, y_moon_train, epochs=100, shuffle=True)"
   ]
  },
  {
   "cell_type": "code",
   "execution_count": 10,
   "metadata": {},
   "outputs": [
    {
     "data": {
      "image/png": "[encoded data removed]",
      "text/plain": [
       "<Figure size 864x432 with 2 Axes>"
      ]
     },
     "metadata": {
      "needs_background": "light"
     },
     "output_type": "display_data"
    },
    {
     "name": "stdout",
     "output_type": "stream",
     "text": [
      "250/250 [==============================] - 0s 43us/sample - loss: 0.3693 - acc: 0.8400\n"
     ]
    },
    {
     "data": {
      "text/plain": [
       "[0.3693027410507202, 0.84]"
      ]
     },
     "execution_count": 10,
     "metadata": {},
     "output_type": "execute_result"
    }
   ],
   "source": [
    "# Plot training loss and accuracy\n",
    "nn1_moon_hist = pd.DataFrame(nn1_moon.history, index=range(1, len(nn1_moon.history['loss']) + 1))\n",
    "nn1_moon_hist.plot(subplots=True, figsize=(12, 6), title='Moon Data Training')\n",
    "plt.xticks(rotation=0, ha='center')\n",
    "plt.show()\n",
    "\n",
    "# Evaluate model on test set\n",
    "nn1.evaluate(X_moon_test, y_moon_test) # loss and accuracy"
   ]
  },
  {
   "cell_type": "code",
   "execution_count": null,
   "metadata": {},
   "outputs": [],
   "source": []
  }
 ],
 "metadata": {
  "kernelspec": {
   "display_name": "Python [conda env:minds] *",
   "language": "python",
   "name": "conda-env-minds-py"
  },
  "language_info": {
   "codemirror_mode": {
    "name": "ipython",
    "version": 3
   },
   "file_extension": ".py",
   "mimetype": "text/x-python",
   "name": "python",
   "nbconvert_exporter": "python",
   "pygments_lexer": "ipython3",
   "version": "3.7.9"
  }
 },
 "nbformat": 4,
 "nbformat_minor": 4
}
